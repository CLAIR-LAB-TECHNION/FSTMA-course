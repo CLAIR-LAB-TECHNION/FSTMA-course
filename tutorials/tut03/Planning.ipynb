{
 "cells": [
  {
   "cell_type": "markdown",
   "id": "1f0f00fd-38c2-40fe-bfc1-99f167abb0f0",
   "metadata": {},
   "source": [
    "# AI Planning"
   ]
  },
  {
   "cell_type": "markdown",
   "id": "6c7e98a5-e53c-40de-a4cb-368b0dc5f278",
   "metadata": {},
   "source": [
    "## Introduction"
   ]
  },
  {
   "cell_type": "markdown",
   "id": "ae82180f-4643-44ed-95f6-83d27f037a6c",
   "metadata": {},
   "source": [
    "AI Planning is a field of Artificial Intelligence which explores the process of using autonomous techniques to solve planning and scheduling problems. A planning problem is one in which we have some initial starting state, which we wish to transform into a desired goal state through the application of a sequence of actions.\n",
    "\n",
    "One branch of planning is State-Space Search in which we define a domain of possible states in our problem, and actions which result in transitioning between states, with the goal being to reach a predifined goal state(s)."
   ]
  },
  {
   "cell_type": "markdown",
   "id": "6976993f-a86f-4c37-b4cd-2255c5615a8b",
   "metadata": {},
   "source": [
    "## Best First Search"
   ]
  },
  {
   "cell_type": "markdown",
   "id": "3504d3b3-0708-47bb-bce2-8c8b3e437455",
   "metadata": {},
   "source": [
    "Best First Search is a family of search algorithms that are particularly useful for State-Space exploration.\n",
    "\n",
    "The goal of Best First Search is to find a sequence of actions that will move us from the starting state to the goal state, doing so by exploring at every step the unexplored state which has the lowest cost as defined by some cost function. Often the cost function will include a heuristic component which will allow us to estimate the cost of the path from the current state to a goal state."
   ]
  },
  {
   "cell_type": "code",
   "execution_count": 1,
   "id": "54f9d6bb-914b-4066-a850-98e5ff77e156",
   "metadata": {},
   "outputs": [
    {
     "name": "stdout",
     "output_type": "stream",
     "text": [
      "Collecting git+https://github.com/sarah-keren/AI_agents\n",
      "  Cloning https://github.com/sarah-keren/AI_agents to c:\\users\\shyur\\appdata\\local\\temp\\pip-req-build-ck9_f9p0\n",
      "  Resolved https://github.com/sarah-keren/AI_agents to commit e325c1e2ab248717665822a03c60c1dd8d067a90\n",
      "  Installing build dependencies: started\n",
      "  Installing build dependencies: finished with status 'done'\n",
      "  Getting requirements to build wheel: started\n",
      "  Getting requirements to build wheel: finished with status 'done'\n",
      "  Installing backend dependencies: started\n",
      "  Installing backend dependencies: finished with status 'done'\n",
      "  Preparing metadata (pyproject.toml): started\n",
      "  Preparing metadata (pyproject.toml): finished with status 'done'\n",
      "Requirement already satisfied: pygame==2.1.2 in d:\\anaconda3\\envs\\fstma-tut03\\lib\\site-packages (from AI-agents==0.0.0) (2.1.2)\n",
      "Requirement already satisfied: gym==0.23.0 in d:\\anaconda3\\envs\\fstma-tut03\\lib\\site-packages (from AI-agents==0.0.0) (0.23.0)\n",
      "Requirement already satisfied: gym-notices>=0.0.4 in d:\\anaconda3\\envs\\fstma-tut03\\lib\\site-packages (from gym==0.23.0->AI-agents==0.0.0) (0.0.6)\n",
      "Requirement already satisfied: cloudpickle>=1.2.0 in d:\\anaconda3\\envs\\fstma-tut03\\lib\\site-packages (from gym==0.23.0->AI-agents==0.0.0) (2.0.0)\n",
      "Requirement already satisfied: numpy>=1.18.0 in d:\\anaconda3\\envs\\fstma-tut03\\lib\\site-packages (from gym==0.23.0->AI-agents==0.0.0) (1.22.3)\n",
      "Requirement already satisfied: importlib-metadata>=4.10.0 in d:\\anaconda3\\envs\\fstma-tut03\\lib\\site-packages (from gym==0.23.0->AI-agents==0.0.0) (4.11.3)\n",
      "Requirement already satisfied: zipp>=0.5 in d:\\anaconda3\\envs\\fstma-tut03\\lib\\site-packages (from importlib-metadata>=4.10.0->gym==0.23.0->AI-agents==0.0.0) (3.8.0)\n"
     ]
    },
    {
     "name": "stderr",
     "output_type": "stream",
     "text": [
      "  Running command git clone --filter=blob:none --quiet https://github.com/sarah-keren/AI_agents 'C:\\Users\\shyur\\AppData\\Local\\Temp\\pip-req-build-ck9_f9p0'\n"
     ]
    }
   ],
   "source": [
    "!pip install git+https://github.com/sarah-keren/AI_agents"
   ]
  },
  {
   "cell_type": "code",
   "execution_count": 2,
   "id": "23994002-a1b4-4cf8-bfb5-abed07af673f",
   "metadata": {},
   "outputs": [
    {
     "name": "stdout",
     "output_type": "stream",
     "text": [
      "+---------+\n",
      "|R: | : :G|\n",
      "| : | : : |\n",
      "| : :\u001b[43m \u001b[0m: : |\n",
      "| | : | : |\n",
      "|\u001b[35mY\u001b[0m| : |\u001b[34;1mB\u001b[0m: |\n",
      "+---------+\n",
      "\n"
     ]
    }
   ],
   "source": [
    "import gym\n",
    "\n",
    "taxi_env = gym.make(\"Taxi-v3\").env\n",
    "\n",
    "taxi_env.reset ()\n",
    "taxi_env.render()"
   ]
  },
  {
   "cell_type": "code",
   "execution_count": 3,
   "id": "045fe020-a55c-4b04-b5b4-023ccdbccb54",
   "metadata": {},
   "outputs": [
    {
     "name": "stdout",
     "output_type": "stream",
     "text": [
      "State: 177\n",
      "+---------+\n",
      "|R: | : :G|\n",
      "| : | : : |\n",
      "| : :\u001b[43m \u001b[0m: : |\n",
      "| | : | : |\n",
      "|\u001b[35mY\u001b[0m| : |\u001b[34;1mB\u001b[0m: |\n",
      "+---------+\n",
      "\n",
      "+---------+\n",
      "|R: | : :\u001b[35mG\u001b[0m|\n",
      "| : | :\u001b[42m_\u001b[0m: |\n",
      "| : : : : |\n",
      "| | : | : |\n",
      "|Y| : |B: |\n",
      "+---------+\n",
      "\n"
     ]
    }
   ],
   "source": [
    "state = taxi_env.encode(1, 3, 4, 1) # (taxi row, taxi column, passenger index, destination index)\n",
    "print(\"State:\", state)\n",
    "\n",
    "taxi_env.render()\n",
    "taxi_env.unwrapped.s = state\n",
    "taxi_env.render()"
   ]
  },
  {
   "cell_type": "code",
   "execution_count": 4,
   "id": "07b6e89a-7eaf-4f1c-9ca3-f3b4c6f5be32",
   "metadata": {},
   "outputs": [],
   "source": [
    "import gym\n",
    "from AI_agents.Environments.gym_problem import GymProblem\n",
    "from AI_agents.Search.best_first_search import best_first_search, breadth_first_search, depth_first_search, a_star, depth_first_search_l\n",
    "import AI_agents.Search.utils as utils\n",
    "import AI_agents.Search.defs as defs\n",
    "import AI_agents.Search.heuristic as heuristic\n"
   ]
  },
  {
   "cell_type": "markdown",
   "id": "a1802032-330c-4a10-95cc-b29d745ac92e",
   "metadata": {
    "id": "0fmQBRQQ_SoC"
   },
   "source": [
    "The following will create and recreate the taxi environment we want to explore"
   ]
  },
  {
   "cell_type": "code",
   "execution_count": 5,
   "id": "c9fa0b72-3852-44a6-8c52-c1c1e6dd4ac1",
   "metadata": {
    "id": "YcMY5uWD_EVq"
   },
   "outputs": [],
   "source": [
    "def create_env():\n",
    "\n",
    "    # define the environment\n",
    "    taxi_env = gym.make(\"Taxi-v3\").env\n",
    "    taxi_env.reset()\n",
    "    init_state = taxi_env.encode(0, 3, 4, 1)  # (taxi row, taxi column, passenger index, destination index)\n",
    "    taxi_row, taxi_col, pass_idx, dest_idx = taxi_env.decode(init_state)\n",
    "    print(taxi_row)\n",
    "    taxi_env.unwrapped.s = init_state\n",
    "    print(\"State:\", init_state)\n",
    "    taxi_env.render()\n",
    "    return taxi_env \n"
   ]
  },
  {
   "cell_type": "markdown",
   "id": "6475623c-dcc5-4876-91aa-406daa42db40",
   "metadata": {},
   "source": [
    "## Variations of Best First Search"
   ]
  },
  {
   "cell_type": "markdown",
   "id": "85309770-d0fe-448b-8962-7401955d3141",
   "metadata": {
    "id": "gLwnkW4N-5fW"
   },
   "source": [
    "Breadth First Search and Depth Fist Search can technically also be seen as special cases of Best First Search. In the former, the heuristic function assigns lower values the earlier a node was expanded, and in the latter the opposite is true: lower values are assigned to nodes that were discovered later. In practice this is done with LIFO and FIFO queues.\n",
    "\n",
    "![BFS](images/bfs.gif) [stonybrook]\n"
   ]
  },
  {
   "cell_type": "markdown",
   "id": "d8e8486b-ee23-4830-84bf-0b7e0bbe18df",
   "metadata": {},
   "source": [
    "Let's run Breadth First Search:"
   ]
  },
  {
   "cell_type": "code",
   "execution_count": 6,
   "id": "921dfca0-aa10-4a8b-90d6-749256e3d895",
   "metadata": {
    "colab": {
     "base_uri": "https://localhost:8080/"
    },
    "id": "B4xAGGAuA22S",
    "outputId": "8d571cf8-71e5-425f-ed56-bb3bfce60fb7"
   },
   "outputs": [
    {
     "name": "stdout",
     "output_type": "stream",
     "text": [
      "0\n",
      "State: 77\n",
      "+---------+\n",
      "|R: | :\u001b[42m_\u001b[0m:\u001b[35mG\u001b[0m|\n",
      "| : | : : |\n",
      "| : : : : |\n",
      "| | : | : |\n",
      "|Y| : |B: |\n",
      "+---------+\n",
      "\n",
      "best_first_design(node) node number 1 cur_node:<Node 77>\n",
      "InMethod best_first_design(node): explored_count:1 cur_node:<Node 77>, node_eval_time:0.000\n",
      "best_first_design(node) node number 2 cur_node:<Node 177>\n",
      "InMethod best_first_design(node): explored_count:2 cur_node:<Node 177>, node_eval_time:0.000\n",
      "best_first_design(node) node number 3 cur_node:<Node 97>\n",
      "InMethod best_first_design(node): explored_count:3 cur_node:<Node 97>, node_eval_time:0.000\n",
      "best_first_design(node) node number 4 cur_node:<Node 57>\n",
      "InMethod best_first_design(node): explored_count:4 cur_node:<Node 57>, node_eval_time:0.000\n",
      "best_first_design(node) node number 5 cur_node:<Node 277>\n",
      "InMethod best_first_design(node): explored_count:5 cur_node:<Node 277>, node_eval_time:0.000\n",
      "best_first_design(node) node number 6 cur_node:<Node 197>\n",
      "InMethod best_first_design(node): explored_count:6 cur_node:<Node 197>, node_eval_time:0.000\n",
      "best_first_design(node) node number 7 cur_node:<Node 157>\n",
      "InMethod best_first_design(node): explored_count:7 cur_node:<Node 157>, node_eval_time:0.000\n",
      "best_first_design(node) node number 8 cur_node:<Node 85>\n",
      "InMethod best_first_design(node): explored_count:8 cur_node:<Node 85>, node_eval_time:0.000\n",
      "solution is: ['2', '5']\n",
      "['2', '5']\n",
      "+---------+\n",
      "|R: | : :\u001b[35m\u001b[42mG\u001b[0m\u001b[0m|\n",
      "| : | : : |\n",
      "| : : : : |\n",
      "| | : | : |\n",
      "|Y| : |B: |\n",
      "+---------+\n",
      "  (East)\n",
      "+---------+\n",
      "|R: | : :\u001b[35m\u001b[34;1m\u001b[43mG\u001b[0m\u001b[0m\u001b[0m|\n",
      "| : | : : |\n",
      "| : : : : |\n",
      "| | : | : |\n",
      "|Y| : |B: |\n",
      "+---------+\n",
      "  (Dropoff)\n"
     ]
    }
   ],
   "source": [
    "taxi_env = create_env()\n",
    "\n",
    "# create a wrapper of the environment to the search\n",
    "taxi_p = GymProblem(taxi_env, taxi_env.unwrapped.s)\n",
    "\n",
    "\n",
    "# perform BFS\n",
    "[best_value, best_node, best_plan, explored_count, ex_terminated] = breadth_first_search(problem=taxi_p,\n",
    "                                                                                         log=True,\n",
    "                                                                                         log_file=None,\n",
    "                                                                                         iter_limit=defs.NA,\n",
    "                                                                                         time_limit=defs.NA,\n",
    "                                                                                        )\n",
    "\n",
    "\n",
    "print(best_plan)\n",
    "for action_id in best_plan:\n",
    "    taxi_p.apply_action(action_id)\n",
    "    taxi_p.env.render()\n"
   ]
  },
  {
   "cell_type": "markdown",
   "id": "770ea5be-b72a-41be-be07-b14ee5bdc4fd",
   "metadata": {
    "id": "j-OTJpcX9-BH"
   },
   "source": [
    "Let's see the same methods, but now with the explicit call to BestFirstSearch (which shows us how Breadth First Search is a special case of BestFirstSearch)"
   ]
  },
  {
   "cell_type": "code",
   "execution_count": 7,
   "id": "5ba0c219-51ad-4d3a-af12-49e43df95ecf",
   "metadata": {
    "colab": {
     "base_uri": "https://localhost:8080/"
    },
    "id": "JlLW6PfA_ciO",
    "outputId": "95cac31c-e63b-45b4-f102-54d8b1094d7c"
   },
   "outputs": [
    {
     "name": "stdout",
     "output_type": "stream",
     "text": [
      "0\n",
      "State: 77\n",
      "+---------+\n",
      "|R: | :\u001b[42m_\u001b[0m:\u001b[35mG\u001b[0m|\n",
      "| : | : : |\n",
      "| : : : : |\n",
      "| | : | : |\n",
      "|Y| : |B: |\n",
      "+---------+\n",
      "\n",
      "best_first_design(node) node number 1 cur_node:<Node 77>\n",
      "InMethod best_first_design(node): explored_count:1 cur_node:<Node 77>, node_eval_time:0.001\n",
      "best_first_design(node) node number 2 cur_node:<Node 177>\n",
      "InMethod best_first_design(node): explored_count:2 cur_node:<Node 177>, node_eval_time:0.000\n",
      "best_first_design(node) node number 3 cur_node:<Node 97>\n",
      "InMethod best_first_design(node): explored_count:3 cur_node:<Node 97>, node_eval_time:0.000\n",
      "best_first_design(node) node number 4 cur_node:<Node 57>\n",
      "InMethod best_first_design(node): explored_count:4 cur_node:<Node 57>, node_eval_time:0.000\n",
      "best_first_design(node) node number 5 cur_node:<Node 277>\n",
      "InMethod best_first_design(node): explored_count:5 cur_node:<Node 277>, node_eval_time:0.000\n",
      "best_first_design(node) node number 6 cur_node:<Node 197>\n",
      "InMethod best_first_design(node): explored_count:6 cur_node:<Node 197>, node_eval_time:0.000\n",
      "best_first_design(node) node number 7 cur_node:<Node 157>\n",
      "InMethod best_first_design(node): explored_count:7 cur_node:<Node 157>, node_eval_time:0.000\n",
      "best_first_design(node) node number 8 cur_node:<Node 85>\n",
      "InMethod best_first_design(node): explored_count:8 cur_node:<Node 85>, node_eval_time:0.000\n",
      "solution is: ['2', '5']\n",
      "['2', '5']\n",
      "+---------+\n",
      "|R: | : :\u001b[35m\u001b[42mG\u001b[0m\u001b[0m|\n",
      "| : | : : |\n",
      "| : : : : |\n",
      "| | : | : |\n",
      "|Y| : |B: |\n",
      "+---------+\n",
      "  (East)\n",
      "+---------+\n",
      "|R: | : :\u001b[35m\u001b[34;1m\u001b[43mG\u001b[0m\u001b[0m\u001b[0m|\n",
      "| : | : : |\n",
      "| : : : : |\n",
      "| | : | : |\n",
      "|Y| : |B: |\n",
      "+---------+\n",
      "  (Dropoff)\n"
     ]
    }
   ],
   "source": [
    "taxi_env = create_env()\n",
    "\n",
    "# create a wrapper of the environment to the search\n",
    "taxi_p = GymProblem(taxi_env, taxi_env.unwrapped.s)\n",
    "\n",
    "# perform BFS\n",
    "[best_value, best_node, best_plan, explored_count, ex_terminated] = best_first_search(problem=taxi_p,\n",
    "                                                                                      frontier=utils.FIFOQueue(),\n",
    "                                                                                      closed_list=utils.ClosedListOfKeys(),\n",
    "                                                                                      termination_criteria=utils.TerminationCriteriaGoalStateReached(),\n",
    "                                                                                      evaluation_criteria=utils.EvaluationCriteriaGoalCondition(),\n",
    "                                                                                      prune_func=None,\n",
    "                                                                                      log=True, log_file=None,\n",
    "                                                                                      iter_limit=defs.NA,\n",
    "                                                                                      time_limit=defs.NA,\n",
    "                                                                                      )\n",
    "print(best_plan)\n",
    "for action_id in best_plan:\n",
    "    taxi_p.apply_action(action_id)\n",
    "    taxi_p.env.render()"
   ]
  },
  {
   "cell_type": "markdown",
   "id": "1bad9571-e7bf-4223-84bf-2dcabfb622da",
   "metadata": {},
   "source": [
    "![DFS](images/dfs.gif) [stonybrook]"
   ]
  },
  {
   "cell_type": "markdown",
   "id": "19c26a7b-6172-4a80-9993-0de54aeb651e",
   "metadata": {
    "id": "1d0Sr45BBKeo"
   },
   "source": [
    "**And** now, let's run DFS"
   ]
  },
  {
   "cell_type": "code",
   "execution_count": 8,
   "id": "3212ffa5-9b70-43e4-9901-98271580255c",
   "metadata": {
    "colab": {
     "base_uri": "https://localhost:8080/"
    },
    "id": "FckxgAXG92ru",
    "outputId": "fe611952-52bc-4a3a-aae9-7c862c78f379"
   },
   "outputs": [
    {
     "name": "stdout",
     "output_type": "stream",
     "text": [
      "0\n",
      "State: 77\n",
      "+---------+\n",
      "|R: | :\u001b[42m_\u001b[0m:\u001b[35mG\u001b[0m|\n",
      "| : | : : |\n",
      "| : : : : |\n",
      "| | : | : |\n",
      "|Y| : |B: |\n",
      "+---------+\n",
      "\n",
      "best_first_design(node) node number 1 cur_node:<Node 77>\n",
      "InMethod best_first_design(node): explored_count:1 cur_node:<Node 77>, node_eval_time:0.000\n",
      "best_first_design(node) node number 2 cur_node:<Node 57>\n",
      "InMethod best_first_design(node): explored_count:2 cur_node:<Node 57>, node_eval_time:0.000\n",
      "best_first_design(node) node number 3 cur_node:<Node 157>\n",
      "InMethod best_first_design(node): explored_count:3 cur_node:<Node 157>, node_eval_time:0.000\n",
      "best_first_design(node) node number 4 cur_node:<Node 257>\n",
      "InMethod best_first_design(node): explored_count:4 cur_node:<Node 257>, node_eval_time:0.000\n",
      "best_first_design(node) node number 5 cur_node:<Node 237>\n",
      "InMethod best_first_design(node): explored_count:5 cur_node:<Node 237>, node_eval_time:0.000\n",
      "best_first_design(node) node number 6 cur_node:<Node 217>\n",
      "InMethod best_first_design(node): explored_count:6 cur_node:<Node 217>, node_eval_time:0.000\n",
      "best_first_design(node) node number 7 cur_node:<Node 117>\n",
      "InMethod best_first_design(node): explored_count:7 cur_node:<Node 117>, node_eval_time:0.000\n",
      "best_first_design(node) node number 8 cur_node:<Node 17>\n",
      "InMethod best_first_design(node): explored_count:8 cur_node:<Node 17>, node_eval_time:0.000\n",
      "best_first_design(node) node number 9 cur_node:<Node 1>\n",
      "InMethod best_first_design(node): explored_count:9 cur_node:<Node 1>, node_eval_time:0.000\n",
      "best_first_design(node) node number 10 cur_node:<Node 21>\n",
      "InMethod best_first_design(node): explored_count:10 cur_node:<Node 21>, node_eval_time:0.000\n",
      "best_first_design(node) node number 11 cur_node:<Node 121>\n",
      "InMethod best_first_design(node): explored_count:11 cur_node:<Node 121>, node_eval_time:0.000\n",
      "best_first_design(node) node number 12 cur_node:<Node 221>\n",
      "InMethod best_first_design(node): explored_count:12 cur_node:<Node 221>, node_eval_time:0.000\n",
      "best_first_design(node) node number 13 cur_node:<Node 201>\n",
      "InMethod best_first_design(node): explored_count:13 cur_node:<Node 201>, node_eval_time:0.000\n",
      "best_first_design(node) node number 14 cur_node:<Node 301>\n",
      "InMethod best_first_design(node): explored_count:14 cur_node:<Node 301>, node_eval_time:0.000\n",
      "best_first_design(node) node number 15 cur_node:<Node 401>\n",
      "InMethod best_first_design(node): explored_count:15 cur_node:<Node 401>, node_eval_time:0.000\n",
      "best_first_design(node) node number 16 cur_node:<Node 241>\n",
      "InMethod best_first_design(node): explored_count:16 cur_node:<Node 241>, node_eval_time:0.000\n",
      "best_first_design(node) node number 17 cur_node:<Node 261>\n",
      "InMethod best_first_design(node): explored_count:17 cur_node:<Node 261>, node_eval_time:0.000\n",
      "best_first_design(node) node number 18 cur_node:<Node 281>\n",
      "InMethod best_first_design(node): explored_count:18 cur_node:<Node 281>, node_eval_time:0.000\n",
      "best_first_design(node) node number 19 cur_node:<Node 181>\n",
      "InMethod best_first_design(node): explored_count:19 cur_node:<Node 181>, node_eval_time:0.000\n",
      "best_first_design(node) node number 20 cur_node:<Node 81>\n",
      "InMethod best_first_design(node): explored_count:20 cur_node:<Node 81>, node_eval_time:0.000\n",
      "best_first_design(node) node number 21 cur_node:<Node 61>\n",
      "InMethod best_first_design(node): explored_count:21 cur_node:<Node 61>, node_eval_time:0.000\n",
      "best_first_design(node) node number 22 cur_node:<Node 41>\n",
      "InMethod best_first_design(node): explored_count:22 cur_node:<Node 41>, node_eval_time:0.000\n",
      "best_first_design(node) node number 23 cur_node:<Node 381>\n",
      "InMethod best_first_design(node): explored_count:23 cur_node:<Node 381>, node_eval_time:0.000\n",
      "best_first_design(node) node number 24 cur_node:<Node 481>\n",
      "InMethod best_first_design(node): explored_count:24 cur_node:<Node 481>, node_eval_time:0.000\n",
      "best_first_design(node) node number 25 cur_node:<Node 461>\n",
      "InMethod best_first_design(node): explored_count:25 cur_node:<Node 461>, node_eval_time:0.000\n",
      "best_first_design(node) node number 26 cur_node:<Node 161>\n",
      "InMethod best_first_design(node): explored_count:26 cur_node:<Node 161>, node_eval_time:0.000\n",
      "best_first_design(node) node number 27 cur_node:<Node 361>\n",
      "InMethod best_first_design(node): explored_count:27 cur_node:<Node 361>, node_eval_time:0.000\n",
      "best_first_design(node) node number 28 cur_node:<Node 141>\n",
      "InMethod best_first_design(node): explored_count:28 cur_node:<Node 141>, node_eval_time:0.000\n",
      "best_first_design(node) node number 29 cur_node:<Node 341>\n",
      "InMethod best_first_design(node): explored_count:29 cur_node:<Node 341>, node_eval_time:0.000\n",
      "best_first_design(node) node number 30 cur_node:<Node 441>\n",
      "InMethod best_first_design(node): explored_count:30 cur_node:<Node 441>, node_eval_time:0.000\n",
      "best_first_design(node) node number 31 cur_node:<Node 421>\n",
      "InMethod best_first_design(node): explored_count:31 cur_node:<Node 421>, node_eval_time:0.000\n",
      "best_first_design(node) node number 32 cur_node:<Node 321>\n",
      "InMethod best_first_design(node): explored_count:32 cur_node:<Node 321>, node_eval_time:0.000\n",
      "best_first_design(node) node number 33 cur_node:<Node 101>\n",
      "InMethod best_first_design(node): explored_count:33 cur_node:<Node 101>, node_eval_time:0.000\n",
      "best_first_design(node) node number 34 cur_node:<Node 37>\n",
      "InMethod best_first_design(node): explored_count:34 cur_node:<Node 37>, node_eval_time:0.000\n",
      "best_first_design(node) node number 35 cur_node:<Node 317>\n",
      "InMethod best_first_design(node): explored_count:35 cur_node:<Node 317>, node_eval_time:0.000\n",
      "best_first_design(node) node number 36 cur_node:<Node 417>\n",
      "InMethod best_first_design(node): explored_count:36 cur_node:<Node 417>, node_eval_time:0.000\n",
      "best_first_design(node) node number 37 cur_node:<Node 409>\n",
      "InMethod best_first_design(node): explored_count:37 cur_node:<Node 409>, node_eval_time:0.000\n",
      "best_first_design(node) node number 38 cur_node:<Node 309>\n",
      "InMethod best_first_design(node): explored_count:38 cur_node:<Node 309>, node_eval_time:0.000\n",
      "best_first_design(node) node number 39 cur_node:<Node 209>\n",
      "InMethod best_first_design(node): explored_count:39 cur_node:<Node 209>, node_eval_time:0.000\n",
      "best_first_design(node) node number 40 cur_node:<Node 229>\n",
      "InMethod best_first_design(node): explored_count:40 cur_node:<Node 229>, node_eval_time:0.000\n",
      "best_first_design(node) node number 41 cur_node:<Node 249>\n",
      "InMethod best_first_design(node): explored_count:41 cur_node:<Node 249>, node_eval_time:0.000\n",
      "best_first_design(node) node number 42 cur_node:<Node 269>\n",
      "InMethod best_first_design(node): explored_count:42 cur_node:<Node 269>, node_eval_time:0.000\n",
      "best_first_design(node) node number 43 cur_node:<Node 289>\n",
      "InMethod best_first_design(node): explored_count:43 cur_node:<Node 289>, node_eval_time:0.000\n",
      "best_first_design(node) node number 44 cur_node:<Node 189>\n",
      "InMethod best_first_design(node): explored_count:44 cur_node:<Node 189>, node_eval_time:0.000\n",
      "best_first_design(node) node number 45 cur_node:<Node 89>\n",
      "InMethod best_first_design(node): explored_count:45 cur_node:<Node 89>, node_eval_time:0.000\n",
      "best_first_design(node) node number 46 cur_node:<Node 69>\n",
      "InMethod best_first_design(node): explored_count:46 cur_node:<Node 69>, node_eval_time:0.000\n",
      "best_first_design(node) node number 47 cur_node:<Node 49>\n",
      "InMethod best_first_design(node): explored_count:47 cur_node:<Node 49>, node_eval_time:0.000\n",
      "best_first_design(node) node number 48 cur_node:<Node 389>\n",
      "InMethod best_first_design(node): explored_count:48 cur_node:<Node 389>, node_eval_time:0.000\n",
      "best_first_design(node) node number 49 cur_node:<Node 489>\n",
      "InMethod best_first_design(node): explored_count:49 cur_node:<Node 489>, node_eval_time:0.000\n",
      "best_first_design(node) node number 50 cur_node:<Node 469>\n",
      "InMethod best_first_design(node): explored_count:50 cur_node:<Node 469>, node_eval_time:0.000\n",
      "best_first_design(node) node number 51 cur_node:<Node 169>\n",
      "InMethod best_first_design(node): explored_count:51 cur_node:<Node 169>, node_eval_time:0.000\n",
      "best_first_design(node) node number 52 cur_node:<Node 369>\n",
      "InMethod best_first_design(node): explored_count:52 cur_node:<Node 369>, node_eval_time:0.000\n",
      "best_first_design(node) node number 53 cur_node:<Node 149>\n",
      "InMethod best_first_design(node): explored_count:53 cur_node:<Node 149>, node_eval_time:0.000\n",
      "best_first_design(node) node number 54 cur_node:<Node 349>\n",
      "InMethod best_first_design(node): explored_count:54 cur_node:<Node 349>, node_eval_time:0.000\n",
      "best_first_design(node) node number 55 cur_node:<Node 449>\n",
      "InMethod best_first_design(node): explored_count:55 cur_node:<Node 449>, node_eval_time:0.000\n",
      "best_first_design(node) node number 56 cur_node:<Node 429>\n",
      "InMethod best_first_design(node): explored_count:56 cur_node:<Node 429>, node_eval_time:0.000\n",
      "best_first_design(node) node number 57 cur_node:<Node 129>\n",
      "InMethod best_first_design(node): explored_count:57 cur_node:<Node 129>, node_eval_time:0.000\n",
      "best_first_design(node) node number 58 cur_node:<Node 29>\n",
      "InMethod best_first_design(node): explored_count:58 cur_node:<Node 29>, node_eval_time:0.000\n",
      "best_first_design(node) node number 59 cur_node:<Node 9>\n",
      "InMethod best_first_design(node): explored_count:59 cur_node:<Node 9>, node_eval_time:0.000\n",
      "best_first_design(node) node number 60 cur_node:<Node 329>\n",
      "InMethod best_first_design(node): explored_count:60 cur_node:<Node 329>, node_eval_time:0.000\n",
      "best_first_design(node) node number 61 cur_node:<Node 109>\n",
      "InMethod best_first_design(node): explored_count:61 cur_node:<Node 109>, node_eval_time:0.000\n",
      "best_first_design(node) node number 62 cur_node:<Node 137>\n",
      "InMethod best_first_design(node): explored_count:62 cur_node:<Node 137>, node_eval_time:0.000\n",
      "best_first_design(node) node number 63 cur_node:<Node 337>\n",
      "InMethod best_first_design(node): explored_count:63 cur_node:<Node 337>, node_eval_time:0.000\n",
      "best_first_design(node) node number 64 cur_node:<Node 437>\n",
      "InMethod best_first_design(node): explored_count:64 cur_node:<Node 437>, node_eval_time:0.000\n",
      "best_first_design(node) node number 65 cur_node:<Node 457>\n",
      "InMethod best_first_design(node): explored_count:65 cur_node:<Node 457>, node_eval_time:0.000\n",
      "best_first_design(node) node number 66 cur_node:<Node 277>\n",
      "InMethod best_first_design(node): explored_count:66 cur_node:<Node 277>, node_eval_time:0.000\n",
      "best_first_design(node) node number 67 cur_node:<Node 297>\n",
      "InMethod best_first_design(node): explored_count:67 cur_node:<Node 297>, node_eval_time:0.000\n",
      "best_first_design(node) node number 68 cur_node:<Node 197>\n",
      "InMethod best_first_design(node): explored_count:68 cur_node:<Node 197>, node_eval_time:0.000\n",
      "best_first_design(node) node number 69 cur_node:<Node 397>\n",
      "InMethod best_first_design(node): explored_count:69 cur_node:<Node 397>, node_eval_time:0.000\n",
      "best_first_design(node) node number 70 cur_node:<Node 497>\n",
      "InMethod best_first_design(node): explored_count:70 cur_node:<Node 497>, node_eval_time:0.000\n",
      "best_first_design(node) node number 71 cur_node:<Node 477>\n",
      "InMethod best_first_design(node): explored_count:71 cur_node:<Node 477>, node_eval_time:0.000\n",
      "best_first_design(node) node number 72 cur_node:<Node 473>\n",
      "InMethod best_first_design(node): explored_count:72 cur_node:<Node 473>, node_eval_time:0.000\n",
      "best_first_design(node) node number 73 cur_node:<Node 493>\n",
      "InMethod best_first_design(node): explored_count:73 cur_node:<Node 493>, node_eval_time:0.000\n",
      "best_first_design(node) node number 74 cur_node:<Node 393>\n",
      "InMethod best_first_design(node): explored_count:74 cur_node:<Node 393>, node_eval_time:0.000\n",
      "best_first_design(node) node number 75 cur_node:<Node 293>\n",
      "InMethod best_first_design(node): explored_count:75 cur_node:<Node 293>, node_eval_time:0.000\n",
      "best_first_design(node) node number 76 cur_node:<Node 273>\n",
      "InMethod best_first_design(node): explored_count:76 cur_node:<Node 273>, node_eval_time:0.000\n",
      "best_first_design(node) node number 77 cur_node:<Node 253>\n",
      "InMethod best_first_design(node): explored_count:77 cur_node:<Node 253>, node_eval_time:0.000\n",
      "best_first_design(node) node number 78 cur_node:<Node 233>\n",
      "InMethod best_first_design(node): explored_count:78 cur_node:<Node 233>, node_eval_time:0.000\n",
      "best_first_design(node) node number 79 cur_node:<Node 213>\n",
      "InMethod best_first_design(node): explored_count:79 cur_node:<Node 213>, node_eval_time:0.000\n",
      "best_first_design(node) node number 80 cur_node:<Node 113>\n",
      "InMethod best_first_design(node): explored_count:80 cur_node:<Node 113>, node_eval_time:0.000\n",
      "best_first_design(node) node number 81 cur_node:<Node 13>\n",
      "InMethod best_first_design(node): explored_count:81 cur_node:<Node 13>, node_eval_time:0.000\n",
      "best_first_design(node) node number 82 cur_node:<Node 33>\n",
      "InMethod best_first_design(node): explored_count:82 cur_node:<Node 33>, node_eval_time:0.000\n",
      "best_first_design(node) node number 83 cur_node:<Node 313>\n",
      "InMethod best_first_design(node): explored_count:83 cur_node:<Node 313>, node_eval_time:0.000\n",
      "best_first_design(node) node number 84 cur_node:<Node 413>\n",
      "InMethod best_first_design(node): explored_count:84 cur_node:<Node 413>, node_eval_time:0.000\n",
      "best_first_design(node) node number 85 cur_node:<Node 133>\n",
      "InMethod best_first_design(node): explored_count:85 cur_node:<Node 133>, node_eval_time:0.000\n",
      "best_first_design(node) node number 86 cur_node:<Node 333>\n",
      "InMethod best_first_design(node): explored_count:86 cur_node:<Node 333>, node_eval_time:0.000\n",
      "best_first_design(node) node number 87 cur_node:<Node 433>\n",
      "InMethod best_first_design(node): explored_count:87 cur_node:<Node 433>, node_eval_time:0.000\n",
      "best_first_design(node) node number 88 cur_node:<Node 453>\n",
      "InMethod best_first_design(node): explored_count:88 cur_node:<Node 453>, node_eval_time:0.000\n",
      "best_first_design(node) node number 89 cur_node:<Node 153>\n",
      "InMethod best_first_design(node): explored_count:89 cur_node:<Node 153>, node_eval_time:0.000\n",
      "best_first_design(node) node number 90 cur_node:<Node 53>\n",
      "InMethod best_first_design(node): explored_count:90 cur_node:<Node 53>, node_eval_time:0.000\n",
      "best_first_design(node) node number 91 cur_node:<Node 73>\n",
      "InMethod best_first_design(node): explored_count:91 cur_node:<Node 73>, node_eval_time:0.000\n",
      "best_first_design(node) node number 92 cur_node:<Node 93>\n",
      "InMethod best_first_design(node): explored_count:92 cur_node:<Node 93>, node_eval_time:0.000\n",
      "best_first_design(node) node number 93 cur_node:<Node 353>\n",
      "InMethod best_first_design(node): explored_count:93 cur_node:<Node 353>, node_eval_time:0.000\n",
      "best_first_design(node) node number 94 cur_node:<Node 173>\n",
      "InMethod best_first_design(node): explored_count:94 cur_node:<Node 173>, node_eval_time:0.000\n",
      "best_first_design(node) node number 95 cur_node:<Node 193>\n",
      "InMethod best_first_design(node): explored_count:95 cur_node:<Node 193>, node_eval_time:0.000\n",
      "best_first_design(node) node number 96 cur_node:<Node 373>\n",
      "InMethod best_first_design(node): explored_count:96 cur_node:<Node 373>, node_eval_time:0.000\n",
      "best_first_design(node) node number 97 cur_node:<Node 377>\n",
      "InMethod best_first_design(node): explored_count:97 cur_node:<Node 377>, node_eval_time:0.000\n",
      "best_first_design(node) node number 98 cur_node:<Node 357>\n",
      "InMethod best_first_design(node): explored_count:98 cur_node:<Node 357>, node_eval_time:0.000\n",
      "best_first_design(node) node number 99 cur_node:<Node 97>\n",
      "InMethod best_first_design(node): explored_count:99 cur_node:<Node 97>, node_eval_time:0.000\n",
      "best_first_design(node) node number 100 cur_node:<Node 85>\n",
      "InMethod best_first_design(node): explored_count:100 cur_node:<Node 85>, node_eval_time:0.000\n",
      "solution is: ['2', '5']\n",
      "['2', '5']\n",
      "+---------+\n",
      "|R: | : :\u001b[35m\u001b[42mG\u001b[0m\u001b[0m|\n",
      "| : | : : |\n",
      "| : : : : |\n",
      "| | : | : |\n",
      "|Y| : |B: |\n",
      "+---------+\n",
      "  (East)\n",
      "+---------+\n",
      "|R: | : :\u001b[35m\u001b[34;1m\u001b[43mG\u001b[0m\u001b[0m\u001b[0m|\n",
      "| : | : : |\n",
      "| : : : : |\n",
      "| | : | : |\n",
      "|Y| : |B: |\n",
      "+---------+\n",
      "  (Dropoff)\n"
     ]
    }
   ],
   "source": [
    "taxi_env = create_env()\n",
    "# create a wrapper of the environment to the search\n",
    "taxi_p = GymProblem(taxi_env, taxi_env.unwrapped.s)\n",
    "\n",
    "# perform DFS\n",
    "[best_value, best_node, best_plan, explored_count, ex_terminated] = depth_first_search(problem=taxi_p,\n",
    "                                                                                       log=True,\n",
    "                                                                                       log_file=None,\n",
    "                                                                                       iter_limit=defs.NA,\n",
    "                                                                                       time_limit=defs.NA,\n",
    "                                                                                       )\n",
    "\n",
    "print(best_plan)\n",
    "for action_id in best_plan:\n",
    "    taxi_p.apply_action(action_id)\n",
    "    taxi_p.env.render()"
   ]
  },
  {
   "cell_type": "markdown",
   "id": "413a6b0e-854c-4289-abd0-7e3cb7d032fd",
   "metadata": {
    "id": "sATJE1x_7fO6"
   },
   "source": [
    "and now let's run DFS-L, which is a special form of DFS that includes a limit on the depth explored before backtracking to earlier nodes."
   ]
  },
  {
   "cell_type": "code",
   "execution_count": 9,
   "id": "cafbd5ae-1652-4bbf-bfb7-17beddc99069",
   "metadata": {
    "colab": {
     "base_uri": "https://localhost:8080/"
    },
    "id": "MpXQvI5J7bfR",
    "outputId": "d5d6d285-a12f-4c28-962b-4b744a95abcf"
   },
   "outputs": [
    {
     "name": "stdout",
     "output_type": "stream",
     "text": [
      "0\n",
      "State: 77\n",
      "+---------+\n",
      "|R: | :\u001b[42m_\u001b[0m:\u001b[35mG\u001b[0m|\n",
      "| : | : : |\n",
      "| : : : : |\n",
      "| | : | : |\n",
      "|Y| : |B: |\n",
      "+---------+\n",
      "\n",
      "best_first_design(node) node number 1 cur_node:<Node 77>\n",
      "InMethod best_first_design(node): explored_count:1 cur_node:<Node 77>, node_eval_time:0.000\n",
      "best_first_design(node) node number 2 cur_node:<Node 57>\n",
      "InMethod best_first_design(node): explored_count:2 cur_node:<Node 57>, node_eval_time:0.000\n",
      "best_first_design(node) node number 3 cur_node:<Node 97>\n",
      "InMethod best_first_design(node): explored_count:3 cur_node:<Node 97>, node_eval_time:0.000\n",
      "best_first_design(node) node number 4 cur_node:<Node 177>\n",
      "InMethod best_first_design(node): explored_count:4 cur_node:<Node 177>, node_eval_time:0.000\n",
      "solution is: []\n",
      "[]\n"
     ]
    }
   ],
   "source": [
    "taxi_env = create_env()\n",
    "# create a wrapper of the environment to the search\n",
    "taxi_p = GymProblem(taxi_env, taxi_env.unwrapped.s)\n",
    "\n",
    "# perform DFS\n",
    "[best_value, best_node, best_plan, explored_count, ex_terminated] = depth_first_search_l(problem=taxi_p,\n",
    "                                                                                       max_depth=2,\n",
    "                                                                                       log=True,\n",
    "                                                                                       log_file=None,\n",
    "                                                                                       iter_limit=defs.NA,\n",
    "                                                                                       time_limit=defs.NA,\n",
    "                                                                                       )\n",
    "\n",
    "print(best_plan)\n",
    "for action_id in best_plan:\n",
    "    taxi_p.apply_action(action_id)\n",
    "    taxi_p.env.render()"
   ]
  },
  {
   "cell_type": "markdown",
   "id": "3a63b061-16eb-4c87-aed8-a12e158e038b",
   "metadata": {},
   "source": [
    "### About heuristics\n",
    "Generally in Best First Search algorithms that include a heuristic, the better it is at describing our distance from the goal state, the faster we will reach it, with \"faster\" being whatever fits the problem, whether it's the number of steps we had to take to reach our goal or some other cost function.\n",
    "\n",
    "Two important terms that will help differentiate between algorithms in the Best First Search family are Admissibility and Consistency.\n",
    "\n",
    "A heuristic function is said to be admissible if its cost from any given state is never higher than the true cost required to reach a goal state from it, or in other words, it is always at least as \"optimistic\" as the real best solution.\n",
    "\n",
    "Similarly, a heuristic function is said to be Consistent if for every state it holds true that the heuristic value of this state is greater or equal than the cost of moving to a neighboring state plus the heuristic value of that state. In other words, you can never \"cheat\" the heuristic valuation by just moving a little. As a side note, it can be proven that a consistent heuristic is also admissible."
   ]
  },
  {
   "cell_type": "markdown",
   "id": "977ce27e-0b96-4816-9663-95e16d363644",
   "metadata": {},
   "source": [
    "### A* Algorithm"
   ]
  },
  {
   "cell_type": "markdown",
   "id": "f70fb4aa-0a90-4fa2-a3ee-bb55b9cc2b3e",
   "metadata": {},
   "source": [
    "A* is a search algorithm derived from Best First Search, in which the cost function is $f = g + h$, where $g$ represents the cost of getting from the source to the current node, and h is the heuristic. The power of A* is in the fact that given an admissible heuristic it is guaranteed to return an optimal solution. This alone is not impressive, because BreadthFirstSearch also gives an optimal solution, the difference is that A* tends to do so while expanding a much smaller number of nodes, thus being more efficient."
   ]
  },
  {
   "cell_type": "markdown",
   "id": "f7b4d021-b005-4039-ad74-6435c6736a00",
   "metadata": {},
   "source": [
    "![Astar](images/Astar_progress_animation.gif) [Wikipedia]"
   ]
  },
  {
   "cell_type": "markdown",
   "id": "f8fe00dd-93eb-4d28-b7e7-2dfefcbe005e",
   "metadata": {
    "id": "qkX5s0O2Brzc"
   },
   "source": [
    "Let's see how A-Star works on the same problem with a Manhatten Distance heuristic."
   ]
  },
  {
   "cell_type": "code",
   "execution_count": 10,
   "id": "06709416-4ee0-490b-bfb8-9963b561a178",
   "metadata": {},
   "outputs": [
    {
     "name": "stdout",
     "output_type": "stream",
     "text": [
      "0\n",
      "State: 77\n",
      "+---------+\n",
      "|R: | :\u001b[42m_\u001b[0m:\u001b[35mG\u001b[0m|\n",
      "| : | : : |\n",
      "| : : : : |\n",
      "| | : | : |\n",
      "|Y| : |B: |\n",
      "+---------+\n",
      "\n"
     ]
    }
   ],
   "source": [
    "PASSENGER_IN_TAXI = 4  # passenger idx when in taxi\n",
    "\n",
    "taxi_env = create_env()\n",
    "locs = taxi_env.unwrapped.locs  # environment locations\n",
    "\n",
    "def manhatten_dist(r1, c1, r2, c2):\n",
    "    # calssic manhatten dist |row1 - row2| + |col1 - col2|\n",
    "    return abs(r1 - r2) + abs(c1 - c2) \n",
    "\n",
    "def manhatten_heuristic(node):\n",
    "    # decode state integer to interpretable values\n",
    "    taxi_row, taxi_col, passenger_idx, dest_idx = taxi_env.decode(node.state.get_key())\n",
    "    \n",
    "    # split to 2 cases where the passenger is in the taxi and not in the taxi.\n",
    "    if passenger_idx == PASSENGER_IN_TAXI:\n",
    "        # dist from the taxi to the destination\n",
    "        return manhatten_dist(taxi_row, taxi_col, *locs[dest_idx]) + 1  # include dropoff\n",
    "    elif passenger_idx == dest_idx:\n",
    "        # passenger has reached the destination. this is a goal state\n",
    "        return 0\n",
    "    else:\n",
    "        # dist from the taxi to the passenger and from the passenger to the destination\n",
    "        passenger_dist = manhatten_dist(taxi_row, taxi_col, *locs[passenger_idx])\n",
    "        dest_dist = manhatten_dist(*locs[passenger_idx], *locs[dest_idx])\n",
    "        return passenger_dist + dest_dist + 2  # include pickup and dropoff actions"
   ]
  },
  {
   "cell_type": "code",
   "execution_count": 11,
   "id": "81f62f30-fb43-4a23-b218-085a0cde6f81",
   "metadata": {
    "colab": {
     "base_uri": "https://localhost:8080/"
    },
    "id": "7Pk-Gvov6hue",
    "outputId": "5ae77142-bcb2-40fb-bd5d-0890709fcad9",
    "tags": []
   },
   "outputs": [
    {
     "name": "stdout",
     "output_type": "stream",
     "text": [
      "best_first_design(node) node number 1 cur_node:<Node 77>\n",
      "InMethod best_first_design(node): explored_count:1 cur_node:<Node 77>, node_eval_time:0.000\n",
      "best_first_design(node) node number 2 cur_node:<Node 97>\n",
      "InMethod best_first_design(node): explored_count:2 cur_node:<Node 97>, node_eval_time:0.000\n",
      "best_first_design(node) node number 3 cur_node:<Node 85>\n",
      "InMethod best_first_design(node): explored_count:3 cur_node:<Node 85>, node_eval_time:0.000\n",
      "solution is: ['2', '5']\n",
      "['2', '5']\n",
      "+---------+\n",
      "|R: | : :\u001b[35m\u001b[42mG\u001b[0m\u001b[0m|\n",
      "| : | : : |\n",
      "| : : : : |\n",
      "| | : | : |\n",
      "|Y| : |B: |\n",
      "+---------+\n",
      "  (East)\n",
      "+---------+\n",
      "|R: | : :\u001b[35m\u001b[34;1m\u001b[43mG\u001b[0m\u001b[0m\u001b[0m|\n",
      "| : | : : |\n",
      "| : : : : |\n",
      "| | : | : |\n",
      "|Y| : |B: |\n",
      "+---------+\n",
      "  (Dropoff)\n"
     ]
    }
   ],
   "source": [
    "# create a wrapper of the environment to the search\n",
    "taxi_p = GymProblem(taxi_env, taxi_env.unwrapped.s)\n",
    "\n",
    "# perform A*\n",
    "[best_value, best_node, best_plan, explored_count, ex_terminated] = best_first_search(problem=taxi_p,\n",
    "                                                                                      frontier=utils.PriorityQueue(manhatten_heuristic),\n",
    "                                                                                      closed_list=utils.ClosedListOfKeys(),\n",
    "                                                                                      termination_criteria=utils.TerminationCriteriaGoalStateReached(),\n",
    "                                                                                      evaluation_criteria=utils.EvaluationCriteriaGoalCondition(),\n",
    "                                                                                      prune_func=None,\n",
    "                                                                                      log=True, \n",
    "                                                                                      log_file=None,\n",
    "                                                                                      iter_limit=defs.NA,\n",
    "                                                                                      time_limit=defs.NA,\n",
    "                                                                                      )\n",
    "\n",
    "print(best_plan)\n",
    "for action_id in best_plan:\n",
    "    taxi_p.apply_action(action_id)\n",
    "    taxi_p.env.render()"
   ]
  },
  {
   "cell_type": "markdown",
   "id": "71bfdb8a-73d8-40d5-8142-1c668ef770d8",
   "metadata": {},
   "source": [
    "## Discussion: Best First Search in a continuous space"
   ]
  },
  {
   "cell_type": "markdown",
   "id": "ebf0abda-8483-4b02-8a85-fa41d8f5ee96",
   "metadata": {},
   "source": [
    "Best First Search algorithms require a discrete state space, therefor a continous space requires adaptation to use these methods.\n",
    "\n",
    "Representation challenges:\n",
    "* Translation - a function from the continous space to the discrete space \n",
    "* Inversabilaty - the ability to get the original representation from the translation\n",
    "* Granularity - \"size\" of each discrete \"pixel\"\n",
    "\n"
   ]
  },
  {
   "cell_type": "markdown",
   "id": "08119cb2-6605-43c8-9bb3-45d52ade5433",
   "metadata": {},
   "source": [
    "![SL](images/speaker_listener.gif)"
   ]
  },
  {
   "cell_type": "code",
   "execution_count": null,
   "id": "e1eba9d8-cb6f-42b9-9aa6-0e5d92b12ec7",
   "metadata": {},
   "outputs": [],
   "source": []
  }
 ],
 "metadata": {
  "kernelspec": {
   "display_name": "Python 3",
   "language": "python",
   "name": "python3"
  },
  "language_info": {
   "codemirror_mode": {
    "name": "ipython",
    "version": 3
   },
   "file_extension": ".py",
   "mimetype": "text/x-python",
   "name": "python",
   "nbconvert_exporter": "python",
   "pygments_lexer": "ipython3",
   "version": "3.8.13"
  }
 },
 "nbformat": 4,
 "nbformat_minor": 5
}
