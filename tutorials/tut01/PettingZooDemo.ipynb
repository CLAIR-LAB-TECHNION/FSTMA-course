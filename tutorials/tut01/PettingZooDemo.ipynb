{
 "cells": [
  {
   "cell_type": "markdown",
   "id": "614b3c58-f27e-425b-b8ec-2f1fd2cce84b",
   "metadata": {
    "tags": []
   },
   "source": [
    "# PettingZoo Speaker-Listener Environment Demonstration\n",
    "\n",
    "## Introduction\n",
    "\n",
    "[PettingZoo](https://www.pettingzoo.ml/) is a Python library for conducting research in multi-agent reinforcement learning, akin to a multi-agent version of [Gym](https://github.com/openai/gym). It implements a variety of environments, including:\n",
    "- [Atari](https://www.pettingzoo.ml/atari): Multi-player Atari 2600 games (cooperative, competitive and mixed sum)\n",
    "- [Butterfly](https://www.pettingzoo.ml/butterfly): Cooperative graphical games developed by us, requiring a high degree of coordination\n",
    "- [Classic](https://www.pettingzoo.ml/classic): Classical games including card games, board games, etc.\n",
    "- [MAgent](https://www.pettingzoo.ml/magent): Configurable environments with massive numbers of particle agents, originally from https://github.com/geek-ai/MAgent\n",
    "- [MPE](https://www.pettingzoo.ml/mpe): A set of simple nongraphical communication tasks, originally from https://github.com/openai/multiagent-particle-envs\n",
    "- [SISL](https://www.pettingzoo.ml/sisl): 3 cooperative environments, originally from https://github.com/sisl/MADRL\n",
    "\n",
    "<img src=\"https://www.pettingzoo.ml/mpe/mpe_simple_speaker_listener.gif\" width=\"500\" align=\"center\"/>\n",
    "\n",
    "The [Simple Speaker Listener Environment](https://www.pettingzoo.ml/mpe/simple_speaker_listener) is implemented in the MPE library. It is a 2-agent environment in which one agent, the \"speaker\", has information about the goal and has a limmited mode of communication with the second agent, the \"listener\", which must use the speaker's communications and its limitted observations to navigate a 2D space toward the goal. The speaker agent cannot navigate, and the listener object cannot communicate.\n",
    "\n",
    "<img src=\"images/speaker_listener_screenshot.png\" width=\"500\" align=\"center\"/>"
   ]
  },
  {
   "cell_type": "code",
   "execution_count": 1,
   "id": "26db1ca7-314b-4d99-8837-67296eda297f",
   "metadata": {},
   "outputs": [
    {
     "name": "stdout",
     "output_type": "stream",
     "text": [
      "Requirement already satisfied: pettingzoo[mpe] in /usr/local/Caskroom/miniconda/base/envs/236606-tut01/lib/python3.8/site-packages (1.16.0)\n",
      "Requirement already satisfied: gym>=0.21.0 in /usr/local/Caskroom/miniconda/base/envs/236606-tut01/lib/python3.8/site-packages (from pettingzoo[mpe]) (0.22.0)\n",
      "Requirement already satisfied: numpy>=1.18.0 in /usr/local/Caskroom/miniconda/base/envs/236606-tut01/lib/python3.8/site-packages (from pettingzoo[mpe]) (1.22.3)\n",
      "Requirement already satisfied: pyglet>=1.4.0 in /usr/local/Caskroom/miniconda/base/envs/236606-tut01/lib/python3.8/site-packages (from pettingzoo[mpe]) (1.5.22)\n",
      "Requirement already satisfied: cloudpickle>=1.2.0 in /usr/local/Caskroom/miniconda/base/envs/236606-tut01/lib/python3.8/site-packages (from gym>=0.21.0->pettingzoo[mpe]) (2.0.0)\n",
      "Requirement already satisfied: importlib-metadata>=4.10.0 in /usr/local/Caskroom/miniconda/base/envs/236606-tut01/lib/python3.8/site-packages (from gym>=0.21.0->pettingzoo[mpe]) (4.11.2)\n",
      "Requirement already satisfied: gym-notices>=0.0.4 in /usr/local/Caskroom/miniconda/base/envs/236606-tut01/lib/python3.8/site-packages (from gym>=0.21.0->pettingzoo[mpe]) (0.0.6)\n",
      "Requirement already satisfied: zipp>=0.5 in /usr/local/Caskroom/miniconda/base/envs/236606-tut01/lib/python3.8/site-packages (from importlib-metadata>=4.10.0->gym>=0.21.0->pettingzoo[mpe]) (3.7.0)\n"
     ]
    }
   ],
   "source": [
    "!pip install 'pettingzoo[mpe]'"
   ]
  },
  {
   "cell_type": "markdown",
   "id": "3ac223ec-ee40-4223-bfb0-4bad186323b0",
   "metadata": {},
   "source": [
    "## Environment Description\n",
    "\n",
    "The latest implementation of the speaker-listener environment is `simple_speaker_listener_v3`. We can create an environment instance using the `env` function which accepts two parameters:\n",
    "1. `max_cycles` - the number of actions each agent can perform before the end of the episode. _default=25_\n",
    "2. `continuous_actions` - if `True`, both the speaker and the listener have a continuous action space. otherwise they are discrete, finite spaces. _default=False_\n",
    "\n",
    "The environment object implements many usful tools to help understand and properly utilize the environment. Below we use the `agents` attribute toiterate over the agent names, and the `observation_space` and `action_space` functions to show the [gym spaces](https://gym.openai.com/docs/#spaces) for the agents observation and action spaces."
   ]
  },
  {
   "cell_type": "code",
   "execution_count": 2,
   "id": "063ae7f1-49fa-46fe-b475-a67ad8fb99c5",
   "metadata": {},
   "outputs": [
    {
     "name": "stdout",
     "output_type": "stream",
     "text": [
      "discrete actions:\n",
      "- agent 1: speaker_0\n",
      "\t- observation space: Box(-inf, inf, (3,), float32)\n",
      "\t- action space: Discrete(3)\n",
      "- agent 2: listener_0\n",
      "\t- observation space: Box(-inf, inf, (11,), float32)\n",
      "\t- action space: Discrete(5)\n",
      "\n",
      "continuous actions:\n",
      "- agent 1: speaker_0\n",
      "\t- observation space: Box(-inf, inf, (3,), float32)\n",
      "\t- action space: Box(0.0, 1.0, (3,), float32)\n",
      "- agent 2: listener_0\n",
      "\t- observation space: Box(-inf, inf, (11,), float32)\n",
      "\t- action space: Box(0.0, 1.0, (5,), float32)\n"
     ]
    },
    {
     "name": "stderr",
     "output_type": "stream",
     "text": [
      "\n"
     ]
    }
   ],
   "source": [
    "from pettingzoo.mpe import simple_speaker_listener_v3\n",
    "import numpy as np\n",
    "\n",
    "\n",
    "def print_env_info(continuous_actions):\n",
    "    env = simple_speaker_listener_v3.env(continuous_actions=continuous_actions)\n",
    "    env.reset()\n",
    "    \n",
    "    print('continuous actions:' if continuous_actions else 'discrete actions:')\n",
    "    \n",
    "    for i, agent in enumerate(env.agents, 1):\n",
    "        print(f'- agent {i}: {agent}')\n",
    "        print(f'\\t- observation space: {env.observation_space(agent)}')\n",
    "        print(f'\\t- action space: {env.action_space(agent)}')\n",
    "\n",
    "\n",
    "print_env_info(continuous_actions=False)\n",
    "print()\n",
    "print_env_info(continuous_actions=True)"
   ]
  },
  {
   "cell_type": "markdown",
   "id": "2a0adb1a-678e-4084-9a8b-652c6b8605b8",
   "metadata": {},
   "source": [
    "### Observation Spaces\n",
    "\n",
    "The `Box(low, high, shape, dtype)` space contains any vector of shape `shape` that contains only values within the closed interval between `low` and `high` represented as type `dtype`. Both the speaker and the listener receive one dimensional `Box` observations of different sizes with any 32-bit floating point value. Note that the observation spaces remain the same regardless of the action space type (continuous / discrete). We can get the next acting agent's observation using the environment's `last` function, which returns the previous observation, reward, \"done\" flag, info dictionary. The current acting agent is chosen sequentially according to the agents' order in the `agents` attribute. The next agent is chosen when calling the `step` function which is sets the agent's action.\n",
    "\n",
    "#### Speaker\n",
    "The speaker observation is of type `Box(-inf, inf, (3,), float32)`, which is any vector of 3 dimensions. The values represent the RGB color of the goal to which the listener must navigate to maximize rewards.\n",
    "\n",
    "#### Listener\n",
    "The speaker observation is of type `Box(-inf, inf, (11,), float32)`, which is any vector of 11 dimensions. The first two values are the agent's velocity in 2D space. The next six values are the red, blue, and green landmarks' positions relative to the listener. The last three values correspond to communication received from the speaker. Below is a precise ordering of the values in the observation vector:\n",
    "1. listener agent velocity X\n",
    "2. listener agent velocity Y\n",
    "3. red landmark X pos - listener agent X pos\n",
    "4. red landmark Y pos - listener agent Y pos\n",
    "5. blue landmark X pos - listener agent X pos\n",
    "6. blue landmark Y pos - listener agent Y pos\n",
    "7. green landmark X pos - listener agent X pos\n",
    "8. green landmark Y pos - listener agent Y pos\n",
    "9. communication channel 1\n",
    "10. communication channel 2\n",
    "11. communication channel 3\n",
    "\n",
    "Note that the communication observation (values 9, 10, and 11) will always be 0 in the first round since no communication has yet been received from the speaker"
   ]
  },
  {
   "cell_type": "code",
   "execution_count": 3,
   "id": "c5cd7be0-def6-4917-ace2-3433e6d32aaa",
   "metadata": {},
   "outputs": [
    {
     "name": "stdout",
     "output_type": "stream",
     "text": [
      "agnet: speaker_0\n",
      "observation: [0.65 0.15 0.15]\n",
      "\n",
      "agnet: listener_0\n",
      "observation: [ 0.          0.          0.35338476 -0.6476226  -0.10971016  0.06285673\n",
      " -0.4768763   1.0360808   0.          0.          0.        ]\n",
      "\n",
      "agnet: speaker_0\n",
      "observation: [0.65 0.15 0.15]\n",
      "\n",
      "agnet: listener_0\n",
      "observation: [-0.5         0.          0.40338477 -0.6476226  -0.05971016  0.06285673\n",
      " -0.42687628  1.0360808   1.          0.          0.        ]\n",
      "\n"
     ]
    }
   ],
   "source": [
    "env = simple_speaker_listener_v3.env()\n",
    "env.reset()  # reset the environment, selected agent is \"speaker_0\"\n",
    "\n",
    "# run twice to show the chnage in the communication vector\n",
    "for i in range(2):\n",
    "    #speaker obs\n",
    "    obs, _, _, _ = env.last()  # get speaker observation vector\n",
    "    print(f'agnet: {env.agents[0]}')\n",
    "    print(f'observation: {obs}')\n",
    "    print()\n",
    "    env.step(0)  # send discrete message \"A\". next agent is selected (listener_0)\n",
    "    \n",
    "    obs, _, _, _ = env.last()  # get listener observation vector\n",
    "    print(f'agnet: {env.agents[1]}')\n",
    "    print(f'observation: {obs}')\n",
    "    print()\n",
    "    env.step(1)  # perform the \"go left\" action"
   ]
  },
  {
   "cell_type": "markdown",
   "id": "964817d1-264a-4c0f-b571-1a8f3dd65653",
   "metadata": {},
   "source": [
    "### Action Spaces\n",
    "\n",
    "The action agents' action spaces can be either discrete or continuous, depending on the `continuous_actions` parameter. If discrete, the action spaces are of type `Discrete(n)`, which contains the integer values 0 to n-1. Otherwise, the action spaces are of type `Box` (like the observation spaces), but with values constrained between 0 and 1. Actions are given sequentially by agent order according the `agents` attribute by using the `step` function. The given action must be one from the corresponding agent's action space.\n",
    "\n",
    "#### Discrete Actions\n",
    "\n",
    "##### Speaker\n",
    "The action space is `Discrete(3)` containing the values 0, 1, 2. Each value corresponds to a possible message. Value 0 corresponds to message A, which can be seen in the communication vector of the listener's observation as \\[1, 0, 0\\]. Similarly, values 1 and 2 correspond to messages B and C and appear as \\[0, 1, 0\\] and \\[0, 0, 1\\] in the listener's observation respectively.\n",
    "\n",
    "##### Listener\n",
    "Discrete:  \n",
    "The action space is `Discrete(5)` containing the values 0 - 4. Each value applies force on the agent, increasing its velocity to some direction. The velocity will slowly deteriorate until the agent stops, unless constant force is applied. The values' meanings are as follows:\n",
    "* 0 - do nothing\n",
    "* 1 - push left (add velocity in negative x-axis direction)\n",
    "* 2 - push right (add velocity in positive x-axis direction)\n",
    "* 3 - push down (add velocity in negative y-axis direction)\n",
    "* 4 - push up (add velocity in positive t-axis direction)"
   ]
  },
  {
   "cell_type": "code",
   "execution_count": 4,
   "id": "37f69779-5ff1-4f1e-96d6-c1851dcc3fd4",
   "metadata": {},
   "outputs": [
    {
     "name": "stdout",
     "output_type": "stream",
     "text": [
      "agnet: speaker_0\n",
      "observation: [0.15 0.15 0.65]\n",
      "\n",
      "agnet: listener_0\n",
      "observation: [ 0.          0.         -0.8839424   0.15246797 -0.4558873   0.70290554\n",
      "  0.7304127   0.18869944  0.          0.          0.        ]\n",
      "\n",
      "agnet: speaker_0\n",
      "observation: [0.15 0.15 0.65]\n",
      "\n",
      "agnet: listener_0\n",
      "observation: [-0.5         0.         -0.8339424   0.15246797 -0.4058873   0.70290554\n",
      "  0.78041273  0.18869944  1.          0.          0.        ]\n",
      "\n"
     ]
    }
   ],
   "source": [
    "# speaker action-to-index dict\n",
    "SPEAKER_DISCRETE_ACTIONS = {\n",
    "    'A': 0,\n",
    "    'B': 1,\n",
    "    'C': 2\n",
    "}\n",
    "\n",
    "# listener action-to-index dict\n",
    "LISTENER_DISCRETE_ACTIONS = {\n",
    "    'nothing': 0,\n",
    "    'left':    1,\n",
    "    'right':   2,\n",
    "    'down':    3,\n",
    "    'up':      4\n",
    "}\n",
    "\n",
    "env = simple_speaker_listener_v3.env(continuous_actions=False)  # discrete actions env\n",
    "env.reset()\n",
    "\n",
    "# CHANGE ACTION ACCORDING TO THE SPEADER TABLE AND SEE THE LISTENER'S COMMUNICATION OBSERVATIONS CHANGE\n",
    "chosen_speaker_action = SPEAKER_DISCRETE_ACTIONS['A']\n",
    "\n",
    "# CHANGE ACTION ACCORDING TO THE LISTENER TABLE AND SEE THE VELOCITY OBSERVATIONS CHANGE\n",
    "chosen_listener_action = LISTENER_DISCRETE_ACTIONS['left']\n",
    "\n",
    "# run twice to show the chnage in the communication vector\n",
    "for i in range(2):\n",
    "    #speaker action\n",
    "    obs, _, _, _ = env.last()\n",
    "    print(f'agnet: {env.agents[0]}')\n",
    "    print(f'observation: {obs}')\n",
    "    print()\n",
    "    env.step(chosen_speaker_action)  \n",
    "    \n",
    "    # listener action\n",
    "    obs, _, _, _ = env.last()\n",
    "    print(f'agnet: {env.agents[1]}')\n",
    "    print(f'observation: {obs}')\n",
    "    print()\n",
    "    env.step(chosen_listener_action)  "
   ]
  },
  {
   "cell_type": "markdown",
   "id": "2f9486a6-7673-46fc-98a6-be75c04bcd00",
   "metadata": {},
   "source": [
    "#### Continuous Actions\n",
    "\n",
    "##### Speaker\n",
    "The action space is `Box(0.0, 1.0, (3,), float32)` containing 3D vectors of values in \\[0, 1\\]. The values have no specific meaning, and are given, as is, as the listener observation's communication vector.\n",
    "\n",
    "##### Listener\n",
    "The action space is `Box(0.0, 1.0, (5,), float32)` containing 3D vectors of values in \\[0, 1\\]. Each value describes the amount of force applied in each direction (left, right, up, and down). Below is a precise ordering of the values in the action vector:\n",
    "1. No force (useful for some implementations)\n",
    "2. Force right (positive in x-axis)\n",
    "3. Force left (negative in x-axis)\n",
    "4. Force up (positive in y-axis)\n",
    "5. Force down (negative in y-axis)"
   ]
  },
  {
   "cell_type": "code",
   "execution_count": 5,
   "id": "6337af45-51fe-437d-8cac-323a7106997c",
   "metadata": {},
   "outputs": [
    {
     "name": "stdout",
     "output_type": "stream",
     "text": [
      "agnet: speaker_0\n",
      "observation: [0.65 0.15 0.15]\n",
      "\n",
      "agnet: listener_0\n",
      "observation: [ 0.          0.          0.25383052  0.36080134  0.567426   -0.21938929\n",
      " -0.28110778  0.171347    0.          0.          0.        ]\n",
      "\n",
      "agnet: speaker_0\n",
      "observation: [0.65 0.15 0.15]\n",
      "\n",
      "agnet: listener_0\n",
      "observation: [ 0.         -0.09999999  0.25383052  0.37080133  0.567426   -0.2093893\n",
      " -0.28110778  0.18134701  0.5         1.          0.2       ]\n",
      "\n"
     ]
    }
   ],
   "source": [
    "# speaker continuous action function\n",
    "def speaker_continuous_action(v1, v2, v3):\n",
    "    return np.array([v1, v2, v3], dtype=np.float32)\n",
    "\n",
    "# listener continuous action function\n",
    "def listener_continuous_action(right, left, up, down):\n",
    "    return np.array([0, right, left, up, down], dtype=np.float32)\n",
    "\n",
    "env = simple_speaker_listener_v3.env(continuous_actions=True)  # continuous actions env\n",
    "env.reset()\n",
    "\n",
    "# CHANGE ACTION AS NEEDED\n",
    "chosen_speaker_action = speaker_continuous_action(v1=0.5, v2=1.0, v3=0.2)\n",
    "\n",
    "# CHANGE ACTION AS NEEDED\n",
    "chosen_listener_action = listener_continuous_action(right=0.8, left=0.8, up=0.5, down=0.7)\n",
    "\n",
    "# run twice to show the chnage in the communication vector\n",
    "for i in range(2):\n",
    "    #speaker action\n",
    "    obs, _, _, _ = env.last()\n",
    "    print(f'agnet: {env.agents[0]}')\n",
    "    print(f'observation: {obs}')\n",
    "    print()\n",
    "    env.step(chosen_speaker_action)  \n",
    "    \n",
    "    # listener action\n",
    "    obs, _, _, _ = env.last()\n",
    "    print(f'agnet: {env.agents[1]}')\n",
    "    print(f'observation: {obs}')\n",
    "    print()\n",
    "    env.step(chosen_listener_action)  "
   ]
  },
  {
   "cell_type": "markdown",
   "id": "eae4ed6b-ff44-4f51-b4a0-6a9283ab965a",
   "metadata": {},
   "source": [
    "## Running the Environment\n",
    "\n",
    "We can run a game simulation by resetting an environment and playing out the episode. This is done by iterating over the agents repeatedly, providing an action for each agent at every iteration, until we wish to stop or until the `max_cycles` limit has been reached. In the example below, we define a policy function to generate random actions within each agent's action space.\n",
    "\n",
    "### Policies\n",
    "\n",
    "We implement a policy as a function that, given the current observation, returns an action to perform. Below we define a policy class that supports both `Discrete` and `Box` type action spaces that completely ignores the observation and samples a random valid action from the given action space."
   ]
  },
  {
   "cell_type": "code",
   "execution_count": 6,
   "id": "77711b6a-8570-46e5-bc5e-88edac9aa21d",
   "metadata": {},
   "outputs": [],
   "source": [
    "from gym.spaces import Discrete, Box\n",
    "\n",
    "# define a random policy for continuous action agents.\n",
    "# the policy returns a numpy array of the action space shape with random values between 0 and 1.\n",
    "class RandomPolicy:\n",
    "    def __init__(self, action_space):\n",
    "        # choose a policy function for this action space type\n",
    "        if isinstance(action_space, Discrete):  # discrete action policy\n",
    "            self.policy_fn = self.__discrete_policy\n",
    "        elif isinstance(action_space, Box):  # continuous action policy\n",
    "            self.policy_fn = self.__continuous_policy\n",
    "        else:  # other types are not supported\n",
    "            raise TypeError(f'action_space must be of type Box or Discrete. got {type(action_space).__name__}')\n",
    "        \n",
    "        self.action_space = action_space\n",
    "        \n",
    "    def __call__(self, observation):\n",
    "        # we completely ignore the observation and create a random valid action.\n",
    "        return self.policy_fn()\n",
    "    \n",
    "    def __discrete_policy(self):\n",
    "        # a random number within the discrete action range\n",
    "        return np.random.randint(self.action_space.n)\n",
    "    \n",
    "    def __continuous_policy(self):\n",
    "        # a random vector within the continuous range of the appropriate dimensionality\n",
    "        # convert to the right dtype to avoid clipping warnings (e.g. float64 to float32)\n",
    "        return np.random.uniform(self.action_space.low, self.action_space.high, self.action_space.shape).astype(self.action_space.dtype)"
   ]
  },
  {
   "cell_type": "markdown",
   "id": "eeed1034-f3a8-45db-ae98-e023993fb294",
   "metadata": {},
   "source": [
    "### Simulation\n",
    "\n",
    "We now define an environment with either a discrete or continuous action space that limits to a small number of steps, for the purposes of this demonstration, using the `max_cycles` parameter. We then create a policy for each agent and start iterating over them repeatedly. For this, the environment implements the `agent_iter` function. This function simply iterates over the list of agents `max_cycles` times, allowing us to perform `max_cycles` steps for each agent. An added bonus of using `agent_iter` is that it raises an error if there was no `step` call within the iteration (which can prevent horrible bugs). After the episode has ended, the agents' \"done\" status will be true, and . In this case the episode is complete and the environment must be reset if we wish to run it again."
   ]
  },
  {
   "cell_type": "code",
   "execution_count": 7,
   "id": "2b9ff00b-0939-47f9-acf8-eb3a7de90e82",
   "metadata": {},
   "outputs": [
    {
     "name": "stdout",
     "output_type": "stream",
     "text": [
      "speaker_0 reward:      0.0\n",
      "speaker_0 observation: [0.65 0.15 0.15]\n",
      "speaker_0 action:      [0.8003149  0.22646305 0.34666488]\n",
      "\n",
      "listener_0 reward:      0.0\n",
      "listener_0 observation: [ 0.          0.         -0.40749893  0.86787695  0.02217458  0.70224684\n",
      " -0.20109619 -0.2215645   0.          0.          0.        ]\n",
      "listener_0 action:      [0.07327786 0.33796993 0.19610927 0.27309957 0.71906203]\n",
      "\n",
      "speaker_0 reward:      -0.9642981758802109\n",
      "speaker_0 observation: [0.65 0.15 0.15]\n",
      "speaker_0 action:      [0.2752149 0.4685041 0.7870879]\n",
      "\n",
      "listener_0 reward:      -0.9642981758802109\n",
      "listener_0 observation: [ 0.07093033 -0.22298123 -0.41459197  0.8901751   0.01508154  0.72454494\n",
      " -0.20818922 -0.19926639  0.8003149   0.22646305  0.34666488]\n",
      "listener_0 action:      [0.15150264 0.7362857  0.10083412 0.9906669  0.4533504 ]\n",
      "\n",
      "speaker_0 reward:      -0.978476535079686\n",
      "speaker_0 observation: [0.65 0.15 0.15]\n",
      "speaker_0 action:      [0.46705744 0.2645737  0.26079756]\n",
      "\n",
      "listener_0 reward:      -0.978476535079686\n",
      "listener_0 observation: [ 0.37092352  0.10142235 -0.45168433  0.88003284 -0.02201081  0.71440274\n",
      " -0.24528158 -0.20940861  0.2752149   0.4685041   0.7870879 ]\n",
      "listener_0 action:      [0.14220518 0.31726277 0.5145013  0.55679667 0.9056758 ]\n",
      "\n",
      "speaker_0 reward:      -1.012432131207185\n",
      "speaker_0 observation: [0.65 0.15 0.15]\n",
      "speaker_0 action:      [0.39225352 0.7032955  0.6899747 ]\n",
      "\n",
      "listener_0 reward:      -1.012432131207185\n",
      "listener_0 observation: [ 0.17957339 -0.09837281 -0.46964166  0.8898701  -0.03996815  0.72424\n",
      " -0.2632389  -0.19957134  0.46705744  0.2645737   0.26079756]\n",
      "listener_0 action:      [0.226146   0.20981939 0.028194   0.537181   0.29020688]\n",
      "\n",
      "speaker_0 reward:      -1.02529882922329\n",
      "speaker_0 observation: [0.65 0.15 0.15]\n",
      "speaker_0 action:      [0.5159985  0.8014245  0.38018814]\n",
      "\n",
      "listener_0 reward:      -1.02529882922329\n",
      "listener_0 observation: [ 0.22549275  0.04970746 -0.49219093  0.8848994  -0.06251742  0.7192693\n",
      " -0.28578818 -0.20454209  0.39225352  0.7032955   0.6899747 ]\n",
      "listener_0 action:      [0.6280206  0.23582818 0.738286   0.7067115  0.01578184]\n",
      "\n"
     ]
    }
   ],
   "source": [
    "# CHOOSE MAX CYCLES AND DISCRETE OR CONTINUOUS ACTION SPACE\n",
    "env = simple_speaker_listener_v3.env(max_cycles=5, continuous_actions=True)\n",
    "env.reset()\n",
    "\n",
    "# create a random policy for both agents' action spaces.\n",
    "policies = {\n",
    "    env.agents[0]: RandomPolicy(env.action_space(env.agents[0])),\n",
    "    env.agents[1]: RandomPolicy(env.action_space(env.agents[1]))\n",
    "}\n",
    "\n",
    "# iterate over agents until the episode is complete\n",
    "for agent in env.agent_iter():\n",
    "    observation, reward, done, info = env.last()\n",
    "\n",
    "    # if done, the episode is complete. no more actions can be taken\n",
    "    if done:\n",
    "        break\n",
    "    \n",
    "    # choose an action and execute\n",
    "    action = policies[agent](observation)\n",
    "    env.step(action)\n",
    "    \n",
    "    # log everything\n",
    "    print(f'{agent} reward:      {reward}')\n",
    "    print(f'{agent} observation: {observation}')\n",
    "    print(f'{agent} action:      {action}')\n",
    "    print()"
   ]
  },
  {
   "cell_type": "markdown",
   "id": "0f1adc9c-a532-4fc1-9f01-61c912cda81a",
   "metadata": {
    "tags": []
   },
   "source": [
    "### Rendering\n",
    "\n",
    "We can render the environment to see visualize the observation space. We must call the `render` function at every iteration to create and update a rendering in a separate window. Below we show a 100-step episode controlled by our random policies."
   ]
  },
  {
   "cell_type": "code",
   "execution_count": 8,
   "id": "699fcf4a-9bbe-4c76-b045-e85228919a55",
   "metadata": {},
   "outputs": [],
   "source": [
    "# long episode for interesting rendering.\n",
    "env = simple_speaker_listener_v3.env(max_cycles=100, continuous_actions=True)\n",
    "env.reset()\n",
    "\n",
    "# create a random policy for both agents' action spaces.\n",
    "policies = {\n",
    "    env.agents[0]: RandomPolicy(env.action_space(env.agents[0])),\n",
    "    env.agents[1]: RandomPolicy(env.action_space(env.agents[1]))\n",
    "}\n",
    "\n",
    "# run an episode\n",
    "for agent in env.agent_iter():\n",
    "    observation, reward, done, info = env.last()\n",
    "    \n",
    "    # stop if done\n",
    "    if done:\n",
    "        break\n",
    "    \n",
    "    # choose and execute action\n",
    "    action = policies[agent](observation)\n",
    "    env.step(action)\n",
    "    \n",
    "    # render the environment\n",
    "    env.render('human')\n",
    "\n",
    "# This line is SUPPOSED to close the rendering window, but it does not.\n",
    "# restart the kernel close the window, and then don't run this cell again.\n",
    "env.close()"
   ]
  },
  {
   "cell_type": "markdown",
   "id": "28d1477e-81d8-4ac3-9bf8-2923060dfd6d",
   "metadata": {},
   "source": [
    "## Advanced Tools\n",
    "\n",
    "### Wrappers\n",
    "\n",
    "PettingZoo provides utilities called wrappers. They are used to alter the behavior of the environment with minimal effort wihtout changing the general environment API. In fact, the Simple Speaker Listener environment already wrapped upon creation. In the below demonstration, we can see that the environment type is actually a wrapper called `OrderEnforcingWrapper`. This class works like the original environment and adds checks that enforce the agent order, and adds extra functionality, e.g. the `agent_iter` function is implemented in this wrapper (and is not available in the raw environment). The underlying environment, revealed using the environment's `env` attribute, is actually wrapped by another wrapper called `AssertOutOfBoundsWrapper`, which checks that given actions are compatible with the agents' discrete action space (similarly, the continuous action space uses another wrapper called `ClipOutOfBoundsWrapper`). Only under this wrapper do we find the raw environment object. However, we can jump directly to the raw environment by using the `unwrapped` property."
   ]
  },
  {
   "cell_type": "code",
   "execution_count": 9,
   "id": "d0496a79-fd0e-43dc-90af-6eb987ecc886",
   "metadata": {},
   "outputs": [
    {
     "name": "stdout",
     "output_type": "stream",
     "text": [
      "external wrapper:      <class 'pettingzoo.utils.wrappers.order_enforcing.OrderEnforcingWrapper'>\n",
      "inner wrapper:         <class 'pettingzoo.utils.wrappers.assert_out_of_bounds.AssertOutOfBoundsWrapper'>\n",
      "raw environment:       <class 'pettingzoo.mpe.simple_speaker_listener_v3.raw_env'>\n",
      "environment unwrapped: <class 'pettingzoo.mpe.simple_speaker_listener_v3.raw_env'>\n"
     ]
    }
   ],
   "source": [
    "env = simple_speaker_listener_v3.env()\n",
    "print(f'external wrapper:      {type(env)}')\n",
    "print(f'inner wrapper:         {type(env.env)}')\n",
    "print(f'raw environment:       {type(env.env.env)}')\n",
    "print(f'environment unwrapped: {type(env.unwrapped)}')"
   ]
  },
  {
   "cell_type": "markdown",
   "id": "2be00eb9-eb5c-4301-983e-b13c5ad918ab",
   "metadata": {},
   "source": [
    "#### Custom Wrappers\n",
    "\n",
    "Using the `BaseWrapper` abstraction, we can create our own wrappers. We demonstrate this below with a custom wrapper that turns this environment into a single-agent environment. This is done by skipping the speaker's step before the user has a chance to do so. The action will be the goal color if continuous or some constant message for each color if discrete. We the user to  "
   ]
  },
  {
   "cell_type": "code",
   "execution_count": 10,
   "id": "193718b3-71e3-47dd-b4ce-e3a74c52405e",
   "metadata": {},
   "outputs": [],
   "source": [
    "from pettingzoo.utils import wrappers\n",
    "import numpy as np\n",
    "\n",
    "class ListenerOnlyWrapper(wrappers.BaseWrapper):\n",
    "    \n",
    "    def __init__(self, env):\n",
    "        super().__init__(env)\n",
    "        \n",
    "        # reset to skip speaker before new game\n",
    "        self.reset()\n",
    "        \n",
    "        # set single agent list\n",
    "        self.agents = self.agents[1:]\n",
    "        \n",
    "    def reset(self):\n",
    "        super().reset()\n",
    "        \n",
    "        # skip speaker action\n",
    "        self.__step_speaker()\n",
    "    \n",
    "    def step(self, action):\n",
    "        super().step(action)  # do listener action\n",
    "        \n",
    "        # skip speaker action\n",
    "        self.__step_speaker()\n",
    "        \n",
    "    def __step_speaker(self):\n",
    "        _, _, done, _ = self.env.last()\n",
    "        goal_color, _, done, _ = self.env.last()\n",
    "        \n",
    "        # speaker is done before the listener.\n",
    "        if done:\n",
    "            return\n",
    "        \n",
    "        # step with the correct action type\n",
    "        if self.env.unwrapped.continuous_actions:\n",
    "            super().step(goal_color)\n",
    "        else:\n",
    "            super().step(np.argmax(goal_color))"
   ]
  },
  {
   "cell_type": "markdown",
   "id": "adfc89c6-9834-4b7c-a1ad-5c5f821ab51f",
   "metadata": {},
   "source": [
    "We can add wrap a new environment by creating a new wrapper instance initialized with the wrapped environment."
   ]
  },
  {
   "cell_type": "code",
   "execution_count": 11,
   "id": "19732f47-9b7b-4666-b056-59395338bfa6",
   "metadata": {},
   "outputs": [
    {
     "name": "stdout",
     "output_type": "stream",
     "text": [
      "custom wrapped environment: ListenerOnlyWrapper<simple_speaker_listener_v3>\n",
      "list of agents:             ['listener_0']\n"
     ]
    }
   ],
   "source": [
    "env = simple_speaker_listener_v3.env(max_cycles=5, continuous_actions=True)\n",
    "env = ListenerOnlyWrapper(env)\n",
    "print(f'custom wrapped environment: {env}')\n",
    "print(f'list of agents:             {env.agents}')"
   ]
  },
  {
   "cell_type": "markdown",
   "id": "94da8c5f-9b21-426e-943f-80de0396c683",
   "metadata": {},
   "source": [
    "Like before, we can simulate an episode with `agent_iter` which will now always select the listener. Note that the initial observation contains a communication vector of 0 because no communication is received before the first step. We can see the listener's observation in the following observations until the end of the episode"
   ]
  },
  {
   "cell_type": "code",
   "execution_count": 12,
   "id": "cc154024-5e7c-4008-8e9b-ab32e39dab19",
   "metadata": {},
   "outputs": [
    {
     "name": "stdout",
     "output_type": "stream",
     "text": [
      "listener_0 reward:      0.0\n",
      "listener_0 observation: [ 0.          0.          0.86115235  0.19098532  1.5698947  -0.10147929\n",
      "  0.20799956 -0.43903372  0.          0.          0.        ]\n",
      "listener_0 action:      [0.04389883 0.493977   0.1372025  0.03613445 0.84057933]\n",
      "\n",
      "listener_0 reward:      -0.7646347726512953\n",
      "listener_0 observation: [ 0.17838725 -0.40222245  0.84331363  0.23120756  1.552056   -0.06125704\n",
      "  0.19016084 -0.39881146  0.65        0.15        0.15      ]\n",
      "listener_0 action:      [0.13004364 0.91196555 0.7504862  0.16325119 0.9451058 ]\n",
      "\n",
      "listener_0 reward:      -0.7657352388132257\n",
      "listener_0 observation: [ 0.21453011 -0.6925942   0.8218606   0.30046698  1.5306029   0.00800237\n",
      "  0.16870782 -0.32955205  0.65        0.15        0.15      ]\n",
      "listener_0 action:      [0.3019261  0.8184272  0.8000573  0.69732434 0.8271661 ]\n",
      "\n",
      "listener_0 reward:      -0.7765990997561083\n",
      "listener_0 observation: [ 0.17008254 -0.5843665   0.80485237  0.35890362  1.5135946   0.06643902\n",
      "  0.15169957 -0.2711154   0.65        0.15        0.15      ]\n",
      "listener_0 action:      [0.9309508  0.4790479  0.5578001  0.46401992 0.69730675]\n",
      "\n",
      "listener_0 reward:      -0.805393337453474\n",
      "listener_0 observation: [ 0.0881858  -0.5549183   0.79603374  0.41439545  1.5047761   0.12193085\n",
      "  0.14288099 -0.21562357  0.65        0.15        0.15      ]\n",
      "listener_0 action:      [0.15684798 0.68946224 0.5882992  0.82861    0.57739204]\n",
      "\n"
     ]
    }
   ],
   "source": [
    "policy = RandomPolicy(env.action_space(env.agents[0]))\n",
    "for agent in env.agent_iter():\n",
    "    observation, reward, done, info = env.last()\n",
    "    \n",
    "    # stop if done\n",
    "    if done:\n",
    "        break\n",
    "    \n",
    "    # choose and execute action\n",
    "    action = policy(observation)\n",
    "    env.step(action)\n",
    "    \n",
    "    # log everything\n",
    "    print(f'{agent} reward:      {reward}')\n",
    "    print(f'{agent} observation: {observation}')\n",
    "    print(f'{agent} action:      {action}')\n",
    "    print()"
   ]
  },
  {
   "cell_type": "markdown",
   "id": "547b7dee-de48-4ea8-8591-e5fba0316e9d",
   "metadata": {},
   "source": [
    "### Parallel Environments\n",
    "\n",
    "Up until now we were able to view each agent's observations and act individually, even though the actions were only applied after a full cycle through all the agents. Many PettingZoo environments support acting in parallel using yet another wrapper, including Simple Speaker Listener. This is important for implementing algorithms that consider joint actions, e.g., centralized control. We can create a parallel environment by invoking the `parallel_env` function."
   ]
  },
  {
   "cell_type": "code",
   "execution_count": 13,
   "id": "16ebf152-3750-42ef-bb15-6585074e72bc",
   "metadata": {},
   "outputs": [],
   "source": [
    "env = simple_speaker_listener_v3.parallel_env()"
   ]
  },
  {
   "cell_type": "markdown",
   "id": "4214b307-5b96-49a3-8051-399da21d987b",
   "metadata": {},
   "source": [
    "In this environment, both the observations of the speaker and listener agents are bundled together in a dictionary. The initial environment observations is returned from the `reset` function."
   ]
  },
  {
   "cell_type": "code",
   "execution_count": 14,
   "id": "063cdeba-ad2c-41d4-99d9-c187bde4cb96",
   "metadata": {},
   "outputs": [
    {
     "data": {
      "text/plain": [
       "{'speaker_0': array([0.15, 0.65, 0.15], dtype=float32),\n",
       " 'listener_0': array([ 0.        ,  0.        , -1.5332555 , -0.17393556, -1.3299489 ,\n",
       "         0.10230795, -1.3239901 , -0.88061666,  0.        ,  0.        ,\n",
       "         0.        ], dtype=float32)}"
      ]
     },
     "execution_count": 14,
     "metadata": {},
     "output_type": "execute_result"
    }
   ],
   "source": [
    "observations = env.reset()\n",
    "observations"
   ]
  },
  {
   "cell_type": "markdown",
   "id": "b6d8e41f-9bb7-417a-99fe-3aec12d20a68",
   "metadata": {},
   "source": [
    "Actions are performed jointly using the `step` function. This will return the next observation bundle together with separate dictionaries for the reward and \"done\" status for each agent."
   ]
  },
  {
   "cell_type": "code",
   "execution_count": 15,
   "id": "7b6d600f-c229-48fa-b970-861bd03d0d61",
   "metadata": {},
   "outputs": [
    {
     "name": "stdout",
     "output_type": "stream",
     "text": [
      "new observations:\n",
      "{'speaker_0': array([0.15, 0.65, 0.15], dtype=float32), 'listener_0': array([ 0.5       ,  0.        , -1.5832555 , -0.17393556, -1.3799489 ,\n",
      "        0.10230795, -1.37399   , -0.88061666,  0.        ,  1.        ,\n",
      "        0.        ], dtype=float32)}\n",
      "step rewards:\n",
      "defaultdict(<class 'int'>, {'speaker_0': -1.9147259002215258, 'listener_0': -1.9147259002215258})\n",
      "done status:\n",
      "{'speaker_0': False, 'listener_0': False}\n"
     ]
    }
   ],
   "source": [
    "joint_action = {'speaker_0': 1, 'listener_0': 2}\n",
    "observations, rewards, done, info = env.step(joint_action)\n",
    "\n",
    "print('new observations:')\n",
    "print(observations)\n",
    "print('step rewards:')\n",
    "print(rewards)\n",
    "print('done status:')\n",
    "print(done)"
   ]
  },
  {
   "cell_type": "markdown",
   "id": "a4b8f35c-e50f-4a8b-bb75-d18bb384d3bf",
   "metadata": {},
   "source": [
    "Putting it all together, a simulation might look something like this:"
   ]
  },
  {
   "cell_type": "code",
   "execution_count": 16,
   "id": "1b9d18ab-dc00-47b2-b053-cf06367f471d",
   "metadata": {},
   "outputs": [
    {
     "name": "stdout",
     "output_type": "stream",
     "text": [
      "rewards:      defaultdict(<class 'int'>, {'speaker_0': -1.4730577606576092, 'listener_0': -1.4730577606576092})\n",
      "observations: {'speaker_0': array([0.15, 0.65, 0.15], dtype=float32), 'listener_0': array([ 0.        ,  0.        , -1.705754  ,  0.55679   , -0.7011504 ,\n",
      "        0.9906795 ,  0.00769451,  0.30910408,  1.        ,  0.        ,\n",
      "        0.        ], dtype=float32)}\n",
      "actions:      {'speaker_0': 0, 'listener_0': 0}\n",
      "\n",
      "rewards:      defaultdict(<class 'int'>, {'speaker_0': -1.4730577606576092, 'listener_0': -1.4730577606576092})\n",
      "observations: {'speaker_0': array([0.15, 0.65, 0.15], dtype=float32), 'listener_0': array([ 0.        ,  0.        , -1.705754  ,  0.55679   , -0.7011504 ,\n",
      "        0.9906795 ,  0.00769451,  0.30910408,  1.        ,  0.        ,\n",
      "        0.        ], dtype=float32)}\n",
      "actions:      {'speaker_0': 0, 'listener_0': 0}\n",
      "\n",
      "rewards:      defaultdict(<class 'int'>, {'speaker_0': -1.3764898118077564, 'listener_0': -1.3764898118077564})\n",
      "observations: {'speaker_0': array([0.15, 0.65, 0.15], dtype=float32), 'listener_0': array([ 0.        ,  0.5       , -1.705754  ,  0.50679   , -0.7011504 ,\n",
      "        0.9406795 ,  0.00769451,  0.25910407,  1.        ,  0.        ,\n",
      "        0.        ], dtype=float32)}\n",
      "actions:      {'speaker_0': 0, 'listener_0': 4}\n",
      "\n",
      "rewards:      defaultdict(<class 'int'>, {'speaker_0': -1.2397300581518453, 'listener_0': -1.2397300581518453})\n",
      "observations: {'speaker_0': array([0.15, 0.65, 0.15], dtype=float32), 'listener_0': array([-0.5       ,  0.375     , -1.6557541 ,  0.46929002, -0.6511504 ,\n",
      "        0.90317947,  0.05769451,  0.22160408,  1.        ,  0.        ,\n",
      "        0.        ], dtype=float32)}\n",
      "actions:      {'speaker_0': 0, 'listener_0': 1}\n",
      "\n"
     ]
    }
   ],
   "source": [
    "env = simple_speaker_listener_v3.parallel_env(max_cycles=5)\n",
    "observations = env.reset()\n",
    "\n",
    "# a random policy for each agent\n",
    "policies = {\n",
    "    env.agents[0]: RandomPolicy(env.action_space(env.agents[0])),\n",
    "    env.agents[1]: RandomPolicy(env.action_space(env.agents[1]))\n",
    "}\n",
    "\n",
    "for _ in range(env.unwrapped.max_cycles):\n",
    "    joint_action = {agent: policies[agent](obs) for agent, obs in observations.items()}\n",
    "    observations, rewards, done, info = env.step(joint_action)\n",
    "    \n",
    "    if any(done.values()):\n",
    "        break\n",
    "    \n",
    "    # log everything\n",
    "    print(f'rewards:      {rewards}')\n",
    "    print(f'observations: {observations}')\n",
    "    print(f'actions:      {joint_action}')\n",
    "    print()"
   ]
  },
  {
   "cell_type": "markdown",
   "id": "acb81bbb-a237-49ad-ac77-462524359b24",
   "metadata": {},
   "source": [
    "### Other Environments\n",
    "\n",
    "There already exists a single-agent and single-landmark version of Simple Speaker Listener, called Simple. Here, the one agent acts like the listener and has a simplified observation space containing the agent's velocity and the landmark's relative location. There are other, more complex environments in the MPE library and other environment libraries in PettingZoo. You can explore them in the [PettingZoo Website](https://www.pettingzoo.ml/envs)."
   ]
  },
  {
   "cell_type": "code",
   "execution_count": 17,
   "id": "4d1577e7-21b8-47a2-9536-5b6455bd9c91",
   "metadata": {},
   "outputs": [
    {
     "name": "stdout",
     "output_type": "stream",
     "text": [
      "discrete actions:\n",
      "- agent 1: agent_0\n",
      "\t- observation space: Box(-inf, inf, (4,), float32)\n",
      "\t- action space: Discrete(5)\n",
      "\n",
      "continuous actions:\n",
      "- agent 1: agent_0\n",
      "\t- observation space: Box(-inf, inf, (4,), float32)\n",
      "\t- action space: Box(0.0, 1.0, (5,), float32)\n"
     ]
    }
   ],
   "source": [
    "from pettingzoo.mpe import simple_v2\n",
    "import numpy as np\n",
    "\n",
    "\n",
    "def print_env_info(continuous_actions):\n",
    "    env = simple_v2.env(continuous_actions=continuous_actions)\n",
    "    env.reset()\n",
    "    \n",
    "    print('continuous actions:' if continuous_actions else 'discrete actions:')\n",
    "    \n",
    "    for i, agent in enumerate(env.agents, 1):\n",
    "        print(f'- agent {i}: {agent}')\n",
    "        print(f'\\t- observation space: {env.observation_space(agent)}')\n",
    "        print(f'\\t- action space: {env.action_space(agent)}')\n",
    "\n",
    "\n",
    "print_env_info(continuous_actions=False)\n",
    "print()\n",
    "print_env_info(continuous_actions=True)"
   ]
  }
 ],
 "metadata": {
  "kernelspec": {
   "display_name": "Python 3 (ipykernel)",
   "language": "python",
   "name": "python3"
  },
  "language_info": {
   "codemirror_mode": {
    "name": "ipython",
    "version": 3
   },
   "file_extension": ".py",
   "mimetype": "text/x-python",
   "name": "python",
   "nbconvert_exporter": "python",
   "pygments_lexer": "ipython3",
   "version": "3.8.12"
  }
 },
 "nbformat": 4,
 "nbformat_minor": 5
}
