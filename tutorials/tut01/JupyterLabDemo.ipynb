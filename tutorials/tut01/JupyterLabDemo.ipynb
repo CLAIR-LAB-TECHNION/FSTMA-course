{
 "cells": [
  {
   "cell_type": "markdown",
   "id": "4276eab9-c5cf-4193-a90e-d3d3ea18d238",
   "metadata": {},
   "source": [
    "<img src='https://www.tng-project.org/static/data/lab_logo_tng.png'/>\n",
    "\n",
    "The [python](https://www.python.org/) programming language contains many science-oriented libraries such as `numpy` (a powerfull and efficient multi-dimensional array library), `matplotlib` (a fully stacked graphing and plotting library), and many more, making it great for interactive scientific coding. [Jupyter](https://jupyter.org/) is a non-profit organization that builds open-source software for interactive scientific coding, accross many programming languages, through the use of web-UI that displays ipython notebooks, sometimes called jupyter notebooks, or simply `.ipynb` files. It is based on the [IPython project](https://ipython.org/), and supports python out of the box.\n",
    "\n",
    "Jupyter Lab is an IDE-like web interface capable displaying and running code from jupyter notebooks in a meaningful and intuitive way. It works, for the most part, like any other python IDE. We can edit python files, regular text files, and anything in between, with syntax highlighting supported for many files types including markdown (`.md`) YMAL (`.yml`) among others. The GUI functions as one would expect from an IDE, allowing us to resize panes, change fonts, tabbed file management, light and dark themes, and many other functionalities. There is even an extension manager for third party extensions that enhance customizability and functionality."
   ]
  },
  {
   "cell_type": "markdown",
   "id": "c202b61e-e39e-4b01-988d-406c39f8f32e",
   "metadata": {},
   "source": [
    "# Install and launch\n",
    "\n",
    "Tehre are two ways to install Jupyter Lab on a local machine.\n",
    "1. with conda - `conda install -c conda-forge jupyterlab`\n",
    "2. with pip - `pip install jupyterlab`\n",
    "\n",
    "Once installed, we can run `jupyter lab` from the terminal to start a jupyter server. By default, a new tab should open on the machine's default web browser, but if that is not the case then use one of the links provided in the command output in the terminal."
   ]
  },
  {
   "cell_type": "markdown",
   "id": "c7b71120-73cf-49ac-bca4-4f3d634559b2",
   "metadata": {},
   "source": [
    "# The Interface\n",
    "<img src=\"images/interface.png\"/>\n",
    "\n",
    "1. Menu - general UI and engine control\n",
    "2. New items - launcher, new directory, upload files, sync files with disk.\n",
    "3. Directory navigation\n",
    "4. File browser\n",
    "5. Open tabs bar\n",
    "6. Launcher tab - new notebook, code file, text file, terminal, console, ...\n",
    "7. Notebook cell settings - used for creating [reveal.js](https://revealjs.com/) presentations out of notebooks\n",
    "8. Debugging tools"
   ]
  },
  {
   "cell_type": "markdown",
   "id": "39554af0-ef08-48b2-a413-dbb0c1643cbc",
   "metadata": {},
   "source": [
    "# Notebooks\n",
    "\n",
    "Files with extension `.ipynb` are treated as jupyter notebooks. These notebooks are divide dinto cells containing either code or text. The cell manipulation toolbar is located directly under the open tabs bar, where one can save all changes, add new cells, cut existing cells, copy/paste cells, and run/stop code cells. Jupyter notebooks support two kinds of cells: Code, Markdown, and Raw. We can select the cell type by selecting the cell we wish to edit and choosing the correct type from the drop-down menu in the cell manipulation bar."
   ]
  },
  {
   "cell_type": "markdown",
   "id": "bf6542b2-b1d1-484e-83ff-3296b26d8092",
   "metadata": {},
   "source": [
    "## Text\n",
    "We can write rich text representations with [markdown](https://www.markdownguide.org/) (Markdown cell type) or raw utf-8 text (Raw cell type). Raw types are simply raw text without any special formatting that can be rendered by running the current cell by pressing the triangular button in the cell manipulation bar. Markdown is a common convention for formatted text written in plain text. For example, the following text will be rendered as a link:  \n",
    "<code>\\[Google\\](https://www.google.com)</code>  \n",
    "Rendered:  \n",
    "[Google](https://www.google.com)  \n",
    "Markdown is used by a large community of coders offering support via blog and forum posts, and is worth exploring in order to create more aesthetic notebooks.\n",
    "\n",
    "Markdown cells also support [$\\LaTeX$](https://www.latex-project.org/) math  notations by wrapping them with the dollar sign character '\\$'. For example, the following text will be rendered as the quadratic equation:  \n",
    "<code>\\$x_{1,2}=\\frac{-b\\pm\\sqrt{b^2-4ac}}{2a}\\$</code>  \n",
    "Rendered:  \n",
    "$x_{1,2}=\\frac{-b\\pm\\sqrt{b^2-4ac}}{2a}$  \n",
    "For more information on $\\LaTeX$ math notations, checkout [this entry](https://www.overleaf.com/learn/latex/Mathematical_expressions).\n",
    "\n",
    "Mixing rich / mathematical text in between code cells is useful for documentations, demonstrations, presentations, etc. Markdown cells have even more functionality, from displaying images and animated gifs to rendering raw HTML code. Lookup specific markdown cell functionality for find out more."
   ]
  },
  {
   "cell_type": "markdown",
   "id": "abb33c18-98db-4281-b3e2-bf154fdc40be",
   "metadata": {},
   "source": [
    "## Running Code\n",
    "\n",
    "Jupyter notebooks run using a background console called a kernel. This kernel keeps keeps the program's memory in tact until it is restarted, shut down, or crashes -- similarly to the python console. The kernel being used for the current notebook can be seen in the top right corner of the notebook. The default kernel is based on the python version in which we installed jupyter (with pip / conda). We can write code in \"Code\" type cells to get syntax highlighting and automatic code completion. Code cells can be run using the notebook's live kernel and its current memory state by pressing the triangular button in the cell manipulation bar.\n",
    "\n",
    "Whenever a cell is run, the last exression in the cell is printed to the console. Anything we wish to print beforehand must be printed using the `print` function."
   ]
  },
  {
   "cell_type": "code",
   "execution_count": 1,
   "id": "ce816dc9-5f0a-456d-bff2-048fddb0f7d9",
   "metadata": {},
   "outputs": [
    {
     "name": "stdout",
     "output_type": "stream",
     "text": [
      "0\n",
      "1\n",
      "2\n"
     ]
    },
    {
     "data": {
      "text/plain": [
       "'hello everyone'"
      ]
     },
     "execution_count": 1,
     "metadata": {},
     "output_type": "execute_result"
    }
   ],
   "source": [
    "for i in range(3):\n",
    "    print(i)\n",
    "    \n",
    "\"hello everyone\""
   ]
  },
  {
   "cell_type": "markdown",
   "id": "9860622c-956f-43f5-893c-a3ccb79defd9",
   "metadata": {},
   "source": [
    "When a variable is assigned, it remains in memory until the end of the kernel's lifetime. This means that the variable can be used in any cell once it has been initialized. We can even use a variable in a cell preceeding the assignment cell as long as we run the initialization cell first!"
   ]
  },
  {
   "cell_type": "code",
   "execution_count": 2,
   "id": "de40d6d5-72d6-4ef1-93b3-d7a2e742e073",
   "metadata": {},
   "outputs": [],
   "source": [
    "x = 2"
   ]
  },
  {
   "cell_type": "code",
   "execution_count": 3,
   "id": "d2b18970-b1e7-4d0a-93b3-2583ee04489f",
   "metadata": {},
   "outputs": [
    {
     "data": {
      "text/plain": [
       "4"
      ]
     },
     "execution_count": 3,
     "metadata": {},
     "output_type": "execute_result"
    }
   ],
   "source": [
    "def f(x):\n",
    "    return 2*x\n",
    "\n",
    "f(x)"
   ]
  },
  {
   "cell_type": "markdown",
   "id": "30c9f278-d508-48b3-9d26-590e419e73ae",
   "metadata": {},
   "source": [
    "By using the exclamation point character '!' we can run terminal commands. For example, the cell below will copy the interface screenshot from the images folder to its parent folder. A common use for this feature is to install external packages via pip like so:  \n",
    "`!pip install numpy`"
   ]
  },
  {
   "cell_type": "code",
   "execution_count": 4,
   "id": "d75a0c71-0afd-42ec-a451-a1ff2181c0b9",
   "metadata": {},
   "outputs": [
    {
     "name": "stdout",
     "output_type": "stream",
     "text": [
      "interface.png                   speaker_listener_screenshot.png\n"
     ]
    }
   ],
   "source": [
    "!ls images/"
   ]
  },
  {
   "cell_type": "markdown",
   "id": "f26bc548-dc68-4c47-8b7f-dc80d2f1ee19",
   "metadata": {},
   "source": [
    "Like any other python program, we can import code from built-in / installed / and local python modules. For example, we can use the `os` module to list the current working directory."
   ]
  },
  {
   "cell_type": "code",
   "execution_count": 5,
   "id": "478e2052-6770-4551-9f08-aef9e9d6eda9",
   "metadata": {},
   "outputs": [
    {
     "data": {
      "text/plain": [
       "['.DS_Store',\n",
       " 'environment.yml',\n",
       " 'code_files',\n",
       " 'images',\n",
       " 'AnacondaCrashCourse.ipynb',\n",
       " '__pycache__',\n",
       " 'AnacondaCrashCourse.pdf',\n",
       " 'MultiTaxiEnvDoc.ipynb',\n",
       " 'tutorial1-Python_Numpy.ipynb',\n",
       " '.ipynb_checkpoints',\n",
       " 'JupyterLabDemo.ipynb',\n",
       " 'PttingZooDemo.ipynb',\n",
       " '.idea']"
      ]
     },
     "execution_count": 5,
     "metadata": {},
     "output_type": "execute_result"
    }
   ],
   "source": [
    "import os\n",
    "os.listdir('.')"
   ]
  },
  {
   "cell_type": "markdown",
   "id": "ffddabe8-8fa5-4fb1-992c-b3c9a8a269f2",
   "metadata": {},
   "source": [
    "We can import our local python modules as we would normally do in any python script."
   ]
  },
  {
   "cell_type": "code",
   "execution_count": 6,
   "id": "6b0303fb-aa95-4f61-95fb-a0ebf7e0637c",
   "metadata": {},
   "outputs": [
    {
     "name": "stdout",
     "output_type": "stream",
     "text": [
      "imported successfully from code_files/my_script.py\n"
     ]
    }
   ],
   "source": [
    "from code_files.my_script import something_to_import\n",
    "\n",
    "something_to_import()"
   ]
  },
  {
   "cell_type": "markdown",
   "id": "d92a7b64-5613-494f-92b5-87236172a123",
   "metadata": {},
   "source": [
    "## Magic Functions\n",
    "\n",
    "Magic funcitons control the funcionality of certain libraries integrated with jupyter. We can call these functions using the percent character '%'. Some notable examples include:\n",
    "- `%matplotlib inline` - Shows matplotlib fiures inline with the cell output\n",
    "- `%matplotlib notebook` - Live interactive plot\n",
    "- `%load_ext` - Load a jupyter extension, e.g. `%load_ext autoreload`.\n",
    "- `%autoreload 2` - If `autoreload` is loded, setting it to 2 will cause changes in external `.py` files to take effect immediately.\n",
    "\n",
    "Below is an example of using the `timeit` function checks how long it takes some function to run."
   ]
  },
  {
   "cell_type": "code",
   "execution_count": 7,
   "id": "19c78006-065b-46d1-9b65-7a125554c1c3",
   "metadata": {},
   "outputs": [
    {
     "name": "stdout",
     "output_type": "stream",
     "text": [
      "23.2 ns ± 0.494 ns per loop (mean ± std. dev. of 7 runs, 10,000,000 loops each)\n"
     ]
    }
   ],
   "source": [
    "%timeit something_to_import"
   ]
  },
  {
   "cell_type": "markdown",
   "id": "1a595ea7-ece7-4820-b514-0f11e4b405da",
   "metadata": {},
   "source": [
    "## Errors\n",
    "\n",
    "Syntax and runtime errors will not cause the kernel to crash, similarly to how a terminal shell will not crash if given a bad command. After the error has occurred, the kernel's memory is still in tact, allowing us to access previously defined variables."
   ]
  },
  {
   "cell_type": "code",
   "execution_count": 8,
   "id": "1f125a23-ed97-4ed3-ae6e-9815ed12a36a",
   "metadata": {},
   "outputs": [
    {
     "ename": "SyntaxError",
     "evalue": "invalid syntax (4115536079.py, line 2)",
     "output_type": "error",
     "traceback": [
      "\u001b[0;36m  Input \u001b[0;32mIn [8]\u001b[0;36m\u001b[0m\n\u001b[0;31m    x 0\u001b[0m\n\u001b[0m      ^\u001b[0m\n\u001b[0;31mSyntaxError\u001b[0m\u001b[0;31m:\u001b[0m invalid syntax\n"
     ]
    }
   ],
   "source": [
    "# syntax error\n",
    "x 0"
   ]
  },
  {
   "cell_type": "code",
   "execution_count": 9,
   "id": "44268b5c-e0c0-4eff-a55e-ae801d280062",
   "metadata": {},
   "outputs": [
    {
     "ename": "ZeroDivisionError",
     "evalue": "division by zero",
     "output_type": "error",
     "traceback": [
      "\u001b[0;31m---------------------------------------------------------------------------\u001b[0m",
      "\u001b[0;31mZeroDivisionError\u001b[0m                         Traceback (most recent call last)",
      "Input \u001b[0;32mIn [9]\u001b[0m, in \u001b[0;36m<cell line: 2>\u001b[0;34m()\u001b[0m\n\u001b[1;32m      1\u001b[0m \u001b[38;5;66;03m# runtime error\u001b[39;00m\n\u001b[0;32m----> 2\u001b[0m \u001b[43mx\u001b[49m\u001b[43m \u001b[49m\u001b[38;5;241;43m/\u001b[39;49m\u001b[43m \u001b[49m\u001b[38;5;241;43m0\u001b[39;49m\n",
      "\u001b[0;31mZeroDivisionError\u001b[0m: division by zero"
     ]
    }
   ],
   "source": [
    "# runtime error\n",
    "x / 0"
   ]
  },
  {
   "cell_type": "code",
   "execution_count": 10,
   "id": "77794ffd-6273-4807-8333-fe9430c3beea",
   "metadata": {},
   "outputs": [
    {
     "data": {
      "text/plain": [
       "2"
      ]
     },
     "execution_count": 10,
     "metadata": {},
     "output_type": "execute_result"
    }
   ],
   "source": [
    "# x still exists in memory\n",
    "x"
   ]
  },
  {
   "cell_type": "markdown",
   "id": "9c9e6ae9-11cd-4303-8df2-0f80ffa33587",
   "metadata": {},
   "source": [
    "## Exporting\n",
    "\n",
    "We can export a jupyter notebook into a large number of sharable formats out of the box. To do this, navigate via the menu to:  \n",
    "File --> Save and export notebook as --> \\<format\\>  \n",
    "Available formats include:\n",
    "* HTML\n",
    "* LaTeX\n",
    "* PDF (requires an installation of `tex` on your local machine)\n",
    "* rst\n",
    "* python script\n",
    "* reveal.js"
   ]
  },
  {
   "cell_type": "markdown",
   "id": "a52df1a3-1ae9-4d7f-8ff9-b60bb5b5dd04",
   "metadata": {},
   "source": [
    "# Conclusion\n",
    "\n",
    "Jupyter Lab is a useful tool for scientific programming that contains a wide range of tools that let us create tidy and versitile documents that incorporate live code. It has many more features that were not covered in this notebook, not including the large number of extensions available. This notebook can be exported a variety of common formats and shared with others. Jupyter notebooks have become a staple in the python community and Jupyter Lab is the next generation of notebook processing."
   ]
  }
 ],
 "metadata": {
  "kernelspec": {
   "display_name": "Python 3 (ipykernel)",
   "language": "python",
   "name": "python3"
  },
  "language_info": {
   "codemirror_mode": {
    "name": "ipython",
    "version": 3
   },
   "file_extension": ".py",
   "mimetype": "text/x-python",
   "name": "python",
   "nbconvert_exporter": "python",
   "pygments_lexer": "ipython3",
   "version": "3.8.12"
  },
  "toc-autonumbering": false,
  "toc-showcode": false
 },
 "nbformat": 4,
 "nbformat_minor": 5
}
