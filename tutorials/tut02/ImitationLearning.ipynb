{
 "cells": [
  {
   "cell_type": "markdown",
   "id": "e59cf269-97db-49f3-accd-4f7801beb692",
   "metadata": {},
   "source": [
    "Author: Guy Azran  \n",
    "E-mail: [guy.azran@campus.technion.ac.il](mailto:guy.azran@campus.technion.ac.il)"
   ]
  },
  {
   "cell_type": "markdown",
   "id": "e8c04ad1-e844-4836-9de1-206dc454d870",
   "metadata": {
    "tags": []
   },
   "source": [
    "# Imitation Learning\n",
    "\n",
    "<img src='https://upload.wikimedia.org/wikipedia/commons/1/1f/Makak_neonatal_imitation.png?1648499532601' width=1000/>\n",
    "\n",
    "<a id=\"section:intro\"></a>\n",
    "\n",
    "# Introduction\n",
    "Imitation Learning (IL) is a technique for learning a policy from demonstrations produced by an \"expert\" (in most cases, a human). There are several types of imitation learning methods, but the simplest approach is called Behavior Cloning (BC). In BC, we attempt to learn a classifier (or regressor if actions are continuous) where the feature space $\\mathcal{X}$ is some representation of the state and the label set $\\mathcal{Y}$ is the set of actions. The expert provides a \"correct\" action for a sample set of states by running in the environment and recording the actions taken at each state. This data is used to learn a classifier that predicts what action the expert would have taken at each state.\n",
    "\n",
    "In this notebook, we present the BC method and implement an example on the [gym taxi environment](https://gym.openai.com/envs/Taxi-v3/). Our expert will be an A* algorithm with an admissible heuristic (ensuring optimality). We will then learn from the collected expert data using a multi-layer perceptron neural network, implemented in pytorch.\n",
    "\n",
    "Recommended Lecture on IL: [Part 1](https://www.youtube.com/watch?v=kGc8jOy5_zY), [Part 2](https://www.youtube.com/watch?v=06uB13C5pxw), [Part 3](https://www.youtube.com/watch?v=a5wkzPa4fO4)"
   ]
  },
  {
   "cell_type": "code",
   "execution_count": 1,
   "id": "2bcb5e2f-b9e0-4354-a24a-2f893b1313e6",
   "metadata": {},
   "outputs": [],
   "source": [
    "%matplotlib inline\n",
    "\n",
    "%load_ext autoreload\n",
    "%autoreload 2\n",
    "\n",
    "import itertools\n",
    "\n",
    "from collections import deque\n",
    "\n",
    "import gym\n",
    "import matplotlib.pyplot as plt\n",
    "import numpy as np\n",
    "import torch\n",
    "\n",
    "from AI_agents.Environments.gym_problem import GymProblem\n",
    "from AI_agents.Search.best_first_search import a_star\n",
    "from pettingzoo.mpe import simple_v2\n",
    "from torch.utils.data import DataLoader\n",
    "from tqdm.auto import tqdm\n",
    "\n",
    "from il_utils.dataset import ImitationLearningDataset\n",
    "from il_utils.model import MLP\n",
    "from il_utils.training import train_torch_model_sgd\n",
    "from common.evaluation import evaluate_policy\n",
    "from common.ipython_vis import animate_policy\n",
    "from common.mpe_physics import PhysicsUtils\n",
    "from common.pz_utils import SingleAgentParallelEnvGymWrapper\n",
    "\n",
    "\n",
    "# initialize taxi env\n",
    "taxi_env = gym.make(\"Taxi-v3\").env\n",
    "taxi_env.reset()\n",
    "\n",
    "# constants for taxi env planning\n",
    "PASSENGER_IN_TAXI = 4  # passenger idx when in taxi\n",
    "LOCS = taxi_env.unwrapped.locs  # environment locations\n",
    "\n",
    "# initialize MPE env\n",
    "mpe_simple_env = simple_v2.parallel_env(continuous_actions=True)\n",
    "mpe_simple_env = SingleAgentParallelEnvGymWrapper(mpe_simple_env)  # make gym compatible\n",
    "\n",
    "# random seed\n",
    "SEED = 42"
   ]
  },
  {
   "cell_type": "markdown",
   "id": "998cefdd-fc4a-458b-b33d-d87b8bde0943",
   "metadata": {},
   "source": [
    "# The problem\n",
    "\n",
    "We model the world as an MDP where the state space is the set of all possible environment configurations, and the action space is the list of actions the taxi agent can execute within the environment. A possible configuration is any combination of taxi location, passenger location (including \"in_taxi\" indication), and the destination location. The domain map is 5x5, the passenger and destination can be one of 4 possible locations, and the passenger can be either in the taxi or at the initial destination, adding up to a total of $5\\cdot 5\\cdot 5\\cdot 4 = 500$ states. This makes the taxi environment learnable via deterministic planning and state-value function estimation algorithms. Nevertheless, we are going to ignore the MDP model completely, and only use its notations to collect data using an expert policy."
   ]
  },
  {
   "cell_type": "markdown",
   "id": "815e3964-f4f0-4408-af68-6dcfd0e37e4a",
   "metadata": {},
   "source": [
    "# The expert\n",
    "\n",
    "As mentioned in the [introduction](#section:intro), the expert is an implementation of the A* algorithm for this environment. [AI_agents](https://github.com/sarah-keren/AI_agents) is a library in production that provides generalized search algorithms and supports the taxi environment. The environment is wrapped as a custom `Problem` object that can be solved using A*."
   ]
  },
  {
   "cell_type": "code",
   "execution_count": 2,
   "id": "9c9f3b5d-0fc3-41f3-97ca-89c8526d9288",
   "metadata": {},
   "outputs": [
    {
     "data": {
      "text/plain": [
       "(AI_agents.Search.problem.Problem,)"
      ]
     },
     "execution_count": 2,
     "metadata": {},
     "output_type": "execute_result"
    }
   ],
   "source": [
    "taxi_problem = GymProblem(taxi_env, taxi_env.unwrapped.s)\n",
    "taxi_problem.__class__.__bases__"
   ]
  },
  {
   "cell_type": "markdown",
   "id": "bc9d3d27-9ce5-4f9c-8dd2-08a7b606f66c",
   "metadata": {},
   "source": [
    "A* requires an admissible heuristic if we want to guarantee optimality. Below we define the following heuristic:\n",
    "* if the passenger is in the taxi, calculate the Manhatten distance between the taxi and the destination and add 1 for the dropoff action\n",
    "* if the passenger is not in the taxi, calculate the Manhatten distances between the taxi and the passenger, and between the passenger and the destination. Add 2 for the pickup and dropoff actions."
   ]
  },
  {
   "cell_type": "code",
   "execution_count": 3,
   "id": "4335b249-1802-4f92-9c36-a2cde3f5ab14",
   "metadata": {},
   "outputs": [],
   "source": [
    "def manhatten_dist(r1, c1, r2, c2):\n",
    "    # calssic manhatten dist |row1 - row2| + |col1 - col2|\n",
    "    return abs(r1 - r2) + abs(c1 - c2)\n",
    "\n",
    "def taxi_heuristic(node):\n",
    "    # decode state integer to interpretable values\n",
    "    taxi_row, taxi_col, passenger_idx, dest_idx = taxi_env.decode(node.state.get_key())\n",
    "\n",
    "    # split to 2 cases where the passenger is in the taxi and not in the taxi.\n",
    "    if passenger_idx == PASSENGER_IN_TAXI:\n",
    "        # dist from the taxi to the destination\n",
    "        return manhatten_dist(taxi_row, taxi_col, *LOCS[dest_idx]) + 1  # include dropoff\n",
    "    elif passenger_idx == dest_idx:\n",
    "        # passenger has reached the destination. this is a goal state\n",
    "        return 0\n",
    "    else:\n",
    "        # dist from the taxi to the passenger and from the passenger to the destination\n",
    "        passenger_dist = manhatten_dist(taxi_row, taxi_col, *LOCS[passenger_idx])\n",
    "        dest_dist = manhatten_dist(*LOCS[passenger_idx], *LOCS[dest_idx])\n",
    "        return passenger_dist + dest_dist + 2  # include pickup and dropoff actions"
   ]
  },
  {
   "cell_type": "markdown",
   "id": "bb7437bd-81ec-401a-9501-e24c8a148936",
   "metadata": {},
   "source": [
    "A planner policy simply takes an observation and makes a plan. While there are still acitons in that plan, yield the next action in the plan. Otherwise, start a new plan."
   ]
  },
  {
   "cell_type": "code",
   "execution_count": 4,
   "id": "d9e1c657-3457-45b2-8d19-6cd659ad18fc",
   "metadata": {},
   "outputs": [],
   "source": [
    "class TaxiAStarPolicy:\n",
    "    def __init__(self, heuristic):\n",
    "        self.heuristic = heuristic\n",
    "\n",
    "        # a container for the plan actions.\n",
    "        self.cur_plan = deque()\n",
    "\n",
    "    def __call__(self, obs):\n",
    "        # if out of actions (finished previous plan), or if observation is not in current plan,\n",
    "        # create a new plan.\n",
    "        if not self.cur_plan or self.cur_plan[0][0] != obs:\n",
    "            # refresh the problem with a new initial state\n",
    "            taxi_prob = GymProblem(taxi_env, taxi_env.unwrapped.s)\n",
    "\n",
    "            # find the solution with the A* algorithm\n",
    "            _, node, sol, _, _ = a_star(taxi_prob, heuristic_func=self.heuristic)\n",
    "\n",
    "            # get a list of expected states\n",
    "            state_lst = []\n",
    "            while node.parent:\n",
    "                node = node.parent\n",
    "                state_lst.append(node.state.key)\n",
    "            state_lst = reversed(state_lst)\n",
    "\n",
    "            # save the plan for later extraction\n",
    "            # a plan is a tuple of expected observations and the corresponding expert action\n",
    "            self.cur_plan = deque(list(zip(state_lst, map(int, sol))))\n",
    "\n",
    "        # pop the next action\n",
    "        return self.cur_plan.popleft()[1]\n",
    "\n",
    "taxi_expert = TaxiAStarPolicy(taxi_heuristic)"
   ]
  },
  {
   "cell_type": "markdown",
   "id": "9cafba03-3c03-4824-90bf-a37b53826adf",
   "metadata": {},
   "source": [
    "Let's see how our policy performs"
   ]
  },
  {
   "cell_type": "code",
   "execution_count": 5,
   "id": "6ab5a7cc-3a3e-4233-a326-e5b5a028c87f",
   "metadata": {},
   "outputs": [
    {
     "name": "stdout",
     "output_type": "stream",
     "text": [
      "num episodes completed:   10\n",
      "total rewards:            79\n",
      "mean rewards per episode: 7.90\n"
     ]
    }
   ],
   "source": [
    "# This code can be terminated early with an interruption\n",
    "animate_policy(taxi_env, taxi_expert, episode_limit=10)"
   ]
  },
  {
   "cell_type": "markdown",
   "id": "f2b1226a-918f-4699-8935-48ecdf055375",
   "metadata": {},
   "source": [
    "As we can see, we can use planning to define a perfect policy for this domain that solves the problem in real time. This will be our expert with whom we will collect our demonstration data."
   ]
  },
  {
   "cell_type": "markdown",
   "id": "0a5b6d3a-010f-44e6-b7db-32b6d5bcf22c",
   "metadata": {},
   "source": [
    "# Trajectories\n",
    "\n",
    "Given an initial state $s$ and a policy $\\pi$, a **trajectory** (in a deterministic environment) is a collection of state action pairs $((s_1, a_1), ..., (s_n, a_n))$ where $s_1=s$, $a_i = \\pi(s_i)$, and $s_{i+1}=P(s_i, a_i)$. In other words, a trajectory is an ordered collection of states and actions as experienced by running policy $\\pi$ starting from state $s$.\n",
    "\n"
   ]
  },
  {
   "cell_type": "code",
   "execution_count": 6,
   "id": "60ccde5c-c748-4b6f-9f10-abc15bb64a4a",
   "metadata": {},
   "outputs": [],
   "source": [
    "# trajectory struct\n",
    "class Trajectory:\n",
    "    def __init__(self, observations=None, actions=None):\n",
    "        self.observations = observations or []\n",
    "        self.actions = actions or []\n",
    "\n",
    "    def add_step(self, observation, action):\n",
    "        self.observations.append(observation)\n",
    "        self.actions.append(action)\n",
    "\n",
    "    def __str__(self):\n",
    "        return 'trajectory: ' + str(list(zip(self.observations, self.actions)))\n",
    "\n",
    "    def __repr__(self):\n",
    "        return str(self)"
   ]
  },
  {
   "cell_type": "markdown",
   "id": "21130258-da1b-4a09-aa3c-9d7b73790f48",
   "metadata": {},
   "source": [
    "We can collect trajectories with our expert by simply recording the observations and the actions taken at these observations"
   ]
  },
  {
   "cell_type": "code",
   "execution_count": 7,
   "id": "d582bd5c-27e4-4a5c-bc15-19de5e1be943",
   "metadata": {},
   "outputs": [
    {
     "data": {
      "text/plain": [
       "trajectory: [(123, 1), (23, 3), (3, 4), (19, 2), (39, 0), (139, 0), (239, 2), (259, 2), (279, 0), (379, 0), (479, 5)]"
      ]
     },
     "execution_count": 7,
     "metadata": {},
     "output_type": "execute_result"
    }
   ],
   "source": [
    "def get_trajectory(env, policy, max_trajectory_length=float('inf')):\n",
    "    # init trajectory object\n",
    "    trajectory = Trajectory()\n",
    "\n",
    "    # get first observation\n",
    "    obs = env.reset()\n",
    "\n",
    "    # iterate and step in environment.\n",
    "    # limit num actions for incomplete policies\n",
    "    for i in itertools.count(start=1):\n",
    "        action = policy(obs)\n",
    "        trajectory.add_step(obs, action)\n",
    "        obs, reward, done, info = env.step(action)\n",
    "\n",
    "        if done or i >= max_trajectory_length:\n",
    "            break\n",
    "\n",
    "    return trajectory\n",
    "\n",
    "trajectory = get_trajectory(taxi_env, taxi_expert)\n",
    "trajectory"
   ]
  },
  {
   "cell_type": "markdown",
   "id": "e58454e6-b7ee-4059-98aa-f9a9eebfa8cf",
   "metadata": {},
   "source": [
    "# Data collection and preparation\n",
    "\n",
    "We will now collect the data with which we will train simply by collecting multiple trajectories. As with most supervised learning settings, we will collect 3 datasets: training, validation, and testing. Since this is a relatively simple environment with a small number of states, we will collect a small number of trajectories so we do not encounter the entire state space in training. This way, we can see if our model is generalizing to new, unseen states."
   ]
  },
  {
   "cell_type": "code",
   "execution_count": 8,
   "id": "cd9f4754-b820-4bde-8642-d928141dc143",
   "metadata": {},
   "outputs": [
    {
     "data": {
      "application/vnd.jupyter.widget-view+json": {
       "model_id": "0dc0e50643ca47b19f6eba1f3f03336e",
       "version_major": 2,
       "version_minor": 0
      },
      "text/plain": [
       "  0%|          | 0/400 [00:00<?, ?it/s]"
      ]
     },
     "metadata": {},
     "output_type": "display_data"
    },
    {
     "data": {
      "application/vnd.jupyter.widget-view+json": {
       "model_id": "f47ff064fd8e45a89cc5cd12179ab993",
       "version_major": 2,
       "version_minor": 0
      },
      "text/plain": [
       "  0%|          | 0/250 [00:00<?, ?it/s]"
      ]
     },
     "metadata": {},
     "output_type": "display_data"
    },
    {
     "data": {
      "application/vnd.jupyter.widget-view+json": {
       "model_id": "b9a7f9e4873e4300bfbad6c357a4278f",
       "version_major": 2,
       "version_minor": 0
      },
      "text/plain": [
       "  0%|          | 0/250 [00:00<?, ?it/s]"
      ]
     },
     "metadata": {},
     "output_type": "display_data"
    },
    {
     "data": {
      "text/plain": [
       "[trajectory: [(386, 1), (286, 1), (186, 1), (86, 4), (98, 3), (78, 3), (58, 0), (158, 0), (258, 3), (238, 3), (218, 0), (318, 0), (418, 5)],\n",
       " trajectory: [(222, 1), (122, 1), (22, 3), (2, 4), (18, 0), (118, 0), (218, 0), (318, 0), (418, 5)],\n",
       " trajectory: [(387, 1), (287, 1), (187, 1), (87, 4), (99, 3), (79, 0), (179, 0), (279, 0), (379, 0), (479, 5)],\n",
       " trajectory: [(91, 3), (71, 3), (51, 0), (151, 0), (251, 3), (231, 3), (211, 0), (311, 0), (411, 4), (419, 1), (319, 1), (219, 2), (239, 2), (259, 2), (279, 0), (379, 0), (479, 5)],\n",
       " trajectory: [(329, 1), (229, 3), (209, 0), (309, 0), (409, 4), (417, 1), (317, 1), (217, 2), (237, 2), (257, 1), (157, 1), (57, 2), (77, 2), (97, 5)]]"
      ]
     },
     "execution_count": 8,
     "metadata": {},
     "output_type": "execute_result"
    }
   ],
   "source": [
    "def collect_data(env, policy, num_trajectories, max_trajectory_length=float('inf')):\n",
    "    trajectories = []\n",
    "    for _ in tqdm(range(num_trajectories)):\n",
    "        trajectories.append(get_trajectory(env, policy, max_trajectory_length))\n",
    "\n",
    "    return trajectories\n",
    "\n",
    "# get the same trajectories every time!\n",
    "taxi_env.seed(SEED)\n",
    "\n",
    "taxi_raw_train_data = collect_data(taxi_env, taxi_expert, num_trajectories=400)\n",
    "taxi_raw_val_data = collect_data(taxi_env, taxi_expert, num_trajectories=250)\n",
    "taxi_raw_test_data = collect_data(taxi_env, taxi_expert, num_trajectories=250)\n",
    "\n",
    "# show the first 5 training trajectories\n",
    "taxi_raw_train_data[:5]"
   ]
  },
  {
   "cell_type": "markdown",
   "id": "144f5c7c-a7c0-432a-a137-101737396243",
   "metadata": {},
   "source": [
    "The taxi environment's states are simply integers. This type of input is not very informative for supervised learning algorithms. A state's bits can be decomposed into the state attributes. We must use these attributes to create a good representation for the learning algorithm. The preprocessing function below represents the state as a vector of the taxi location, the passenger location, the destination location, and an indicator of whether the passenger is in the taxi."
   ]
  },
  {
   "cell_type": "code",
   "execution_count": 9,
   "id": "6484896a-0195-49fb-8159-2d7d15c69e1d",
   "metadata": {},
   "outputs": [],
   "source": [
    "def prep_taxi_state(state):\n",
    "    # decompose state bits\n",
    "    taxi_row, taxi_col, passenger_idx, destination_idx = taxi_env.decode(state)\n",
    "\n",
    "    # get destination true location coordinates\n",
    "    destination_row, destination_col = LOCS[destination_idx]\n",
    "\n",
    "    # get passenger true location coordinates\n",
    "    # add `in_taxi` indicator bit\n",
    "    if passenger_idx == PASSENGER_IN_TAXI:\n",
    "        passenger_row, passenger_col = taxi_row, taxi_col\n",
    "        passenger_in_taxi = 1\n",
    "    else:\n",
    "        passenger_row, passenger_col = LOCS[passenger_idx]\n",
    "        passenger_in_taxi = 0\n",
    "\n",
    "    # return all data as a flat Tensor object for pytorch compatibility\n",
    "    return torch.Tensor([taxi_row,\n",
    "                         taxi_col,\n",
    "                         passenger_row,\n",
    "                         passenger_col,\n",
    "                         passenger_in_taxi,\n",
    "                         destination_row,\n",
    "                         destination_col])"
   ]
  },
  {
   "cell_type": "markdown",
   "id": "ee3de395-9683-4cf5-9b1e-a617254ab5e5",
   "metadata": {},
   "source": [
    "We can package the trajectories and preprocessing function into a single `Dataset` object. For this, we implement the `ImitationLearningDataset`, which unwraps the trajectories and keeps only the state-action pairs required for supervised learning. The dataset preprocess the states when requested. Note that we do **NOT** remove duplicates. This is to maintain the true trajectory sample distribution of the expert policy. The dataset is compatible with DataLoaders used to batch the data."
   ]
  },
  {
   "cell_type": "code",
   "execution_count": 10,
   "id": "261b1d4f-8826-4729-94c7-a242967413dc",
   "metadata": {},
   "outputs": [
    {
     "data": {
      "text/plain": [
       "(tensor([3., 4., 0., 4., 0., 4., 0.]), 1)"
      ]
     },
     "execution_count": 10,
     "metadata": {},
     "output_type": "execute_result"
    }
   ],
   "source": [
    "taxi_ds_train = ImitationLearningDataset(taxi_raw_train_data, prep_obs=prep_taxi_state)\n",
    "taxi_ds_val = ImitationLearningDataset(taxi_raw_val_data, prep_obs=prep_taxi_state)\n",
    "taxi_ds_test = ImitationLearningDataset(taxi_raw_test_data, prep_obs=prep_taxi_state)\n",
    "\n",
    "taxi_ds_train[0]"
   ]
  },
  {
   "cell_type": "markdown",
   "id": "75e8b14e-c05f-4316-8b06-2a6e9e6ddcaa",
   "metadata": {},
   "source": [
    "# Learning model\n",
    "\n",
    "The learning model we will be using is the [multi-layer perceptron](https://www.sciencedirect.com/topics/computer-science/multilayer-perceptron#:~:text=Multi%20layer%20perceptron%20(MLP)%20is,input%20signal%20to%20be%20processed.) (MLP). This was one of the first neural network architectures. It uses multiple fully connected linear layers separated by non-linear activation functions ([ReLU](https://machinelearningmastery.com/rectified-linear-activation-function-for-deep-learning-neural-networks/) in our case). MLP's excell at finding statistical correlations in vector data that is strongly ordered and real valued, especially if these corelations are continuous or near-continuous. Since our state representation matches this description, we expect the MLP model to handle this task with aplomb."
   ]
  },
  {
   "cell_type": "code",
   "execution_count": 11,
   "id": "6c08529f-70dd-4e4e-89b5-7165641413f1",
   "metadata": {},
   "outputs": [
    {
     "data": {
      "text/plain": [
       "MLP(\n",
       "  (fc_layers): Sequential(\n",
       "    (0): Linear(in_features=7, out_features=32, bias=True)\n",
       "    (1): ReLU()\n",
       "    (2): Linear(in_features=32, out_features=64, bias=True)\n",
       "    (3): ReLU()\n",
       "    (4): Linear(in_features=64, out_features=128, bias=True)\n",
       "    (5): ReLU()\n",
       "    (6): Linear(in_features=128, out_features=6, bias=True)\n",
       "  )\n",
       ")"
      ]
     },
     "execution_count": 11,
     "metadata": {},
     "output_type": "execute_result"
    }
   ],
   "source": [
    "# get the input vector length from a training example\n",
    "in_features = len(taxi_ds_train[0][0])\n",
    "\n",
    "# The output vector length is the number of actions\n",
    "num_actions = taxi_env.action_space.n\n",
    "\n",
    "# seed to always get the same model parameter initialization\n",
    "torch.manual_seed(SEED)\n",
    "\n",
    "# create MLP model with 3 hidden layers\n",
    "mlp_taxi = MLP(in_features=in_features, hidden_dims=[32, 64, 128], out_features=num_actions)\n",
    "mlp_taxi"
   ]
  },
  {
   "cell_type": "markdown",
   "id": "aa726b59-d185-4584-9f4c-3158acc50c02",
   "metadata": {},
   "source": [
    "# Training\n",
    "\n",
    "We will train the classifier with [stochastic gradient descent](https://towardsdatascience.com/stochastic-gradient-descent-clearly-explained-53d239905d31) optimization. We train using the Cross-Entropy loss which punishes the classifier for giving low scores to the true classes and higher scores to wrong classes (reminder, in this case a class is an action)."
   ]
  },
  {
   "cell_type": "code",
   "execution_count": 12,
   "id": "4419959e-1e16-4a69-b7b1-a4f37e39fecb",
   "metadata": {},
   "outputs": [
    {
     "name": "stdout",
     "output_type": "stream",
     "text": [
      "epoch 10:\n",
      "avg training loss       = 0.7415909432893828\n",
      "avg validation loss     = 0.6625609495290896\n",
      "training acc            = 0.7384030418250951\n",
      "validation acc          = 0.7738095238095238\n",
      "timestamp: 02:03:48.088352\n",
      "====================================================\n",
      "\n",
      "epoch 20:\n",
      "avg training loss       = 0.22372974528956557\n",
      "avg validation loss     = 0.20323084589184784\n",
      "training acc            = 0.9309885931558936\n",
      "validation acc          = 0.9355921855921856\n",
      "timestamp: 02:03:51.305386\n",
      "====================================================\n",
      "\n",
      "epoch 30:\n",
      "avg training loss       = 0.10380267806770138\n",
      "avg validation loss     = 0.09135746266920029\n",
      "training acc            = 0.9678707224334601\n",
      "validation acc          = 0.9713064713064713\n",
      "timestamp: 02:03:54.603609\n",
      "====================================================\n",
      "\n",
      "epoch 40:\n",
      "avg training loss       = 0.059762057920459286\n",
      "avg validation loss     = 0.05956391345982145\n",
      "training acc            = 0.9857414448669202\n",
      "validation acc          = 0.9856532356532357\n",
      "timestamp: 02:03:57.957689\n",
      "====================================================\n",
      "\n",
      "epoch 50:\n",
      "avg training loss       = 0.03883942080262516\n",
      "avg validation loss     = 0.032670291512068815\n",
      "training acc            = 0.9899239543726236\n",
      "validation acc          = 0.9920634920634921\n",
      "timestamp: 02:04:01.170014\n",
      "====================================================\n",
      "\n",
      "epoch 60:\n",
      "avg training loss       = 0.025300384980363144\n",
      "avg validation loss     = 0.023367325223346308\n",
      "training acc            = 0.9937262357414449\n",
      "validation acc          = 0.9951159951159951\n",
      "timestamp: 02:04:04.396751\n",
      "====================================================\n",
      "\n",
      "epoch 70:\n",
      "avg training loss       = 0.019387099912954852\n",
      "avg validation loss     = 0.03232098173395526\n",
      "training acc            = 0.9946768060836502\n",
      "validation acc          = 0.989010989010989\n",
      "timestamp: 02:04:07.619476\n",
      "====================================================\n",
      "\n",
      "epoch 80:\n",
      "avg training loss       = 0.013397213915153477\n",
      "avg validation loss     = 0.017025646155631943\n",
      "training acc            = 0.9967680608365019\n",
      "validation acc          = 0.9954212454212454\n",
      "timestamp: 02:04:10.924171\n",
      "====================================================\n",
      "\n",
      "epoch 90:\n",
      "avg training loss       = 0.011457646860219864\n",
      "avg validation loss     = 0.013191527690278457\n",
      "training acc            = 0.997148288973384\n",
      "validation acc          = 0.9975579975579976\n",
      "timestamp: 02:04:14.153958\n",
      "====================================================\n",
      "\n",
      "epoch 100:\n",
      "avg training loss       = 0.008915963373925412\n",
      "avg validation loss     = 0.013084601802984253\n",
      "training acc            = 0.9979087452471483\n",
      "validation acc          = 0.996947496947497\n",
      "timestamp: 02:04:17.346277\n",
      "====================================================\n",
      "\n",
      "epoch 110:\n",
      "avg training loss       = 0.006560715908286555\n",
      "avg validation loss     = 0.011648655620193472\n",
      "training acc            = 0.9988593155893536\n",
      "validation acc          = 0.9978632478632479\n",
      "timestamp: 02:04:20.533992\n",
      "====================================================\n",
      "\n",
      "epoch 120:\n",
      "avg training loss       = 0.004892894885935155\n",
      "avg validation loss     = 0.012631781172417615\n",
      "training acc            = 0.9994296577946769\n",
      "validation acc          = 0.9975579975579976\n",
      "timestamp: 02:04:23.777454\n",
      "====================================================\n",
      "\n",
      "epoch 130:\n",
      "avg training loss       = 0.0038234993666275987\n",
      "avg validation loss     = 0.008962710388892091\n",
      "training acc            = 0.999809885931559\n",
      "validation acc          = 0.9981684981684982\n",
      "timestamp: 02:04:26.989645\n",
      "====================================================\n",
      "\n",
      "epoch 140:\n",
      "avg training loss       = 0.0030806481731718684\n",
      "avg validation loss     = 0.009218088457844982\n",
      "training acc            = 1.0\n",
      "validation acc          = 0.9984737484737485\n",
      "timestamp: 02:04:30.233438\n",
      "====================================================\n",
      "\n",
      "epoch 150:\n",
      "avg training loss       = 0.0025462507083888184\n",
      "avg validation loss     = 0.007891252753289314\n",
      "training acc            = 1.0\n",
      "validation acc          = 0.9984737484737485\n",
      "timestamp: 02:04:33.438699\n",
      "====================================================\n",
      "\n",
      "epoch 160:\n",
      "avg training loss       = 0.0021899507605183392\n",
      "avg validation loss     = 0.007460454271619333\n",
      "training acc            = 1.0\n",
      "validation acc          = 0.9984737484737485\n",
      "timestamp: 02:04:36.615096\n",
      "====================================================\n",
      "\n",
      "epoch 170:\n",
      "avg training loss       = 0.0017890283168437906\n",
      "avg validation loss     = 0.008613020926323526\n",
      "training acc            = 1.0\n",
      "validation acc          = 0.9984737484737485\n",
      "timestamp: 02:04:39.814192\n",
      "====================================================\n",
      "\n",
      "epoch 180:\n",
      "avg training loss       = 0.0015515929735003826\n",
      "avg validation loss     = 0.008017538776358578\n",
      "training acc            = 1.0\n",
      "validation acc          = 0.9984737484737485\n",
      "timestamp: 02:04:43.043680\n",
      "====================================================\n",
      "\n",
      "epoch 190:\n",
      "avg training loss       = 0.00137821892788156\n",
      "avg validation loss     = 0.00838971855296333\n",
      "training acc            = 1.0\n",
      "validation acc          = 0.9984737484737485\n",
      "timestamp: 02:04:46.293700\n",
      "====================================================\n",
      "\n",
      "epoch 200:\n",
      "avg training loss       = 0.0012744220619142624\n",
      "avg validation loss     = 0.007052963180112562\n",
      "training acc            = 1.0\n",
      "validation acc          = 0.9987789987789988\n",
      "timestamp: 02:04:49.592635\n",
      "====================================================\n",
      "\n"
     ]
    }
   ],
   "source": [
    "(train_losses,\n",
    " val_losses,\n",
    " train_accs,\n",
    " val_accs) = train_torch_model_sgd(model=mlp_taxi,\n",
    "                                   ds_train=taxi_ds_train,\n",
    "                                   ds_val=taxi_ds_val,\n",
    "                                   loss_fn=torch.nn.CrossEntropyLoss(),\n",
    "                                   batch_size=16,\n",
    "                                   shuffle_data=True,\n",
    "                                   num_epochs=200,\n",
    "                                   learning_rate=1e-2,\n",
    "                                   weight_decay=1e-5,\n",
    "                                   print_every=10,\n",
    "                                   include_accs=True,\n",
    "                                   seed=SEED)"
   ]
  },
  {
   "cell_type": "markdown",
   "id": "2716d33a-2d06-4ed9-8247-58485e509bd5",
   "metadata": {},
   "source": [
    "Now let us visualize the results"
   ]
  },
  {
   "cell_type": "code",
   "execution_count": 13,
   "id": "6b5a211e-f625-4fef-be08-fef584144037",
   "metadata": {},
   "outputs": [
    {
     "data": {
      "image/png": "[encoded data removed]",
      "text/plain": [
       "<Figure size 1080x504 with 2 Axes>"
      ]
     },
     "metadata": {
      "needs_background": "light"
     },
     "output_type": "display_data"
    }
   ],
   "source": [
    "# plot 1x2 figure grid\n",
    "fig, (ax1, ax2) = plt.subplots(1, 2, figsize=(15, 7))\n",
    "\n",
    "# plot losses\n",
    "ax1.set_title('Cross-Entropy Loss per Epoch')\n",
    "ax1.set_xlabel('Epoch')\n",
    "ax1.set_ylabel('Cross-Entropy Loss')\n",
    "ax1.plot(train_losses, label='train')\n",
    "ax1.plot(val_losses, label='validation')\n",
    "ax1.legend()\n",
    "\n",
    "# plot accuracies\n",
    "ax2.set_title('Accuracy per Epoch')\n",
    "ax1.set_xlabel('Epoch')\n",
    "ax1.set_ylabel('Accuracy')\n",
    "ax2.plot(train_accs, label='train')\n",
    "ax2.plot(val_accs, label='validation')\n",
    "ax2.legend();"
   ]
  },
  {
   "cell_type": "markdown",
   "id": "66d43509-2f4f-46ba-b644-936c65eca555",
   "metadata": {},
   "source": [
    "We see a relatiely short and stable training process. Seemingly, our learning algorithm is able to clone the expert's behavior almost perfectly. Below are the final accuracies of our model on our datasets."
   ]
  },
  {
   "cell_type": "code",
   "execution_count": 14,
   "id": "85f84f6c-597a-48f1-b420-947cc0607946",
   "metadata": {},
   "outputs": [
    {
     "name": "stdout",
     "output_type": "stream",
     "text": [
      "train acc      = 1.0\n",
      "validation acc = 0.9987789988517761\n",
      "test acc       = 0.9978671669960022\n"
     ]
    }
   ],
   "source": [
    "def ds_acc(ds, model):\n",
    "    # get the entire dataset at once.\n",
    "    # this is will cause memory issues with large datasets\n",
    "    ds_data, ds_labels = next(iter(DataLoader(ds, batch_size=len(ds))))\n",
    "\n",
    "    # run get model predictions\n",
    "    model.eval()\n",
    "    with torch.no_grad():\n",
    "        ds_preds = model(ds_data)\n",
    "\n",
    "    # calculate prediction accuracies\n",
    "    return torch.mean((torch.argmax(ds_preds, dim=-1) == ds_labels).float()).item()\n",
    "\n",
    "# print test set accuracy\n",
    "print(f'train acc      = {ds_acc(taxi_ds_train, mlp_taxi)}')\n",
    "print(f'validation acc = {ds_acc(taxi_ds_val, mlp_taxi)}')\n",
    "print(f'test acc       = {ds_acc(taxi_ds_test, mlp_taxi)}')"
   ]
  },
  {
   "cell_type": "markdown",
   "id": "53effb1b-18fc-478c-88ae-b65d95bb123f",
   "metadata": {},
   "source": [
    "The above reults are considered to be excellent results in classification tasks, surpassing human annotators. Does this mean we have an excellent policy? What happens when a predicted action is not optimal? Can our agent recover from such mistakes?"
   ]
  },
  {
   "cell_type": "markdown",
   "id": "3fb418e3-7d83-4e21-b19e-40ed29e6d127",
   "metadata": {},
   "source": [
    "# Evaluating the policy\n",
    "\n",
    "Our newly trained classifier can be used as a policy for the taxi environment. With every input observation, the classifier gives each action a score. The action that was scored the highest is the one returned by the policy."
   ]
  },
  {
   "cell_type": "code",
   "execution_count": 15,
   "id": "a6eefb67-0387-49cc-9317-f703551aa54d",
   "metadata": {},
   "outputs": [],
   "source": [
    "class ClassifierPolicy:\n",
    "    def __init__(self, model, prep_fn=None):\n",
    "        self.model = model\n",
    "\n",
    "        # if no preprocessing function is given, use the identity function\n",
    "        if prep_fn is None:\n",
    "            self.prep_fn = lambda x: x\n",
    "        else:\n",
    "            self.prep_fn = prep_fn\n",
    "\n",
    "    def __call__(self, observation):\n",
    "        # preprocess observation\n",
    "        prepped_obs = self.prep_fn(observation)\n",
    "        one_obs_batch = prepped_obs[None]  # convert to batch of size 1\n",
    "\n",
    "        # run model to get action scores\n",
    "        self.model.eval()\n",
    "        with torch.no_grad():\n",
    "            batch_scores = self.model(one_obs_batch)\n",
    "\n",
    "        # get scores for single observation\n",
    "        obs_score = batch_scores[0]\n",
    "\n",
    "        # choose the action with the highest score\n",
    "        return torch.argmax(obs_score).item()\n",
    "\n",
    "# create a policy driven by the MLP model that uses the same observation preprocessing\n",
    "# function as in training\n",
    "taxi_il_policy = ClassifierPolicy(mlp_taxi, prep_fn=taxi_ds_train.prep_obs)"
   ]
  },
  {
   "cell_type": "markdown",
   "id": "c14618f4-a050-4682-b0be-4ba1a27171fd",
   "metadata": {},
   "source": [
    "## How good is can an immitation policy be?\n",
    "\n",
    "Let us compare the performance of the expert policy and the classifier policy"
   ]
  },
  {
   "cell_type": "code",
   "execution_count": 16,
   "id": "c35862a6-7a16-401a-a208-ed59ca2705e1",
   "metadata": {},
   "outputs": [
    {
     "data": {
      "application/vnd.jupyter.widget-view+json": {
       "model_id": "c7eb728a16e54798ae3f5e7b6935f5ce",
       "version_major": 2,
       "version_minor": 0
      },
      "text/plain": [
       "  0%|          | 0/10000 [00:00<?, ?it/s]"
      ]
     },
     "metadata": {},
     "output_type": "display_data"
    },
    {
     "name": "stdout",
     "output_type": "stream",
     "text": [
      "A* Policy\n",
      "---------\n",
      "total reward over all episodes: 77458\n",
      "mean reward per episode:        7.7458\n"
     ]
    }
   ],
   "source": [
    "total_reward, mean_reward = evaluate_policy(taxi_env, taxi_expert, num_episodes=10_000,\n",
    "                                            seed=SEED)\n",
    "print('A* Policy')\n",
    "print('---------')\n",
    "print(f'total reward over all episodes: {total_reward}')\n",
    "print(f'mean reward per episode:        {mean_reward}')"
   ]
  },
  {
   "cell_type": "code",
   "execution_count": 17,
   "id": "9efa2eb1-851b-4eed-b7be-6b9b837bf2ea",
   "metadata": {},
   "outputs": [
    {
     "data": {
      "application/vnd.jupyter.widget-view+json": {
       "model_id": "d011be857cec4a3f992ff271e4edf32d",
       "version_major": 2,
       "version_minor": 0
      },
      "text/plain": [
       "  0%|          | 0/10000 [00:00<?, ?it/s]"
      ]
     },
     "metadata": {},
     "output_type": "display_data"
    },
    {
     "name": "stdout",
     "output_type": "stream",
     "text": [
      "Classifier Policy\n",
      "-----------------\n",
      "total reward over all episodes: 75359\n",
      "mean reward per episode:        7.5359\n"
     ]
    }
   ],
   "source": [
    "total_reward, mean_reward = evaluate_policy(taxi_env, taxi_il_policy, num_episodes=10_000, seed=SEED)\n",
    "print('Classifier Policy')\n",
    "print('-----------------')\n",
    "print(f'total reward over all episodes: {total_reward}')\n",
    "print(f'mean reward per episode:        {mean_reward}')"
   ]
  },
  {
   "cell_type": "markdown",
   "id": "abd910fc-6e4e-4f7c-ba6e-aae94da2dac7",
   "metadata": {},
   "source": [
    "We note that, in expectation, our imitation policy performs almost as well as the expert. Sadly, this is not the only measure of a policy.\n",
    "\n",
    "## Imitation learning failures\n",
    "\n",
    "Like we did before, let us see our policy in action"
   ]
  },
  {
   "cell_type": "code",
   "execution_count": 18,
   "id": "6b80f26b-4d0c-4e69-8505-005edcae27eb",
   "metadata": {},
   "outputs": [
    {
     "name": "stdout",
     "output_type": "stream",
     "text": [
      "num episodes completed:   10\n",
      "total rewards:            88\n",
      "mean rewards per episode: 8.80\n"
     ]
    }
   ],
   "source": [
    "# This code can be terminated early with an interruption\n",
    "animate_policy(taxi_env, taxi_il_policy, episode_limit=10)"
   ]
  },
  {
   "cell_type": "markdown",
   "id": "4fb4a4ab-2a23-4c5a-9a25-eb3283b8d6d6",
   "metadata": {},
   "source": [
    "In the vast majority of cases, our policy acts identically to the optimal A* policy. However, during the above animation, you may have seen the policy fail miserably in one or more starting position. Let us recreate one such a scenario."
   ]
  },
  {
   "cell_type": "code",
   "execution_count": 19,
   "id": "19b4b943-41f6-47bd-afa9-2ae19014e2a6",
   "metadata": {
    "tags": []
   },
   "outputs": [
    {
     "name": "stdout",
     "output_type": "stream",
     "text": [
      "+---------+\n",
      "|R: | : :G|\n",
      "| : | : : |\n",
      "| : : : : |\n",
      "|\u001b[43m \u001b[0m| : | : |\n",
      "|\u001b[35mY\u001b[0m| : |\u001b[34;1mB\u001b[0m: |\n",
      "+---------+\n",
      "  (East)\n"
     ]
    }
   ],
   "source": [
    "# reset env\n",
    "taxi_env.reset()\n",
    "\n",
    "# set current state to be the failure state\n",
    "failure_obs = taxi_env.encode(3, 0, 3, 2)\n",
    "taxi_env.unwrapped.s = failure_obs\n",
    "\n",
    "# step using\n",
    "failure_action = taxi_il_policy(failure_obs)\n",
    "taxi_env.step(failure_action)\n",
    "\n",
    "# render the environment\n",
    "taxi_env.render()"
   ]
  },
  {
   "cell_type": "markdown",
   "id": "583ab2a2-3e58-4e54-aa03-a130c790c619",
   "metadata": {
    "tags": []
   },
   "source": [
    "As we can see, the taxi should go North on its way to location B to pick up the passenger. However, our classifier policy chooses to go East, thus crashing into the wall. Worse yet, as long as the episode is live, the state will remain the same and our policy will choose the same action over and over. In a real-world situation, we could not afford to repeatedly crash a car into the wall. Obviously, our expert can solve this problem with ease, but our clasifier is unable to generalize. This kind of failure is caused by two phenomena, discussed below.\n",
    "\n",
    "### Distributional shift\n",
    "\n",
    "<img src=\"https://futureoflife.org/wp-content/uploads/2019/06/distributional-shift.png\"/>\n",
    "\n",
    "In the classification problem, we assume our finite sample set $S\\subset \\mathcal{X}\\times \\mathcal{Y}$ was sampled I.I.D. from some distribution $D$. In reality, the sample set is a collection of trajectories sampled from distribution $D_{\\pi_{\\text{expert}}}$ that is dependent on the expert policy. When deploying our algorithm, we sample data from $D_{\\pi}$ that is dependant on our policy $\\pi$. However, unless  $\\pi_{\\text{expert}} = \\pi$, then $D_{\\pi_{\\text{expert}}} \\neq D_{\\pi}$, and so incoming data is sampled from outside the expected distribution.\n",
    "\n",
    "When the agent observes a previously unseen state, it may act differently from the expert. When this happens, the next observation is sampled from $D_\\pi$ and not $D_{\\pi_{\\text{expert}}}$, on which our agent is even more likely to make a mistake. This issue compounds as the distribution of the samples \"shifts\" from $D_{\\pi_{\\text{expert}}}$ to $D_\\pi$.\n",
    "\n",
    "Distributional shift is hard to demonstrate on the single taxi domain due to its simplicity. In the above example, the taxi begins from an unseen state (we know it is unseen because the training accuracy is 1). Since the policy's failure leaves the state unchanged, the distribution has nowhere to shift.\n",
    "\n",
    "One interesting solution to distributional shift is [DAGGER](https://www.cs.cmu.edu/~sross1/publications/Ross-AIStats11-NoRegret.pdf) (Dataset Aggregation). In DAGGER, the aim is to try to converge $\\pi_{\\text{expert}}$ to $\\pi$ via an iterative algorithm. The working assumption is that if $\\pi_{\\text{expert}} \\sim \\pi$ then $D_{\\pi_{\\text{expert}}} \\sim D_{\\pi}$. The idea is to perform behavior cloning, deploy the policy to collect more data, and then have an expert annotate the observations with the correct action. The new data is added to the old data and the process starts over. The most glaring issue with this technique is the need for a human annotator, which can be very expensive or simply unsafe. This kind of imitation learning is called policy aggregation.\n",
    "\n",
    "\n",
    "### The Markov assumption\n",
    "\n",
    "We previously noticed that in the above example, our taxi continuously chooses the East action, casuing it to hit the wall and remain in place. Why does the agent not realize this action is not helping it advance toward the goal? This is due to the ***Markovian assumption***. Under it, the next state is determined only by the current state and action, regardless of any previous states visited or actions taken. In other words, our MDP model does account for any memory of the past. Specifically, the agent has no recollection of hitting the wall, and so it has no access to information that could hint to East being a bad action.\n",
    "\n",
    "Remember that after training, neural networks are nothing more than functions. In our case, we have a deterministic model, i.e., for any observation $s$, $\\pi(s)$ will always yield the same output. Since our model parameters will no longer change, we cannot hope to surpass this problem state. To break the Markov assumption, it is customary to use recurrent neural networks which have a built-in memory mechanism in the form of hidden states."
   ]
  },
  {
   "cell_type": "markdown",
   "id": "f175852a-f29b-430a-97b8-6565bc3a503f",
   "metadata": {},
   "source": [
    "# Conclusion\n",
    "\n",
    "IL, and specifically BC, is a simple solution to solving basic RL problems. Although it is not perfect, it can achieve some impressive results in expectation. However, we notice two massive issues that manage to cripple even as simple a domain as single-taxi.\n",
    "\n",
    "Our learner is unable to generalize to unseen states and so one mistake can lead to complete failure. A straight forward solution is to collect more data. Due to the small number of states, we will most likely collect optimal actions for all possible states if we collect enough trajectories. Our deep classifier is able to completely fit the training data, and so in this case our classifier correctly chooses the optimal action (as would the expert) at every state.\n",
    "\n",
    "The above solution is only relevant for a simple domain such as this, and is not feasible in much larger state spaces or continuous spaces, in which our algorithms must be able to generalize to unseen observations if they are to be useful. If that is the case, then a planning algorithm such as A* is far more practical than BC or any other learning algorithm.\n",
    "\n",
    "There are other forms of imitation learning (see [this blog bost](https://smartlabai.medium.com/a-brief-overview-of-imitation-learning-8a8a75c44a9c)) besides BC that were not discussed in this presentation. These techniques are aimed at solving issues in BC."
   ]
  },
  {
   "cell_type": "markdown",
   "id": "d0ac9c3e-8ed2-4274-bfb1-dc5e68d561fe",
   "metadata": {},
   "source": [
    "# Continuous Space Imitation Learning\n",
    "\n",
    "We now present imitation learning in the case of continuous observation and action spaces. For this we use the [MPE Simple environment](https://www.pettingzoo.ml/mpe/simple), which is a 2d navigator environment where a single agent must reach a goal position in a continuous world.\n",
    "\n",
    "There are two key differences between this example and the taxi example:\n",
    "1. We cannot use A* as the expert due to the infinite state and action spaces.\n",
    "2. Since the actions are continuous, we want to perform regression (not classification)\n",
    "\n",
    "## Expert\n",
    "\n",
    "To address the expert issue, we implement a navigation trajectory planning policy for this environment in which there are no obstacles into which the agent can collide, meaning we simply need the fastest route to the destination. Note that the shortest path might not be the fastest! Since the force cap is per axis and not a global magnitude of the force (i.e., the norm), then we can solve the problem for both axes separately and simultaneously. Our expert policy is defined as follows:\n",
    "* for each axis:\n",
    "    * if the agent is at the target (on the current axis)\n",
    "        * if the agent can stop, then stop.\n",
    "        * otherwise, full break in the opposite direction of the axis velocity.\n",
    "    * if the agent can reach the target in the next step and then stop, apply the force required to reach the target.\n",
    "    * if the agent can accelerate with maximal force and is still able to stop without overshooting the target, apply full force toward the target.\n",
    "    * otherwise, apply full force away from the target (i.e., break)\n",
    "* apply the force chosen force on each axis\n",
    "\n",
    "To implement this policy, we wrote a physics utility that implements useful tools for handling the environment's world physics. This can be found under `common.mpe_physics.PhysicsUtils`.\n",
    "\n",
    "A big thanks to [**Adi Amuzig**](https://www.linkedin.com/in/adiamuzig/) for formulating and solving the optimization problem on which this algorithm is based."
   ]
  },
  {
   "cell_type": "code",
   "execution_count": 20,
   "id": "41608827-f401-4db4-b1a0-c15f9c2dda8f",
   "metadata": {},
   "outputs": [],
   "source": [
    "class NavigatorMaxAccelerationPolicy:\n",
    "    def __init__(self, env):\n",
    "        # physics utility\n",
    "        self.__utils = PhysicsUtils(env)\n",
    "\n",
    "    def __call__(self, obs):\n",
    "        # extract axis velocity and target information\n",
    "        v_target_cutoff = len(obs) // 2\n",
    "        obs_v, obs_target = obs[:v_target_cutoff], obs[v_target_cutoff:]\n",
    "\n",
    "        # find optimal force for each axis\n",
    "        force_per_axix = [self.policy_1d(v, x) for v, x in zip(obs_v, obs_target)]\n",
    "\n",
    "        # set the force as a valid action\n",
    "        return np.concatenate([[0]] + [self.__force_to_action(f) for f in force_per_axix],\n",
    "                              dtype=np.float32)\n",
    "\n",
    "    def policy_1d(self, v, x_target):\n",
    "        # currently on target\n",
    "        if x_target == 0:\n",
    "            if self.__utils.can_stop(v):  # can stop, then stop.\n",
    "                return self.__utils.force_to_stop(v)\n",
    "            else:  # can't stop, then break as hard as possible.\n",
    "                return self.__utils.max_force_in_dir(-v)\n",
    "\n",
    "        # target is reachable in one move and then stop is possible in the next, then do it.\n",
    "        if self.__utils.two_moves_from_target(0, v, x_target):\n",
    "            return self.__utils.force_to_target(0, v, x_target)\n",
    "\n",
    "        # if full acceleration will not cause us to overshoot the target, accelerate.\n",
    "        if self.__utils.can_full_accelerate(v, x_target):\n",
    "            return self.__utils.max_force_in_dir(x_target)\n",
    "\n",
    "        # push away from the target hoping that the agent won't overshoot.\n",
    "        return self.__utils.max_force_in_dir(-x_target)\n",
    "\n",
    "    def __force_to_action(self, f):\n",
    "        # force applied as a separate value for positive and negative force.\n",
    "        mag = abs(f)\n",
    "        if f > 0:\n",
    "            return np.array([mag, 0])\n",
    "        else:\n",
    "            return np.array([0, mag])\n",
    "\n",
    "mpe_simple_expert = NavigatorMaxAccelerationPolicy(mpe_simple_env)"
   ]
  },
  {
   "cell_type": "markdown",
   "id": "8e99bd5c-d769-40cc-81fc-3e570f12ad9c",
   "metadata": {},
   "source": [
    "Thanks to the environment wrapper, all of our previous functions are compatible with all of our previous functions. Let us see the policy in action."
   ]
  },
  {
   "cell_type": "code",
   "execution_count": 21,
   "id": "a55125a8-69f5-48d4-80d8-7eccf2370083",
   "metadata": {},
   "outputs": [
    {
     "name": "stdout",
     "output_type": "stream",
     "text": [
      "num episodes completed:   100\n",
      "total rewards:            -397.80526693972695\n",
      "mean rewards per episode: -3.98\n"
     ]
    }
   ],
   "source": [
    "# This code can be terminated early with an interruption\n",
    "animate_policy(mpe_simple_env, mpe_simple_expert, episode_limit=100, sleep=0)"
   ]
  },
  {
   "cell_type": "markdown",
   "id": "b1f447e0-008c-4164-8ad7-48a7ed56d003",
   "metadata": {},
   "source": [
    "## Data Collection\n",
    "\n",
    "We can also collect the data and package it exactly as we did for the taxi environment. Since the state space in this environment is larger, we will collect more trajectories. Keep in mind that each trajectories in this environment are far longer than those in the taxi environment."
   ]
  },
  {
   "cell_type": "code",
   "execution_count": 22,
   "id": "ea8f710a-9318-4b72-bae5-d87661630b18",
   "metadata": {},
   "outputs": [
    {
     "data": {
      "application/vnd.jupyter.widget-view+json": {
       "model_id": "0580dcdf10bc46f7b8ca844e6529a272",
       "version_major": 2,
       "version_minor": 0
      },
      "text/plain": [
       "  0%|          | 0/1000 [00:00<?, ?it/s]"
      ]
     },
     "metadata": {},
     "output_type": "display_data"
    },
    {
     "data": {
      "application/vnd.jupyter.widget-view+json": {
       "model_id": "457f1111e755412dbe52f5c644d9ac85",
       "version_major": 2,
       "version_minor": 0
      },
      "text/plain": [
       "  0%|          | 0/200 [00:00<?, ?it/s]"
      ]
     },
     "metadata": {},
     "output_type": "display_data"
    },
    {
     "data": {
      "application/vnd.jupyter.widget-view+json": {
       "model_id": "6036b668a6ce4975a21acb80bbc8a64e",
       "version_major": 2,
       "version_minor": 0
      },
      "text/plain": [
       "  0%|          | 0/200 [00:00<?, ?it/s]"
      ]
     },
     "metadata": {},
     "output_type": "display_data"
    }
   ],
   "source": [
    "mpe_simple_env.seed(SEED)\n",
    "mpe_simple_raw_train_data = collect_data(mpe_simple_env, mpe_simple_expert,\n",
    "                                         num_trajectories=1_000)\n",
    "mpe_simple_raw_val_data = collect_data(mpe_simple_env, mpe_simple_expert,\n",
    "                                       num_trajectories=200)\n",
    "mpe_simple_raw_test_data = collect_data(mpe_simple_env, mpe_simple_expert,\n",
    "                                        num_trajectories=200)\n",
    "\n",
    "mpe_simple_ds_train = ImitationLearningDataset(mpe_simple_raw_train_data,\n",
    "                                               prep_obs=torch.from_numpy,\n",
    "                                               prep_action=torch.from_numpy)\n",
    "mpe_simple_ds_val = ImitationLearningDataset(mpe_simple_raw_val_data,\n",
    "                                             prep_obs=torch.from_numpy,\n",
    "                                             prep_action=torch.from_numpy)\n",
    "mpe_simple_ds_test = ImitationLearningDataset(mpe_simple_raw_test_data,\n",
    "                                              prep_obs=torch.from_numpy,\n",
    "                                              prep_action=torch.from_numpy)"
   ]
  },
  {
   "cell_type": "markdown",
   "id": "5d046b8e-bab3-472e-999d-b95c11d0524e",
   "metadata": {},
   "source": [
    "## Learning Model\n",
    "\n",
    "This kind of environment where all the observations are continuous is perfect for MLP models. They tend to fit quickly and generalize well on such data, and so we will use a similar learning model to the one used in the taxi example.\n",
    "\n",
    "However, we must remember that this is a multi-value regression problem. In regression, the target set $\\mathcal{Y}$ is now a subset of $\\mathbb{R}$ instead of a finite set of labels. In multi-value regression, we have $\\mathcal{Y}\\subseteq\\mathbb{R}^n$ where $n$ is the number of real numbers we must estimate. In the case of our environment configuration, the values are between 0 and 1. To enforce this on our network's output, we add a [sigmoid activation](https://en.wikipedia.org/wiki/Sigmoid_function) (A.K.A. \"expit\" or \"inverse logit\") to the output layer. Note that for a different limit, we can just multiply the sigmoid output by this constant value and achieve the desired output constraint."
   ]
  },
  {
   "cell_type": "code",
   "execution_count": 23,
   "id": "6af76cec-5178-4def-87c5-ba5632ddc0bd",
   "metadata": {},
   "outputs": [
    {
     "data": {
      "text/plain": [
       "MLP(\n",
       "  (fc_layers): Sequential(\n",
       "    (0): Linear(in_features=4, out_features=32, bias=True)\n",
       "    (1): ReLU()\n",
       "    (2): Linear(in_features=32, out_features=64, bias=True)\n",
       "    (3): ReLU()\n",
       "    (4): Linear(in_features=64, out_features=128, bias=True)\n",
       "    (5): ReLU()\n",
       "    (6): Linear(in_features=128, out_features=5, bias=True)\n",
       "    (7): Sigmoid()\n",
       "  )\n",
       ")"
      ]
     },
     "execution_count": 23,
     "metadata": {},
     "output_type": "execute_result"
    }
   ],
   "source": [
    "# get the input vector length from a training example\n",
    "in_features = len(mpe_simple_ds_train[0][0])\n",
    "\n",
    "# the output vector should be the size of an action vector\n",
    "action_size = mpe_simple_env.action_space.shape[0]\n",
    "\n",
    "# seed to always get the same model parameter initialization\n",
    "torch.manual_seed(SEED)\n",
    "mlp_mpe_simple = MLP(in_features=in_features, hidden_dims=[32, 64, 128],\n",
    "                     out_features=action_size, output_activation=torch.nn.Sigmoid())\n",
    "mlp_mpe_simple"
   ]
  },
  {
   "cell_type": "markdown",
   "id": "edbe62e2-6bfe-40d8-a98b-fa7a5cceb43c",
   "metadata": {},
   "source": [
    "## Training\n",
    "\n",
    "To train the MLP network, we optimize the [mean absolute error](https://en.wikipedia.org/wiki/Mean_absolute_error) (MAE) loss, implmented in `torch.nn.L1Loss` and defined:\n",
    "$$MSE(h, (X, Y)) = \\frac{1}{|X|}\\sum_{i=1}^m\\sum_{j=1}^n(h(x_i)_j - y_{i,j})^2$$\n",
    "where $h$ is the regression function, $h(x_i)_j$ is the $j$'th output of the regressor for input $x_i$, and $y_{i,j}$ is the $j$'th value of the $i$'th target vector."
   ]
  },
  {
   "cell_type": "code",
   "execution_count": 24,
   "id": "1ad6d184-f155-4740-a8d3-4838ce6fb678",
   "metadata": {},
   "outputs": [
    {
     "name": "stdout",
     "output_type": "stream",
     "text": [
      "epoch 10:\n",
      "avg training loss       = 0.016590159201799223\n",
      "avg validation loss     = 0.014842526567506658\n",
      "timestamp: 02:07:04.523622\n",
      "====================================================\n",
      "\n",
      "epoch 20:\n",
      "avg training loss       = 0.010222604201646293\n",
      "avg validation loss     = 0.009660319408852678\n",
      "timestamp: 02:07:10.471345\n",
      "====================================================\n",
      "\n",
      "epoch 30:\n",
      "avg training loss       = 0.009623062330112933\n",
      "avg validation loss     = 0.009371708475155636\n",
      "timestamp: 02:07:17.010429\n",
      "====================================================\n",
      "\n",
      "epoch 40:\n",
      "avg training loss       = 0.00925452368395865\n",
      "avg validation loss     = 0.009017583737624395\n",
      "timestamp: 02:07:23.140492\n",
      "====================================================\n",
      "\n",
      "epoch 50:\n",
      "avg training loss       = 0.009020705469460447\n",
      "avg validation loss     = 0.008961514181273568\n",
      "timestamp: 02:07:29.245180\n",
      "====================================================\n",
      "\n",
      "epoch 60:\n",
      "avg training loss       = 0.008826102936220423\n",
      "avg validation loss     = 0.008449703148824969\n",
      "timestamp: 02:07:36.934545\n",
      "====================================================\n",
      "\n",
      "epoch 70:\n",
      "avg training loss       = 0.00870250749987993\n",
      "avg validation loss     = 0.008665047660206777\n",
      "timestamp: 02:07:46.311057\n",
      "====================================================\n",
      "\n",
      "epoch 80:\n",
      "avg training loss       = 0.008476666845203361\n",
      "avg validation loss     = 0.008276420084379205\n",
      "timestamp: 02:07:59.353444\n",
      "====================================================\n",
      "\n",
      "epoch 90:\n",
      "avg training loss       = 0.008376610627633256\n",
      "avg validation loss     = 0.008671531351031082\n",
      "timestamp: 02:08:15.189616\n",
      "====================================================\n",
      "\n",
      "epoch 100:\n",
      "avg training loss       = 0.008235574455347026\n",
      "avg validation loss     = 0.009366244790262905\n",
      "timestamp: 02:08:29.809195\n",
      "====================================================\n",
      "\n",
      "epoch 110:\n",
      "avg training loss       = 0.008054427607581936\n",
      "avg validation loss     = 0.008181711829843587\n",
      "timestamp: 02:08:43.729023\n",
      "====================================================\n",
      "\n",
      "epoch 120:\n",
      "avg training loss       = 0.007933081238294023\n",
      "avg validation loss     = 0.007986686059909985\n",
      "timestamp: 02:08:56.661493\n",
      "====================================================\n",
      "\n",
      "epoch 130:\n",
      "avg training loss       = 0.007780717240180225\n",
      "avg validation loss     = 0.007840662654567137\n",
      "timestamp: 02:09:10.741630\n",
      "====================================================\n",
      "\n",
      "epoch 140:\n",
      "avg training loss       = 0.007602835779127878\n",
      "avg validation loss     = 0.008027205424771457\n",
      "timestamp: 02:09:22.585163\n",
      "====================================================\n",
      "\n",
      "epoch 150:\n",
      "avg training loss       = 0.007475710838962117\n",
      "avg validation loss     = 0.007330485595505874\n",
      "timestamp: 02:09:34.841304\n",
      "====================================================\n",
      "\n",
      "epoch 160:\n",
      "avg training loss       = 0.0072658611957811215\n",
      "avg validation loss     = 0.007276999447895154\n",
      "timestamp: 02:09:48.211706\n",
      "====================================================\n",
      "\n",
      "epoch 170:\n",
      "avg training loss       = 0.007097346050085832\n",
      "avg validation loss     = 0.008042779889504224\n",
      "timestamp: 02:10:01.399695\n",
      "====================================================\n",
      "\n",
      "epoch 180:\n",
      "avg training loss       = 0.006843279786099789\n",
      "avg validation loss     = 0.007146211088728456\n",
      "timestamp: 02:10:13.547648\n",
      "====================================================\n",
      "\n",
      "epoch 190:\n",
      "avg training loss       = 0.0066284736030331045\n",
      "avg validation loss     = 0.006433204084465719\n",
      "timestamp: 02:10:23.545395\n",
      "====================================================\n",
      "\n",
      "epoch 200:\n",
      "avg training loss       = 0.0064572287499225795\n",
      "avg validation loss     = 0.0063085671465889885\n",
      "timestamp: 02:10:30.252433\n",
      "====================================================\n",
      "\n"
     ]
    }
   ],
   "source": [
    "train_losses, val_losses = train_torch_model_sgd(model=mlp_mpe_simple,\n",
    "                                                 ds_train=mpe_simple_ds_train,\n",
    "                                                 ds_val=mpe_simple_ds_val,\n",
    "                                                 loss_fn=torch.nn.MSELoss(),\n",
    "                                                 batch_size=32,\n",
    "                                                 shuffle_data=True,\n",
    "                                                 num_epochs=200,\n",
    "                                                 learning_rate=1e-1,\n",
    "                                                 weight_decay=0,\n",
    "                                                 print_every=10,\n",
    "                                                 include_accs=False,\n",
    "                                                 seed=SEED)"
   ]
  },
  {
   "cell_type": "markdown",
   "id": "69f03a01-1b93-4a3b-bffc-581a1b607dc2",
   "metadata": {},
   "source": [
    "We can see a smoothe training curve indicating stable training and great generalization capabilities."
   ]
  },
  {
   "cell_type": "code",
   "execution_count": 25,
   "id": "bf967f9a-5b52-408e-a16d-1f6850736b6d",
   "metadata": {},
   "outputs": [
    {
     "data": {
      "image/png": "[encoded data removed]",
      "text/plain": [
       "<Figure size 432x288 with 1 Axes>"
      ]
     },
     "metadata": {
      "needs_background": "light"
     },
     "output_type": "display_data"
    }
   ],
   "source": [
    "# plot losses\n",
    "plt.title('MSE Loss per Epoch')\n",
    "plt.xlabel('Epoch')\n",
    "plt.ylabel('MSE Loss')\n",
    "plt.plot(train_losses, label='train')\n",
    "plt.plot(val_losses, label='validation')\n",
    "plt.legend();"
   ]
  },
  {
   "cell_type": "markdown",
   "id": "35ad2467-1f53-4f44-9404-8ee95f92aa68",
   "metadata": {},
   "source": [
    "## Policy Evaluation\n",
    "\n",
    "Our policy is identical to the classifier policy for the taxi environment, except that the outputs are the values for each entry in the action space vector."
   ]
  },
  {
   "cell_type": "code",
   "execution_count": 26,
   "id": "7588a131-2e34-4980-aef4-cfa7677f4e57",
   "metadata": {},
   "outputs": [],
   "source": [
    "class MultiRegressionPolicy:\n",
    "    def __init__(self, model, prep_fn=None):\n",
    "        self.model = model\n",
    "\n",
    "        # if no preprocessing function is given, use the identity function\n",
    "        if prep_fn is None:\n",
    "            self.prep_fn = lambda x: x\n",
    "        else:\n",
    "            self.prep_fn = prep_fn\n",
    "\n",
    "    def __call__(self, observation):\n",
    "        # preprocess observation\n",
    "        prepped_obs = self.prep_fn(observation)\n",
    "        one_obs_batch = prepped_obs[None]  # convert to batch of size 1\n",
    "\n",
    "        # run model to get action values\n",
    "        self.model.eval()\n",
    "        with torch.no_grad():\n",
    "            batch_out = self.model(one_obs_batch)\n",
    "\n",
    "        # get values for single observation\n",
    "        obs_out = batch_out[0]\n",
    "\n",
    "        # return continuous action\n",
    "        return obs_out.numpy()\n",
    "\n",
    "mpe_simple_il_policy = MultiRegressionPolicy(mlp_mpe_simple,\n",
    "                                             prep_fn=mpe_simple_ds_train.prep_obs)\n"
   ]
  },
  {
   "cell_type": "markdown",
   "id": "c9809272-15fe-47f3-9729-50e54b626a34",
   "metadata": {},
   "source": [
    "Now let us compare the expert policy to our newly created deep regression policy."
   ]
  },
  {
   "cell_type": "code",
   "execution_count": 27,
   "id": "8369653f-dbf2-4524-b7ca-dc5c6330e1c8",
   "metadata": {},
   "outputs": [
    {
     "data": {
      "application/vnd.jupyter.widget-view+json": {
       "model_id": "92f8fe7ee86b4d909729cc957ddf55d3",
       "version_major": 2,
       "version_minor": 0
      },
      "text/plain": [
       "  0%|          | 0/10000 [00:00<?, ?it/s]"
      ]
     },
     "metadata": {},
     "output_type": "display_data"
    },
    {
     "name": "stdout",
     "output_type": "stream",
     "text": [
      "Max Acceleration per Axis Policy\n",
      "---------\n",
      "total reward over all episodes: -43899.756110528026\n",
      "mean reward per episode:        -4.389975611052803\n"
     ]
    }
   ],
   "source": [
    "total_reward, mean_reward = evaluate_policy(mpe_simple_env, mpe_simple_expert,\n",
    "                                            num_episodes=10_000, seed=SEED)\n",
    "print('Max Acceleration per Axis Policy')\n",
    "print('---------')\n",
    "print(f'total reward over all episodes: {total_reward}')\n",
    "print(f'mean reward per episode:        {mean_reward}')"
   ]
  },
  {
   "cell_type": "code",
   "execution_count": 28,
   "id": "55d8881c-8552-43aa-937d-713dec2fa2f1",
   "metadata": {},
   "outputs": [
    {
     "data": {
      "application/vnd.jupyter.widget-view+json": {
       "model_id": "ed8a7d95b4a545e98fa462e6f638dbbc",
       "version_major": 2,
       "version_minor": 0
      },
      "text/plain": [
       "  0%|          | 0/10000 [00:00<?, ?it/s]"
      ]
     },
     "metadata": {},
     "output_type": "display_data"
    },
    {
     "name": "stdout",
     "output_type": "stream",
     "text": [
      "Multi-Value Regression Policy\n",
      "-----------------\n",
      "total reward over all episodes: -44620.60107545008\n",
      "mean reward per episode:        -4.462060107545009\n"
     ]
    }
   ],
   "source": [
    "total_reward, mean_reward = evaluate_policy(mpe_simple_env, mpe_simple_il_policy,\n",
    "                                            num_episodes=10_000, seed=SEED)\n",
    "print('Multi-Value Regression Policy')\n",
    "print('-----------------')\n",
    "print(f'total reward over all episodes: {total_reward}')\n",
    "print(f'mean reward per episode:        {mean_reward}')"
   ]
  },
  {
   "cell_type": "markdown",
   "id": "d0987d86-9d7b-40bc-a5cb-0e240a5f50ab",
   "metadata": {},
   "source": [
    "As we can see our model almost matches the expert's performance (in some runs the imitation learning model got better results than the expert!). This is also clear when seeing at the policy in action."
   ]
  },
  {
   "cell_type": "code",
   "execution_count": 29,
   "id": "9f245f9d-b3eb-44c8-a8ac-bdd6a70b849b",
   "metadata": {},
   "outputs": [
    {
     "name": "stdout",
     "output_type": "stream",
     "text": [
      "num episodes completed:   100\n",
      "total rewards:            -414.6161236566214\n",
      "mean rewards per episode: -4.15\n"
     ]
    }
   ],
   "source": [
    "# This code can be terminated early with an interruption\n",
    "animate_policy(mpe_simple_env, mpe_simple_il_policy, episode_limit=100, sleep=0.017)"
   ]
  },
  {
   "cell_type": "markdown",
   "id": "56cce3e3-d52a-4948-affc-3bf42180368f",
   "metadata": {},
   "source": [
    "## Extending the Problem\n",
    "\n",
    "It appears that the IL agent is able to mimic the expert almost perfectly (if not so). However, this is the simplest possible setting. It would be interesting to see how IL is affected by certain configuration changes. For example, adding just a small amount of noise could lead to severe distributional shift that can cause catastrophic failure."
   ]
  }
 ],
 "metadata": {
  "kernelspec": {
   "display_name": "Python 3 (ipykernel)",
   "language": "python",
   "name": "python3"
  },
  "language_info": {
   "codemirror_mode": {
    "name": "ipython",
    "version": 3
   },
   "file_extension": ".py",
   "mimetype": "text/x-python",
   "name": "python",
   "nbconvert_exporter": "python",
   "pygments_lexer": "ipython3",
   "version": "3.9.13"
  }
 },
 "nbformat": 4,
 "nbformat_minor": 5
}
