{
 "cells": [
  {
   "cell_type": "markdown",
   "id": "c998eb53-e675-4926-b80a-b0e6b2982341",
   "metadata": {},
   "source": [
    "# Actor-Critic\n",
    "\n",
    "Actor-critic methods are Temporal Difference(TD) versions of Policy gradient methods that have a separate memory structure to explicitly represent the policy independent of the value function,\n",
    "i.e. it is a reinforcement-learning technique in which you simultaneously learn a policy function and a value function.\n",
    "The policy structure is known as the actor, because it is used to select actions, and the estimated value function is known as the critic, because it criticizes the actions made by the actor. Learning is always on-policy: the critic must learn about and critique whatever policy is currently being followed by the actor. The critique takes the form of a TD error. This scalar signal is the sole output of the critic and drives all learning in both actor and critic.\n",
    "\n",
    "![actor critic](./images/actor_critic.jpg)\n",
    "\n",
    "\n",
    "## Motivation\n",
    "We derived policy gradients and saw the REINFORCE algorithm: \\\n",
    "![policy_gradient](./images/policy_gradient.jpg) \n",
    "\n",
    "However, there are some issues with vanilla policy gradients: \n",
    "1. Policy gradient is **high variance** and suffers from **noisy gradients**.\n",
    "2. Convergence in policy gradient algorithms is **slow**.\n",
    "3. Policy gradient is terribly **sample inefficient** (common in many different RL algorithms).\n",
    "\n",
    "As in the REINFORCE algorithm, we update the policy parameter through MC updates (i.e. taking random samples). This introduces in inherent high variability in log probabilities (log of the policy distribution) and cumulative reward values, because each trajectories during training can deviate from each other at great degrees.\n",
    "\n",
    "Consequently, the high variability in log probabilities and cumulative reward values will make noisy gradients, and cause unstable learning and/or the policy distribution skewing to a non-optimal direction.\n",
    "\n",
    "Besides high variance of gradients, another problem with policy gradients occurs trajectories have a cumulative reward of 0. The essence of policy gradient is increasing the probabilities for “good” actions and decreasing those of “bad” actions in the policy distribution; both “goods” and “bad” actions with will not be learned if the cumulative reward is 0.\n",
    "\n",
    "Overall, these issues contribute to the instability and slow convergence of vanilla policy gradient methods.\n",
    "\n",
    "\n",
    "## Reducing variance with a baseline\n",
    "One way to reduce variance and increase stability is subtracting the cumulative reward by a baseline: \\\n",
    "![baseline](./images/baseline.jpg) \n",
    "\n",
    "Intuitively, making the cumulative reward smaller by subtracting it with a baseline will make smaller gradients, and thus smaller and more stable updates.\n",
    "\n",
    "Here is a very illustrative explanation, taken from [Jerry Liu’s post to “Why does the policy gradient method have high variance”](https://www.quora.com/unanswered/Why-does-the-policy-gradient-method-have-a-high-variance): \\\n",
    "![high_variance](./images/high_variance.jpg) \n",
    "\n",
    "### Common baseline functions\n",
    "The baseline can take various values. The set of equations below illustrates the classic variants of actor critic methods (with respect to REINFORCE): \\\n",
    "![baseline_functions](./images/baseline_functions.jpg) \n",
    "\n",
    "## Q Actor Critic\n",
    "We observe the vanilla policy gradient and recall that: \\\n",
    "![policy_gradient](./images/policy_gradient.jpg) \n",
    "\n",
    "We can then decompose the expectation into: \\\n",
    "![policy_gradient_decompose](./images/policy_gradient_decompose.jpg) \n",
    "\n",
    "The second expectation term is acctually the Q value! \\\n",
    "![q_value](./images/q_value.jpg)\n",
    "\n",
    "Plugging that in, we can rewrite the update equation as: \\\n",
    "![policy_gradient_with_q_value](./images/policy_gradient_with_q_value.jpg)\n",
    "\n",
    "This leads us to *Actor Critic Methods*, where:\n",
    "1. The “Critic” estimates the value function. This could be the action-value (the Q value) or state-value (the V value).\n",
    "2. The “Actor” updates the policy distribution in the direction suggested by the Critic (such as with policy gradients).\n",
    "\n",
    "and both the Critic and Actor functions are parameterized. In the derivation above, the Critic parameterizes the Q value — so, it is called Q Actor Critic. \\\n",
    "![q_actor_critic](./images/q_actor_critic.jpg)\n",
    "\n",
    "## Advantage Actor Critic\n",
    "Using the $V$ function as the baseline function, we can also subtract the $Q$ value term with the $V$ value. Intuitively, this means *how much better it is to take a specific action compared to the average, general action at the given state*. We denote this value the advantage value: \\\n",
    "![advantage](./images/advantage.jpg)\n",
    "\n",
    "Does that mean we have to learn both the $Q$ value and the $V$ value (in addition to the policy network)? No. That would be very inefficient. Instead, we can use the relationship between the $Q$ and the $V$ from the Bellman optimality equation:\\\n",
    "![q_v_relation](./images/q_v_relation.jpg)\n",
    "\n",
    "and rewrite the advantage as:\\\n",
    "![advantage2](./images/advantage2.jpg)\n",
    "\n",
    "Thus, we only have to learn the $V$ function (parameterized by $v$ above). So we can rewrite the update equation as: \\\n",
    "![advantage_actor_critic](./images/advantage_actor_critic.jpg)"
   ]
  },
  {
   "cell_type": "markdown",
   "id": "3034cc30-af57-417e-9177-67c73c5ab3e2",
   "metadata": {},
   "source": [
    "# Implementation"
   ]
  },
  {
   "cell_type": "raw",
   "id": "46fae612-a9f4-4057-8f9a-0ccd36b6430a",
   "metadata": {},
   "source": [
    "# installing easily via pip\n",
    "!pip install -q 'git+https://github.com/sarah-keren/multi-taxi'"
   ]
  },
  {
   "cell_type": "markdown",
   "id": "6a9e8643-d53d-4256-8a18-404b570d5614",
   "metadata": {
    "tags": []
   },
   "source": [
    "## Simple V2 Environment\n",
    "We begin with some imports:"
   ]
  },
  {
   "cell_type": "code",
   "execution_count": 1,
   "id": "d045f033-000f-42fe-80e8-cc7fb6ab5fb8",
   "metadata": {},
   "outputs": [
    {
     "name": "stderr",
     "output_type": "stream",
     "text": [
      "\n"
     ]
    }
   ],
   "source": [
    "import sys\n",
    "import torch  \n",
    "from pettingzoo.mpe import simple_v2\n",
    "import numpy as np  \n",
    "import torch.nn as nn\n",
    "import torch.optim as optim\n",
    "import torch.nn.functional as F\n",
    "from torch.autograd import Variable\n",
    "import matplotlib.pyplot as plt\n",
    "import pandas as pd"
   ]
  },
  {
   "cell_type": "markdown",
   "id": "c239700f-8db9-4fdd-a88d-731b07bbfdff",
   "metadata": {},
   "source": [
    "We define hyperparameters for our DNN networks (one for the Actor and one for the Critic)"
   ]
  },
  {
   "cell_type": "code",
   "execution_count": 2,
   "id": "f8abce9f-12d6-4508-be46-19c27dd3754e",
   "metadata": {},
   "outputs": [],
   "source": [
    "# hyperparameters\n",
    "hidden_size = 512\n",
    "learning_rate = 3e-4\n",
    "\n",
    "# Constants\n",
    "GAMMA = 0.99\n",
    "max_episodes = 3000"
   ]
  },
  {
   "cell_type": "markdown",
   "id": "8ca5470b-0a37-4958-92ad-8f196dcef2b5",
   "metadata": {},
   "source": [
    "We define the DNN architectures:"
   ]
  },
  {
   "cell_type": "code",
   "execution_count": 3,
   "id": "aff329af-b7f9-46e4-9430-acae754f420f",
   "metadata": {},
   "outputs": [],
   "source": [
    "class ActorCritic(nn.Module):\n",
    "    def __init__(self, num_inputs, num_actions, hidden_size, learning_rate=3e-4):\n",
    "        super(ActorCritic, self).__init__()\n",
    "\n",
    "        self.num_actions = num_actions\n",
    "        self.critic_linear1 = nn.Linear(num_inputs, hidden_size)\n",
    "        self.critic_linear2 = nn.Linear(hidden_size, 1)\n",
    "\n",
    "        self.actor_linear1 = nn.Linear(num_inputs, hidden_size)\n",
    "        self.actor_linear2 = nn.Linear(hidden_size, num_actions)\n",
    "    \n",
    "    def forward(self, state):\n",
    "        state = Variable(torch.from_numpy(state).float().unsqueeze(0))\n",
    "        value = F.relu(self.critic_linear1(state))\n",
    "        value = self.critic_linear2(value)\n",
    "        \n",
    "        policy_dist = F.relu(self.actor_linear1(state))\n",
    "        policy_dist = F.softmax(self.actor_linear2(policy_dist), dim=1)\n",
    "\n",
    "        return value, policy_dist"
   ]
  },
  {
   "cell_type": "markdown",
   "id": "c894ab56-989f-4049-87fb-4302ad9f8e49",
   "metadata": {},
   "source": [
    "and some helper functions "
   ]
  },
  {
   "cell_type": "code",
   "execution_count": 4,
   "id": "6e81387d-3e03-4015-a909-f51a8b052c41",
   "metadata": {},
   "outputs": [],
   "source": [
    "def extract(d):\n",
    "    return list(d.values())[0]"
   ]
  },
  {
   "cell_type": "markdown",
   "id": "6bd31a1d-d113-486a-9752-1adc71d3f905",
   "metadata": {},
   "source": [
    "Our main function to train the Actor Critic model receives the environment and the number of desired inputs and outputs:"
   ]
  },
  {
   "cell_type": "code",
   "execution_count": 5,
   "id": "3b3e78dc-94f1-403c-b276-801d132c8f24",
   "metadata": {},
   "outputs": [],
   "source": [
    "def train_a2c(env, agent_str, num_inputs, num_outputs, n_steps=np.inf):\n",
    "    \"\"\"\n",
    "    If n_steps is given, the training will run until the game ends or up to the number of steps\n",
    "    \"\"\"\n",
    "    actor_critic = ActorCritic(num_inputs, num_outputs, hidden_size)\n",
    "    ac_optimizer = optim.Adam(actor_critic.parameters(), lr=learning_rate)\n",
    "\n",
    "    all_rewards = []\n",
    "    entropy_term = 0\n",
    "\n",
    "    for episode in range(max_episodes):\n",
    "        log_probs = []\n",
    "        values = []\n",
    "        rewards = []\n",
    "\n",
    "        _state = env.reset()\n",
    "        state = _state[agent_str]\n",
    "        done = False\n",
    "        step = 0\n",
    "        while not done and step < n_steps:\n",
    "            value, policy_dist = actor_critic.forward(state)\n",
    "            value = value.detach().numpy()[0,0]\n",
    "            dist = policy_dist.detach().numpy() \n",
    "\n",
    "            action = np.random.choice(num_outputs, p=np.squeeze(dist))\n",
    "            log_prob = torch.log(policy_dist.squeeze(0)[action])\n",
    "            entropy = -np.sum(np.mean(dist) * np.log(dist))\n",
    "            new_state, reward, done, _ = env.step({agent_str: action})\n",
    "            \n",
    "            reward = extract(reward)\n",
    "            new_state = extract(new_state)\n",
    "            done = extract(done)\n",
    "            \n",
    "            rewards.append(reward)\n",
    "            values.append(value)\n",
    "            log_probs.append(log_prob)\n",
    "            entropy_term += entropy\n",
    "            state = new_state\n",
    "            \n",
    "            step += 1\n",
    "            \n",
    "        Qval, _ = actor_critic.forward(new_state)\n",
    "        Qval = Qval.detach().numpy()[0,0]\n",
    "        all_rewards.append(np.sum(rewards))\n",
    "        if episode % 100 == 0:                    \n",
    "            sys.stdout.write(\"episode: {}, reward: {} \\n\".format(episode, np.sum(rewards)))\n",
    "        \n",
    "        # compute Q values\n",
    "        Qvals = np.zeros_like(values)\n",
    "        for t in reversed(range(len(rewards))):\n",
    "            Qval = rewards[t] + GAMMA * Qval\n",
    "            Qvals[t] = Qval\n",
    "  \n",
    "        #update actor critic\n",
    "        values = torch.FloatTensor(values)\n",
    "        Qvals = torch.FloatTensor(Qvals)\n",
    "        log_probs = torch.stack(log_probs)\n",
    "        \n",
    "        advantage = Qvals - values\n",
    "        actor_loss = (-log_probs * advantage).mean()\n",
    "        critic_loss = 0.5 * advantage.pow(2).mean()\n",
    "        ac_loss = actor_loss + critic_loss + 0.001 * entropy_term\n",
    "\n",
    "        ac_optimizer.zero_grad()\n",
    "        ac_loss.backward()\n",
    "        ac_optimizer.step()\n",
    "\n",
    "        \n",
    "    \n",
    "    # Plot results\n",
    "    smoothed_rewards = pd.Series.rolling(pd.Series(all_rewards), 10).mean()\n",
    "    smoothed_rewards = [elem for elem in smoothed_rewards]\n",
    "    plt.plot(all_rewards)\n",
    "    plt.plot(smoothed_rewards)\n",
    "    plt.plot()\n",
    "    plt.xlabel('Episode')\n",
    "    plt.ylabel('Reward')\n",
    "    plt.show()"
   ]
  },
  {
   "cell_type": "markdown",
   "id": "25dc80c2-acbc-45c8-b72a-dc39ac94e13d",
   "metadata": {},
   "source": [
    "We are now ready to train our model:"
   ]
  },
  {
   "cell_type": "code",
   "execution_count": 6,
   "id": "a6d67598-442f-4795-9e54-738a84502758",
   "metadata": {},
   "outputs": [
    {
     "name": "stdout",
     "output_type": "stream",
     "text": [
      "episode: 0, reward: -96.55034250214538 \n",
      "episode: 100, reward: -22.45944580487929 \n",
      "episode: 200, reward: -83.93865110452285 \n",
      "episode: 300, reward: -19.793747047434994 \n",
      "episode: 400, reward: -79.15135541525656 \n",
      "episode: 500, reward: -8.965970612973475 \n",
      "episode: 600, reward: -6.31573701316942 \n",
      "episode: 700, reward: -47.120057124564326 \n",
      "episode: 800, reward: -25.871763777981684 \n",
      "episode: 900, reward: -32.851006597162154 \n",
      "episode: 1000, reward: -10.837730596796728 \n",
      "episode: 1100, reward: -14.661030112665813 \n",
      "episode: 1200, reward: -18.58759716492385 \n",
      "episode: 1300, reward: -3.861224641420754 \n",
      "episode: 1400, reward: -13.285592073347988 \n",
      "episode: 1500, reward: -1.390029373270746 \n",
      "episode: 1600, reward: -13.346939610828539 \n",
      "episode: 1700, reward: -6.4972043755999636 \n",
      "episode: 1800, reward: -13.84554327193837 \n",
      "episode: 1900, reward: -4.775231007542845 \n",
      "episode: 2000, reward: -5.360640953087309 \n",
      "episode: 2100, reward: -6.59046109306863 \n",
      "episode: 2200, reward: -4.733242527755085 \n",
      "episode: 2300, reward: -8.782109235947916 \n",
      "episode: 2400, reward: -18.59901147574957 \n",
      "episode: 2500, reward: -4.6842809964863505 \n",
      "episode: 2600, reward: -22.37995815195105 \n",
      "episode: 2700, reward: -12.61439205232233 \n",
      "episode: 2800, reward: -12.49729623171048 \n",
      "episode: 2900, reward: -5.486638932077419 \n"
     ]
    },
    {
     "data": {
      "image/png": "[encoded data removed]",
      "text/plain": [
       "<Figure size 432x288 with 1 Axes>"
      ]
     },
     "metadata": {
      "needs_background": "light"
     },
     "output_type": "display_data"
    }
   ],
   "source": [
    "simple_env = simple_v2.parallel_env(max_cycles=40,continuous_actions=False)\n",
    "agent_str = simple_env.possible_agents[0]\n",
    "num_inputs = simple_env.observation_space(agent_str).shape[0]\n",
    "num_outputs = simple_env.action_space(agent_str).n\n",
    "train_a2c(simple_env, agent_str, num_inputs, num_outputs)"
   ]
  },
  {
   "cell_type": "markdown",
   "id": "82b037be-8917-4e4b-9e34-1747c23de0f3",
   "metadata": {
    "tags": []
   },
   "source": [
    "## MultiTaxi Environment\n",
    "Once again we begin with some imports:"
   ]
  },
  {
   "cell_type": "code",
   "execution_count": 7,
   "id": "1551bb32-227a-44c1-9690-dc3f9e228eca",
   "metadata": {},
   "outputs": [],
   "source": [
    "import numpy as np\n",
    "from multi_taxi.taxi_environment import simple_MAP\n",
    "from multi_taxi import MultiTaxiEnv\n",
    "from IPython.display import clear_output"
   ]
  },
  {
   "cell_type": "markdown",
   "id": "ca312493-45f6-40a2-b168-2d18d06d4eb1",
   "metadata": {},
   "source": [
    "Our first scenario is a pickup only in the simple_MAP environment:"
   ]
  },
  {
   "cell_type": "code",
   "execution_count": 8,
   "id": "4d5b6ce4-abd4-4bf4-8c67-9fed102831e4",
   "metadata": {},
   "outputs": [
    {
     "name": "stdout",
     "output_type": "stream",
     "text": [
      "+---------+\n",
      "| : : : : |\n",
      "| : :\u001b[32m \u001b[0m: : |\n",
      "|\u001b[43m_\u001b[0m: : : : |\n",
      "| : : : :\u001b[33;1mP\u001b[0m|\n",
      "| : : : : |\n",
      "+---------+\n",
      "Taxi0-YELLOW: Fuel: inf, Location: (2,0), Collided: False\n",
      "Passenger1: Location: (3, 4), Destination: pickup only!\n",
      "Done: False, {'taxi_0': False, '__all__': False}\n",
      "Passengers Status's: [2]\n"
     ]
    }
   ],
   "source": [
    "taxi_env = MultiTaxiEnv(num_taxis=1, num_passengers=1, pickup_only=True, can_see_others=False, domain_map=simple_MAP)\n",
    "taxi_env.render()"
   ]
  },
  {
   "cell_type": "markdown",
   "id": "a9c4500b-5fc6-47ed-92c6-2849d5a66890",
   "metadata": {},
   "source": [
    "We train our Actor Critic model:"
   ]
  },
  {
   "cell_type": "code",
   "execution_count": 9,
   "id": "422236af-74b7-4be4-8dfa-84c22c565bc6",
   "metadata": {},
   "outputs": [
    {
     "name": "stdout",
     "output_type": "stream",
     "text": [
      "episode: 0, reward: -50 \n",
      "episode: 100, reward: -50 \n",
      "episode: 200, reward: 74 \n",
      "episode: 300, reward: 64 \n",
      "episode: 400, reward: 52 \n",
      "episode: 500, reward: -50 \n",
      "episode: 600, reward: 61 \n",
      "episode: 700, reward: 83 \n",
      "episode: 800, reward: 96 \n",
      "episode: 900, reward: 73 \n",
      "episode: 1000, reward: 79 \n",
      "episode: 1100, reward: 68 \n",
      "episode: 1200, reward: 87 \n",
      "episode: 1300, reward: 64 \n",
      "episode: 1400, reward: 94 \n",
      "episode: 1500, reward: 90 \n",
      "episode: 1600, reward: 92 \n",
      "episode: 1700, reward: 88 \n",
      "episode: 1800, reward: 99 \n",
      "episode: 1900, reward: 97 \n",
      "episode: 2000, reward: 97 \n",
      "episode: 2100, reward: 92 \n",
      "episode: 2200, reward: 94 \n",
      "episode: 2300, reward: 96 \n",
      "episode: 2400, reward: 95 \n",
      "episode: 2500, reward: 96 \n",
      "episode: 2600, reward: 97 \n",
      "episode: 2700, reward: 97 \n",
      "episode: 2800, reward: 92 \n",
      "episode: 2900, reward: 95 \n"
     ]
    },
    {
     "data": {
      "image/png": "[encoded data removed]",
      "text/plain": [
       "<Figure size 432x288 with 1 Axes>"
      ]
     },
     "metadata": {
      "needs_background": "light"
     },
     "output_type": "display_data"
    }
   ],
   "source": [
    "agent_str = taxi_env.taxis_names[0]\n",
    "num_inputs = taxi_env.observation_space.shape[0]\n",
    "num_outputs = taxi_env.action_space.n\n",
    "train_a2c(taxi_env, agent_str, num_inputs, num_outputs, n_steps=50)"
   ]
  },
  {
   "cell_type": "markdown",
   "id": "4a873afb-5d07-417e-97a4-08e3e995bbb5",
   "metadata": {},
   "source": [
    "A more challenging scenario includes dropoff:"
   ]
  },
  {
   "cell_type": "code",
   "execution_count": 10,
   "id": "e8058819-7f3e-4dbf-94f6-a9b5b74b56c2",
   "metadata": {},
   "outputs": [
    {
     "name": "stdout",
     "output_type": "stream",
     "text": [
      "+---------+\n",
      "| : : : : |\n",
      "|\u001b[32m\u001b[33;1mD\u001b[0m\u001b[0m: : : :\u001b[33;1mP\u001b[0m|\n",
      "| :\u001b[43m_\u001b[0m: : : |\n",
      "| : : : : |\n",
      "| : : : : |\n",
      "+---------+\n",
      "Taxi0-YELLOW: Fuel: inf, Location: (2,1), Collided: False\n",
      "Passenger1: Location: (1, 4), Destination: (1, 0)\n",
      "Done: False, {'taxi_0': False, '__all__': False}\n",
      "Passengers Status's: [2]\n"
     ]
    }
   ],
   "source": [
    "taxi_env = MultiTaxiEnv(num_taxis=1, num_passengers=1, pickup_only=False, can_see_others=False, domain_map=simple_MAP)\n",
    "taxi_env.render()"
   ]
  },
  {
   "cell_type": "code",
   "execution_count": 11,
   "id": "8ce3de7b-b613-471e-82ce-be3156cef79e",
   "metadata": {},
   "outputs": [
    {
     "name": "stdout",
     "output_type": "stream",
     "text": [
      "episode: 0, reward: -30 \n",
      "episode: 100, reward: -30 \n",
      "episode: 200, reward: -30 \n",
      "episode: 300, reward: -30 \n",
      "episode: 400, reward: -30 \n",
      "episode: 500, reward: -30 \n",
      "episode: 600, reward: -30 \n",
      "episode: 700, reward: -30 \n",
      "episode: 800, reward: -30 \n",
      "episode: 900, reward: -30 \n",
      "episode: 1000, reward: -30 \n",
      "episode: 1100, reward: -30 \n",
      "episode: 1200, reward: -30 \n",
      "episode: 1300, reward: -30 \n",
      "episode: 1400, reward: -30 \n",
      "episode: 1500, reward: -30 \n",
      "episode: 1600, reward: -30 \n",
      "episode: 1700, reward: -30 \n",
      "episode: 1800, reward: -30 \n",
      "episode: 1900, reward: -30 \n"
     ]
    },
    {
     "data": {
      "image/png": "[encoded data removed]",
      "text/plain": [
       "<Figure size 432x288 with 1 Axes>"
      ]
     },
     "metadata": {
      "needs_background": "light"
     },
     "output_type": "display_data"
    }
   ],
   "source": [
    "max_episodes = 2000\n",
    "agent_str = taxi_env.taxis_names[0]\n",
    "num_inputs = taxi_env.observation_space.shape[0]\n",
    "num_outputs = taxi_env.action_space.n\n",
    "train_a2c(taxi_env, agent_str, num_inputs, num_outputs, n_steps=30)"
   ]
  }
 ],
 "metadata": {
  "kernelspec": {
   "display_name": "Python 3 (ipykernel)",
   "language": "python",
   "name": "python3"
  },
  "language_info": {
   "codemirror_mode": {
    "name": "ipython",
    "version": 3
   },
   "file_extension": ".py",
   "mimetype": "text/x-python",
   "name": "python",
   "nbconvert_exporter": "python",
   "pygments_lexer": "ipython3",
   "version": "3.8.13"
  }
 },
 "nbformat": 4,
 "nbformat_minor": 5
}
