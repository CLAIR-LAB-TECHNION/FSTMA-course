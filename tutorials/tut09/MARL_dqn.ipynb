{
 "cells": [
  {
   "cell_type": "markdown",
   "id": "225b5ed5-bba8-4456-bc4a-f09e915ea74a",
   "metadata": {},
   "source": [
    "# Multi-Agent Reinforcement Learning (MARL)"
   ]
  },
  {
   "cell_type": "markdown",
   "id": "11e15dd1-396f-4bb8-b76d-5681b1e11cae",
   "metadata": {},
   "source": [
    "![MARL.PNG](assets/images/MARL.PNG)\n",
    "\n",
    "## Definitions\n",
    "\n",
    "Let's start with wikipedia's informal definition:\n",
    "\n",
    "![](assets/images/Wiki.PNG)\n",
    "\n",
    "So MARL has its own page on Wiki! It relates to single-agent RL, Multi agent systems and game theory. MARL adds reciprocity concepts to single-agent RL. Some known and recent applications of MARL are __multi-drone control, playing GO, Poker and Starcraft__.\n",
    "\n",
    "![](assets/images/Applications.PNG)\n",
    "\n",
    "There are several representations for a MARL problem, as we can see in the following figure. The problems can be categorised along a number of axes. First, whether the environment is fully or partially __observable__. Second, whether the nature of the interaction is __collaborative, mixed or competitive__. Third, whether turns are taken __sequentially or simultaneously__. Different problem representations come with different challenges. The four main challenges include computational complexity, non-stationarity, partial observability and credit\n",
    "assignment.\n",
    "\n",
    "![](assets/images/ProblemsAndIssues.PNG)\n",
    "\n",
    "In the following schemes of our problems, we can see the main difference between __MDP__ and __Markov Game__ when in Markov game we have several agents, each with its own reward and actions. __Partially Observable Markov Game (POMG)__ only adds observations instead of states. In __Dec-POMDP__, we have a POMG with joint reward, and in __Extensive Form Games__ there are only rewards in terminal states. Spoiler: The __Multi Taxi environment is a markov game__ (different rewards for taxis), and the __speaker-listener is a Dec-POMDP__ (same reward for speaker and listener).\n",
    "\n",
    "![](assets/images/MARLProblemsComparison.PNG)\n",
    "\n",
    "## Main Model\n",
    "\n",
    "As we saw in class and right now, the mose expressive (and expensive) model with full observability is the markov game. Here is it's formal definition, as a reminder:\n",
    "\n",
    "![](assets/images/SGDefinition.PNG)\n",
    "\n",
    "Now, __each agent__ aims to find a behavioural policy (or, a mixed strategy in game theory) that can guide the agent to take sequential actions such that the discounted cumulative reward\n",
    "in the following equation is maximized:\n",
    "\n",
    "![](assets/images/MarkovGamesObjective.PNG)\n",
    "\n",
    "One common goal, which has been challenged by Shoham, is the convergence to __Nash equilibrium__. By definition, NE characterizes the point that no agent will deviate from, if any algorithm finally converges. This is undoubtedly a reasonable solution concept in game theory, under the assumption that the agents are all rational, and are capable of perfectly reasoning and infinite mutual modeling of agents. However, with bounded rationality, the agents may only be able to perform finite mutual modeling. In addition to the goals concerning __optimizing the return__, several other goals that are special to multi-agent systems have also drawn increasing attention. For example, __learning to communicate__, in order for the agents to better coordinate. Other important goals include how to __learn without over-fitting__ certain agents , and how to __learn robustly with either malicious/adversarial or failed/dysfunctional__ learning agents. There is plenty of room for theoretical studies.\n",
    "\n",
    "## Training Schemes\n",
    "\n",
    "Now, how to solve these problems with RL? In the following figure we can see the three main training schemes in multiagent settings:  __Centralized training and decentralized execution__, using a __Centralized controller__ and __Independent learning__. The most popular approach is centralised training with decentralised execution, in which agents are allowed to share information during training, but actions are executed decentrally based on local observations. Using a centralised controller reduces the problem to a single-agent problem but is computationally infeasible. Finally, independent learners consider other agents as part of the environment but ignore the non-stationarity problem. Spoiler 2: __We implemented the centralized controller training method, and the independent learners scheme.__\n",
    "\n",
    "![](assets/images/TrainingSchemesOnAxis.PNG)\n",
    "\n",
    "The __centralized controller__ and the __independent learners__ are in both sides of the training schema spectrum. They are important as simple, __black-box__ approaches and as a __baseline__ which other methods should prove they can beat significantly. Although centralized and independent learners can be used as a black-box (Their interface is composed only from observations and actions), one can think of a straightforward extension of centralized Q-Learning to Markov game with joint actions in the computation of Q-values. \n",
    "Thus, the update equation in a centralized view is ![](assets/images/JAL-Q.PNG) \n",
    "\n",
    "For independent learners, the Q-learning update equation is ![](assets/images/IL-Q.PNG)\n",
    "\n",
    "Another independent approach, by Claus and Boutilier, 1998, is to try to explicitly maintain a belief regarding the likelihood of the other agents’ policies,and update V based the induced expectation of the Q values:\n",
    "![](assets/images/V_With_Belief.PNG) \n",
    "\n",
    "Now, __how can we exchange information during training?__ Here are some examples:\n",
    "\n",
    "Nash-Q learning, by Hu and Wellman, 1998, is another generalization of Q-learning to general-sum games. Nash-Q updates the V-values based on some Nash-equilibrium in the game defined by the Q-values:\n",
    "![](assets/images/Nash-Q.PNG)\n",
    "\n",
    "Of course in general there are many Nash equilibria, and therefore the Nash payoff may not be unique. If Nash-Q is taken to apply to all general-sum Markov games, it must be interpreted as a nondeterministic procedure.\n",
    "\n",
    "In Matta et al., 2019, An algorithm called Q-RTS is proposed with the following update rules:\n",
    "\n",
    "![](assets/images/Qswarm.PNG)\n",
    "![](assets/images/Qswarm2.PNG)\n",
    "\n",
    "The key idea is to use a centralized aggregation center to combine all the Q-value tables of the agents to form a global swarm matrix containing the highest and lowest Q-values representing the most interesting iterations by the agents. The swarm matrix is then linearly combined into the local Q-value matrix of each agent, using an independence factor controlling the tradeoff of local and global knowledge.\n",
    "\n",
    "\n",
    "__References:__\n",
    "\n",
    "1. Multi-Agent Reinforcement Learning: A Review of Challenges and Applications, Canese at el., 2021\n",
    "2. Multi-Agent Reinforcement Learning: A Selective Overview of Theories and Algorithms, Kaiqing el al., 2019\n",
    "3. An Overview of Multi-Agent Reinforcement Learning from Game Theoretical Perspective, Yaodong et al., 2020\n",
    "4. Multiagent Deep Reinforcement Learning: Challenges and Directions Towards Human-Like Approaches, Wong et al., 2021\n",
    "5. Multi-Agent Reinforcement Learning: a critical survey, Shoham et al., 2003\n",
    "6. Q-RTS: a real-time swarm intelligence based on multi-agent Q-learning, Matta et al., 2019"
   ]
  },
  {
   "cell_type": "markdown",
   "id": "21ff1a51-e6ec-4c69-a5f0-cb116839c199",
   "metadata": {},
   "source": [
    "### If running with google colab:\n",
    "1. uncomment and run the next code cell.\n",
    "2. create an empty directories with the names `src` and `tmp`.\n",
    "3. uplode the contant of the directory `tut09/src` into the empty `src` directory on colab."
   ]
  },
  {
   "cell_type": "code",
   "execution_count": 1,
   "id": "12bf7e03-9d94-42cb-b5e1-3870c82f08b7",
   "metadata": {},
   "outputs": [],
   "source": [
    "# # installing easily via pip (uncomment if running from google colab)\n",
    "# !pip install torch\n",
    "# !pip install gym\n",
    "# !pip install -q 'git+https://github.com/sarah-keren/multi-taxi'\n",
    "# !pip install -q 'git+https://github.com/sarah-keren/MAC'"
   ]
  },
  {
   "cell_type": "markdown",
   "id": "3034cc30-af57-417e-9177-67c73c5ab3e2",
   "metadata": {},
   "source": [
    "# Pre-Implementation"
   ]
  },
  {
   "cell_type": "markdown",
   "id": "fb8b72b5-7ed0-48d3-bfed-263e445be373",
   "metadata": {},
   "source": [
    "### Imports"
   ]
  },
  {
   "cell_type": "code",
   "execution_count": 2,
   "id": "554bfb49-77d9-46ba-8ce9-c702cf5537ef",
   "metadata": {},
   "outputs": [
    {
     "name": "stderr",
     "output_type": "stream",
     "text": [
      "/usr/local/Caskroom/miniconda/base/envs/fstma-tut09/lib/python3.8/site-packages/tqdm/auto.py:22: TqdmWarning: IProgress not found. Please update jupyter and ipywidgets. See https://ipywidgets.readthedocs.io/en/stable/user_install.html\n",
      "  from .autonotebook import tqdm as notebook_tqdm\n",
      "\n"
     ]
    }
   ],
   "source": [
    "import os\n",
    "import sys\n",
    "import torch as T\n",
    "import numpy as np\n",
    "import copy as cp\n",
    "import random\n",
    "import torch.nn as nn\n",
    "import torch.nn.functional as F\n",
    "import torch.optim as optim\n",
    "import torch as T\n",
    "from mac.environments.env_wrapper import EnvWrappperMultiTaxi\n",
    "from mac.agents import Agent, DecisionMaker, RandomDecisionMaker\n",
    "from mac.control.controller_decentralized import DecentralizedController\n",
    "from mac.control.controller_centralized import CentralizedController\n",
    "from multi_taxi import MultiTaxiEnv\n",
    "from src.utils_controller import (DecentralizedRlController, CentralizedRlController,\n",
    "                                  create_decentralized_agent, create_centralized_agent)\n",
    "from src.agents import DqnDecisionMaker\n",
    "from src.utils import plot_multi_taxi_learning_curve\n",
    "sys.path.append(\"./src\")"
   ]
  },
  {
   "cell_type": "markdown",
   "id": "c1bfbd41-0fad-43d4-8fb0-1a6e1e46f759",
   "metadata": {},
   "source": [
    "### Environment maps"
   ]
  },
  {
   "cell_type": "code",
   "execution_count": 3,
   "id": "fa68f59f-e228-4a70-a17c-d16e940ffb18",
   "metadata": {},
   "outputs": [],
   "source": [
    "simple_MAP = [\n",
    "    \"+---------+\",\n",
    "    \"| : : : : |\",\n",
    "    \"| : : : : |\",\n",
    "    \"| : : : : |\",\n",
    "    \"| : : : : |\",\n",
    "    \"| : : : : |\",\n",
    "    \"+---------+\",\n",
    "]"
   ]
  },
  {
   "cell_type": "markdown",
   "id": "bbfe2392-2710-4a7f-8282-b850cc42bf23",
   "metadata": {},
   "source": [
    "### Seeding everything for experimental reproducibility"
   ]
  },
  {
   "cell_type": "code",
   "execution_count": 4,
   "id": "bf79c03f-aed1-43d4-ab51-1a426043b1a4",
   "metadata": {},
   "outputs": [],
   "source": [
    "SEED = 42\n",
    "np.random.seed(SEED) # numpy\n",
    "T.manual_seed(SEED)  # torch\n",
    "random.seed(SEED)    # random"
   ]
  },
  {
   "cell_type": "markdown",
   "id": "82b037be-8917-4e4b-9e34-1747c23de0f3",
   "metadata": {
    "tags": []
   },
   "source": [
    "## Multi-Taxi Domain\n"
   ]
  },
  {
   "cell_type": "code",
   "execution_count": 5,
   "id": "4d5b6ce4-abd4-4bf4-8c67-9fed102831e4",
   "metadata": {},
   "outputs": [
    {
     "name": "stdout",
     "output_type": "stream",
     "text": [
      "+-----------------------+\n",
      "| : |F: | : | : | : |F: |\n",
      "| : | : : : | : | : | : |\n",
      "| : : : : : : : : : : :\u001b[32m\u001b[33;1mD\u001b[0m\u001b[0m|\n",
      "| : : : : :\u001b[33;1mP\u001b[0m| : : : : : |\n",
      "| :\u001b[31;1mP\u001b[0m: : :\u001b[32m\u001b[41m\u001b[31;1mD\u001b[0m\u001b[0m\u001b[0m: | : : : : : |\n",
      "| : : : : : : : : : : : |\n",
      "| | :G| | | :G| | |\u001b[43m_\u001b[0m: | |\n",
      "+-----------------------+\n",
      "Taxi0-YELLOW: Fuel: inf, Location: (6,9), Collided: False\n",
      "Taxi1-RED: Fuel: inf, Location: (4,4), Collided: False\n",
      "Passenger1: Location: (3, 5), Destination: (2, 11)\n",
      "Passenger2: Location: (4, 1), Destination: (4, 4)\n",
      "Done: False, {'taxi_0': False, 'taxi_1': False, '__all__': False}\n",
      "Passengers Status's: [2, 2]\n"
     ]
    }
   ],
   "source": [
    "# set up the environment\n",
    "taxi_env = MultiTaxiEnv(num_taxis=2, num_passengers=2, can_see_others=False)\n",
    "\n",
    "# wrap environment to be MAC compatible\n",
    "taxi_env = EnvWrappperMultiTaxi(taxi_env)\n",
    "\n",
    "# render\n",
    "taxi_env.render()"
   ]
  },
  {
   "cell_type": "markdown",
   "id": "a20cc11f-7840-42e0-88f3-db678df9341a",
   "metadata": {},
   "source": [
    "# Controlling Methods with Random Agents\n",
    "\n",
    "1. Centralized controller with a random decision maker (Agent)\n",
    "2. Decentralized controller with a few random decision makers (Agents)"
   ]
  },
  {
   "cell_type": "markdown",
   "id": "5b6b3cbe-e4bd-4469-a098-ede1cebcddcc",
   "metadata": {},
   "source": [
    "#### Abstract parent class for a generalized Controller (MAC package compatible)\n",
    "\n",
    "We are using the abstract Controller (from MAC) as a parent class for our controllers. It is intitialized only with the environment, and it has a few base functions already implemented which we can use or override:\n",
    "- ```python\n",
    "def run(self, render=False, max_iteration=None):\n",
    "``` \n",
    "which is for using the Controller to run the environment.\n",
    "\n",
    "- ```python\n",
    "def perform_joint_action(self, joint_action):\n",
    "```\n",
    "which is for performing a joint action __regardless__ if it is generated in a __centralized__ or a __decentralized__ manner.\n",
    "\n",
    "- ```python\n",
    "@abstractmethod\n",
    "def get_joint_action(self, observation):\n",
    "    pass\n",
    "```\n",
    "which is implemented as an abstract method for the child class to decide if should be centralized or decentralized.\n"
   ]
  },
  {
   "cell_type": "markdown",
   "id": "30d82ca9-8d89-48b2-8396-1914a7487536",
   "metadata": {
    "tags": []
   },
   "source": [
    "### The Main Differences Between Centralized and Decentralized Controllers (in discrete actions spaces)\n",
    "\n",
    "In our implementation both __Centralized__ and __Decentralized__ controllers inherits from the abstract `Controller` class of mac. There are two main differences between the two: \n",
    "1. An agent's action space and the way the `get_joint_action()` function is implemented.\n",
    "2. An agent's observation space and the way a state is communicated to the agents.\n",
    "\n",
    "#### Decentralized Controller Action Space\n",
    "In the Decentralized setting, each player (i.e. a taxi in the __Multi Taxi__ domain) is being controlled via a single agent. Therefore, the action space of the agent is determined from the dimension of a single player action space. For example, a taxi in the Multi-Taxi domain (under the settings we are working in) can act in the environment by performing the next actions:\n",
    "- 0: move south\n",
    "- 1: move north\n",
    "- 2: move east\n",
    "- 3: move west\n",
    "- 4: pickup passenger\n",
    "- 5: dropoff passenger\n",
    "\n",
    "Therefore, the action space has $6$ dimensions. This determines each one of the $m$ taxi-agents in a decentralized control setting to also have an action space with $6$ dimensions. In that setting, the `get_joint_action()` function is implemented by iterating over all the players in the environment, each is controlled by its own agent, and compute there actions one by one, resulting in a set of actions for all the players.\n",
    "\n",
    "\n",
    "#### Cecentralized Controller Action Space\n",
    "\n",
    "In the Centralized setting, a single agent is used for controlling __all__ the players in the environment. Therefore, the output of the `get_joint_action()` function is no longer a set of actions in a low-dimensional action-space, but a single action in a high-dimensional action-space, which results as an integer $k\\in[0, n^m-1]$, where\n",
    "- $k$ is the centralized agent's action.\n",
    "- $n$ is a single player action-space dimension (i.e a `taxi_0`).\n",
    "- $m$ is the number of players in the environmet (i.e the number of taxis).\n",
    "\n",
    "__note:__ there is a hidden assumption in the derivation above that all the players in the environment have the same action space dimension, in domains which this is not the case (i.e speaker-listener) the derivation would be a little different.\n",
    "\n",
    "Notice that in order to `step()` the environment, we first need to break the central agent's action into actions of individual players in the environment. We do that using a `decode_action()` function which assumes the central agent's action is a base $n$ encoding of individual players actions as follows\n",
    "$$k=a_0\\cdot n^{m-1} + a_1\\cdot n^{m-2} +\\dots +a_{(m-2)}\\cdot n^{1}+a_{(m-1)}\\cdot n^{0}$$\n",
    "\n",
    "#### Centralized vs Decentralized Controllers State Spaces\n",
    "\n",
    "Depending on the domain there are a lot of ways to encode the set of individual players' observations into a single agent observation. For example, in the Multi-Taxi domain, each individual player \"sees\" only itself, its observation does not contain the information obout other taxis' locations. A way to encode the set of individual observation into a single observation could be by collecting all the infromation from individual observation into a single high-dimensional observation that contains the information of all the taxis at once as follows\n",
    "\n",
    "__individual $m$ observations:__\n",
    "- taxi_0 - $[x_0, y_0, pass^{\\text{loc&dest}}_0, \\dots, pass^{\\text{loc&dest}}_l, pass_0^{\\text{stat}}, \\dots, , pass_l^{\\text{stat}}]$\n",
    "- ...\n",
    "- taxi_m - $[x_m, y_m, pass^{\\text{loc&dest}}_0, \\dots, pass^{\\text{loc&dest}}_l, pass_0^{\\text{stat}}, \\dots, , pass_l^{\\text{stat}}]$\n",
    "\n",
    "__high-dimensional single observation:__\n",
    "- central agent - $[x_0, y_0, \\dots x_m, y_m, pass^{\\text{loc&dest}}_0, \\dots, pass^{\\text{loc&dest}}_l, pass_0^{\\text{stat}}, \\dots, , pass_l^{\\text{stat}}]$\n"
   ]
  },
  {
   "cell_type": "markdown",
   "id": "4a4f00c1-f391-4e07-b0a1-4ed17381615e",
   "metadata": {},
   "source": [
    "### Agent abstract class and a Random Decision Maker class (copied from MAC)\n",
    "After defining the controllers it is time to define our __Agent__ and __Decision-Makers___.\n",
    "- An Agent is an object that observe the environment.\n",
    "- A Decision-Maker is the object that make decisions and choose actions.\n",
    "- Each Agent may have more than one Decision-Maker. \n"
   ]
  },
  {
   "cell_type": "markdown",
   "id": "9886b71f-fb99-4c8a-b1ae-075f86d80719",
   "metadata": {},
   "source": [
    "```python\n",
    "class Agent:\n",
    "\n",
    "    def __init__(self, decision_maker, sensor_function=None, message_filter=None):\n",
    "        self.decision_maker = decision_maker\n",
    "        self.sensor_function = sensor_function or (lambda x: x)  # default to identity function\n",
    "        self.message_filter = message_filter\n",
    "\n",
    "    def get_decision_maker(self):\n",
    "        return self.decision_maker\n",
    "\n",
    "    def get_observation(self, state):\n",
    "        return self.sensor_function(state)\n",
    "\n",
    "\n",
    "class DecisionMaker(ABC):\n",
    "    \"\"\"\n",
    "    An abstract class for choosing an action, part of an agent.\n",
    "    (An agent can have one or several of these)\n",
    "    \"\"\"\n",
    "\n",
    "    @abstractmethod\n",
    "    def get_action(self, observation):\n",
    "        pass\n",
    "\n",
    "\n",
    "class RandomDecisionMaker:\n",
    "    def __init__(self, action_space):\n",
    "        self.space = action_space\n",
    "\n",
    "    def get_action(self, observation):\n",
    "\n",
    "        #TODO this assumes that the action space is a gym space with the `sample` funcition\n",
    "        if isinstance(self.space, dict):\n",
    "            return {agent: self.space[agent].sample() for agent in self.space.keys()}\n",
    "        else:\n",
    "            return self.space.sample()\n",
    "```"
   ]
  },
  {
   "cell_type": "markdown",
   "id": "4d61b8e7-ba39-481c-9650-3bd253be3858",
   "metadata": {},
   "source": [
    "## Control with Random-Decision-Makers (Implementation)\n",
    "### Centralized Controller - Random Decision Maker"
   ]
  },
  {
   "cell_type": "code",
   "execution_count": 6,
   "id": "97dcf5cc-b920-4c3f-ac26-3242d8c0ef88",
   "metadata": {},
   "outputs": [],
   "source": [
    "# setting up a random decision maker\n",
    "random_decision_maker = RandomDecisionMaker(taxi_env.action_spaces)\n",
    "\n",
    "# initialize a central agent\n",
    "central_agent = Agent(decision_maker=random_decision_maker)\n",
    "\n",
    "# initialize a centralized controler\n",
    "centralized_controller = CentralizedController(env=taxi_env, central_agent=central_agent)"
   ]
  },
  {
   "cell_type": "markdown",
   "id": "23956022-f03f-44b7-ab35-f26b648a6311",
   "metadata": {},
   "source": [
    "Render a run in the environment using a centralized controller with a random decision maker."
   ]
  },
  {
   "cell_type": "code",
   "execution_count": 7,
   "id": "f3fe1200-0d39-467c-9e4f-3e0df266d9d8",
   "metadata": {},
   "outputs": [
    {
     "name": "stdout",
     "output_type": "stream",
     "text": [
      "+-----------------------+\n",
      "| : |F: | : | : | : |F: |\n",
      "| : | : : : | : | : | : |\n",
      "| : : : : : : : : : : : |\n",
      "| : : : : : | : : : : : |\n",
      "| : : :\u001b[33;1mP\u001b[0m: : | : :\u001b[31;1mP\u001b[0m: : : |\n",
      "| : : :\u001b[41m_\u001b[0m:\u001b[32m\u001b[31;1mD\u001b[0m\u001b[0m: : :\u001b[32m\u001b[33;1mD\u001b[0m\u001b[0m: : : : |\n",
      "| | :G| | | :G| | | : |\u001b[43m_\u001b[0m|\n",
      "+-----------------------+\n",
      "Taxi0-YELLOW: Fuel: inf, Location: (6,11), Collided: False\n",
      "Taxi1-RED: Fuel: inf, Location: (5,3), Collided: False\n",
      "Passenger1: Location: (4, 3), Destination: (5, 7)\n",
      "Passenger2: Location: (4, 8), Destination: (5, 4)\n",
      "Done: False, {'taxi_0': False, 'taxi_1': False, '__all__': False}\n",
      "Passengers Status's: [2, 2]\n",
      "+-----------------------+\n",
      "| : |F: | : | : | : |F: |\n",
      "| : | : : : | : | : | : |\n",
      "| : : : : : : : : : : : |\n",
      "| : : : : : | : : : : : |\n",
      "| : : :\u001b[33;1mP\u001b[0m: : | : :\u001b[31;1mP\u001b[0m: : : |\n",
      "| : : :\u001b[41m_\u001b[0m:\u001b[32m\u001b[31;1mD\u001b[0m\u001b[0m: : :\u001b[32m\u001b[33;1mD\u001b[0m\u001b[0m: : : : |\n",
      "| | :G| | | :G| | | : |\u001b[43m_\u001b[0m|\n",
      "+-----------------------+\n",
      "Taxi0-YELLOW: Fuel: inf, Location: (6,11), Collided: False\n",
      "Taxi1-RED: Fuel: inf, Location: (5,3), Collided: False\n",
      "Passenger1: Location: (4, 3), Destination: (5, 7)\n",
      "Passenger2: Location: (4, 8), Destination: (5, 4)\n",
      "Done: False, {'taxi_0': False, 'taxi_1': False, '__all__': False}\n",
      "Passengers Status's: [2, 2]\n",
      "+-----------------------+\n",
      "| : |F: | : | : | : |F: |\n",
      "| : | : : : | : | : | : |\n",
      "| : : : : : : : : : : : |\n",
      "| : : : : : | : : : : : |\n",
      "| : : :\u001b[33;1mP\u001b[0m: : | : :\u001b[31;1mP\u001b[0m: : : |\n",
      "| : : :\u001b[41m_\u001b[0m:\u001b[32m\u001b[31;1mD\u001b[0m\u001b[0m: : :\u001b[32m\u001b[33;1mD\u001b[0m\u001b[0m: : : : |\n",
      "| | :G| | | :G| | | : |\u001b[43m_\u001b[0m|\n",
      "+-----------------------+\n",
      "Taxi0-YELLOW: Fuel: inf, Location: (6,11), Collided: False\n",
      "Taxi1-RED: Fuel: inf, Location: (5,3), Collided: False\n",
      "Passenger1: Location: (4, 3), Destination: (5, 7)\n",
      "Passenger2: Location: (4, 8), Destination: (5, 4)\n",
      "Done: False, {'taxi_0': False, 'taxi_1': False, '__all__': False}\n",
      "Passengers Status's: [2, 2]\n"
     ]
    }
   ],
   "source": [
    "centralized_controller.run(render=True, max_iteration=2)"
   ]
  },
  {
   "cell_type": "markdown",
   "id": "2218dc77-c898-49e2-8a58-4beeedd3bc89",
   "metadata": {},
   "source": [
    "### Decentralized Controller - Random Decision Makers"
   ]
  },
  {
   "cell_type": "code",
   "execution_count": 8,
   "id": "59df0330-b7a8-4e4e-90f9-4694a9d7d492",
   "metadata": {},
   "outputs": [],
   "source": [
    "# setting up a dictionary of random decision makers, one for each taxi\n",
    "random_agents = {}\n",
    "for agent_id in taxi_env.get_env_agents():\n",
    "    rdm = RandomDecisionMaker(taxi_env.get_action_space(agent_id))\n",
    "    random_agents[agent_id] = Agent(rdm)\n",
    "\n",
    "# initialize a decentralized controler\n",
    "decentralized_controller = DecentralizedController(env=taxi_env, agents=random_agents)"
   ]
  },
  {
   "cell_type": "markdown",
   "id": "2f37466f-c5f3-4ddf-9f7c-5f66306b676b",
   "metadata": {},
   "source": [
    "Render a run in the environment using a decentralized controller with a few random decision makers."
   ]
  },
  {
   "cell_type": "code",
   "execution_count": 9,
   "id": "f132ed6d-d815-404d-9f09-b4f0065a46ac",
   "metadata": {},
   "outputs": [
    {
     "name": "stdout",
     "output_type": "stream",
     "text": [
      "+-----------------------+\n",
      "| : |F: | :\u001b[32m\u001b[43m\u001b[31;1mD\u001b[0m\u001b[0m\u001b[0m|\u001b[41m_\u001b[0m: | : |\u001b[32m\u001b[33;1mD\u001b[0m\u001b[0m: |\n",
      "| : | : : : | : | : | : |\n",
      "| : : : : : : : : : : : |\n",
      "| : : : : : | : : : : : |\n",
      "| : : : : : | : : : : : |\n",
      "| : : : : : : : : : : : |\n",
      "| | :G| | |\u001b[31;1mP\u001b[0m:G|\u001b[33;1mP\u001b[0m| | : | |\n",
      "+-----------------------+\n",
      "Taxi0-YELLOW: Fuel: inf, Location: (0,5), Collided: False\n",
      "Taxi1-RED: Fuel: inf, Location: (0,6), Collided: False\n",
      "Passenger1: Location: (6, 7), Destination: (0, 10)\n",
      "Passenger2: Location: (6, 5), Destination: (0, 5)\n",
      "Done: False, {'taxi_0': False, 'taxi_1': False, '__all__': False}\n",
      "Passengers Status's: [2, 2]\n",
      "+-----------------------+\n",
      "| : |F: | :\u001b[32m\u001b[43m\u001b[31;1mD\u001b[0m\u001b[0m\u001b[0m|\u001b[41m_\u001b[0m: | : |\u001b[32m\u001b[33;1mD\u001b[0m\u001b[0m: |\n",
      "| : | : : : | : | : | : |\n",
      "| : : : : : : : : : : : |\n",
      "| : : : : : | : : : : : |\n",
      "| : : : : : | : : : : : |\n",
      "| : : : : : : : : : : : |\n",
      "| | :G| | |\u001b[31;1mP\u001b[0m:G|\u001b[33;1mP\u001b[0m| | : | |\n",
      "+-----------------------+\n",
      "Taxi0-YELLOW: Fuel: inf, Location: (0,5), Collided: False\n",
      "Taxi1-RED: Fuel: inf, Location: (0,6), Collided: False\n",
      "Passenger1: Location: (6, 7), Destination: (0, 10)\n",
      "Passenger2: Location: (6, 5), Destination: (0, 5)\n",
      "Done: False, {'taxi_0': False, 'taxi_1': False, '__all__': False}\n",
      "Passengers Status's: [2, 2]\n",
      "+-----------------------+\n",
      "| : |F: | :\u001b[32m\u001b[43m\u001b[31;1mD\u001b[0m\u001b[0m\u001b[0m|\u001b[41m_\u001b[0m: | : |\u001b[32m\u001b[33;1mD\u001b[0m\u001b[0m: |\n",
      "| : | : : : | : | : | : |\n",
      "| : : : : : : : : : : : |\n",
      "| : : : : : | : : : : : |\n",
      "| : : : : : | : : : : : |\n",
      "| : : : : : : : : : : : |\n",
      "| | :G| | |\u001b[31;1mP\u001b[0m:G|\u001b[33;1mP\u001b[0m| | : | |\n",
      "+-----------------------+\n",
      "Taxi0-YELLOW: Fuel: inf, Location: (0,5), Collided: False\n",
      "Taxi1-RED: Fuel: inf, Location: (0,6), Collided: False\n",
      "Passenger1: Location: (6, 7), Destination: (0, 10)\n",
      "Passenger2: Location: (6, 5), Destination: (0, 5)\n",
      "Done: False, {'taxi_0': False, 'taxi_1': False, '__all__': False}\n",
      "Passengers Status's: [2, 2]\n"
     ]
    }
   ],
   "source": [
    "decentralized_controller.run(render=True, max_iteration=2)"
   ]
  },
  {
   "cell_type": "markdown",
   "id": "57df2ab8-6e4c-42f1-9bdc-b5efe7686c4b",
   "metadata": {},
   "source": [
    "## Create a Deep Q-Network (DQN) Decision Maker"
   ]
  },
  {
   "cell_type": "markdown",
   "id": "b962b67c-38dd-4073-bc04-cc9c579b50be",
   "metadata": {},
   "source": [
    "Here is a quick reminder of the DQN algorithm, with its replay buffer and network replacement, as we saw in previous tutorials:\n",
    "\n",
    "![](assets/images/DQN.PNG)"
   ]
  },
  {
   "cell_type": "markdown",
   "id": "d11444a6-aeab-4f61-bcf6-23376d47911c",
   "metadata": {},
   "source": [
    "### Creating a DQN base class and DQN-Decision-Makers\n",
    "The DQN base class is, as its name, a base class for DQN algorithm variations. The base class is needed because there are a lot of different DQN-like algorithms (i.e. DQN, DDQN, Dueling-DQN, Dueling-DDQN, etc) and we would want to be compatible with all of them. \n",
    "\n",
    "In order to also be compatible with the `Agent` and `DecisionMaker` classes of the `MAC` package, our implemented `DqnDecisionMaker` class follows the classes architecture depicted in the next diagram (where `DecisionMaker` inherits from `ABC`, `DqnBase` inherits from `DecisionMaker` and so on).\n",
    "\n",
    "![](assets/dqn_inheritance.drawio.png)\n",
    "\n",
    "__Note:__ The `Agent` class does not inherits from the `DqnDecisionMaker` class but has it as an attribute.\n",
    "\n",
    "The `DqnBase` gets a __replay buffer__ and a few __neural networks__ as an input (depends on the DQN variation) and handles all the __saving and loading__ of transitions and networks, where every `DqnDecisionMaker` is in charge on the action-choosing and learning-process through the next two functions:\n",
    "\n",
    "```python\n",
    "def get_action(self, observation):\n",
    "    ...\n",
    "    return action\n",
    "\n",
    "def learn(self):\n",
    "    ...\n",
    "\n",
    "```\n",
    "__Note:__ Each one of the __DQN__-like algorithms has its own implementation of these two functions.\n",
    "\n",
    "#### A Multi-Layer Perceptron (MLP) for DQN\n",
    "The action-value function, $Q(s, a)$ in DQN algorithms is represented using a neural network. A personal choise for us was a three-layer mlp, this could obviously change based on the __efficiency-accuracy__ tradeoff."
   ]
  },
  {
   "cell_type": "markdown",
   "id": "23849f0f-b6b9-4927-add7-f59946bdf5f8",
   "metadata": {},
   "source": [
    "## Automatic Generation of Decentralized and Centralized Agents"
   ]
  },
  {
   "cell_type": "markdown",
   "id": "4ea57575-402d-4d7c-8633-784c9512367f",
   "metadata": {},
   "source": [
    "Using the functions `create_decentralized_agent()` and `create_centralized_agent()` we make the process of creating (or loading) a new agent automatic and Coltroller independent. "
   ]
  },
  {
   "cell_type": "code",
   "execution_count": 10,
   "id": "b9612016-028f-43d6-8282-4441569c4d27",
   "metadata": {},
   "outputs": [],
   "source": [
    "def create_decentralized_agent(policy_name, env, agent_name, kwargs, load_agent=False):\n",
    "    \"\"\"\n",
    "    Creates a decentralized agent\n",
    "    Args:\n",
    "        policy_name (str): name of RL algorithm\n",
    "        env: the multi_taxi env\n",
    "        agent_name (str): name of the agent\n",
    "        kwargs (dict): dict parameters for RL algorithm\n",
    "\n",
    "    Returns: agent\n",
    "\n",
    "    \"\"\"\n",
    "    agent_kwargs = cp.copy(kwargs)\n",
    "    agent_kwargs['input_dims'] = env.get_observation_space(agent_name).shape\n",
    "    agent_kwargs['n_actions'] = env.get_action_space(agent_name).n\n",
    "    agent_kwargs['env_name'] = agent_kwargs['env_name'] + '__' + agent_name\n",
    "\n",
    "    if policy_name == 'dqn':\n",
    "        agent = Agent(DqnDecisionMaker(**agent_kwargs))\n",
    "    \n",
    "    elif policy_name == 'ddpg':\n",
    "        raise NotImplementedError\n",
    "        \n",
    "    else:\n",
    "        print('... invalid operation ...')\n",
    "        return\n",
    "    print(f'... initialize a decentralized {policy_name} agent for agent {agent_name} ...')\n",
    "    if load_agent:\n",
    "        agent.get_decision_maker().load_models()\n",
    "        print(f'... load a decentralized {policy_name} agent for agent {agent_name} ...')\n",
    "    return agent\n",
    "\n"
   ]
  },
  {
   "cell_type": "code",
   "execution_count": 11,
   "id": "8eee93c5-4089-417b-92c7-417eedb36cde",
   "metadata": {},
   "outputs": [],
   "source": [
    "def create_centralized_agent(policy_name, env, agent_name, kwargs, load_agent=False):\n",
    "    \"\"\"\n",
    "    Creates a centralized agent\n",
    "    Notes:\n",
    "        Compute the dimension of the joint state space and the joint action space\n",
    "            [\n",
    "             agent_0_x, agent_0_y, ..., agent_n_x, agent_0_y,\n",
    "             pass_0_loc_x, pass_0_loc_y, pass_0_des_x, pass_0_des_y, ...\n",
    "             pass_m_loc_x, pass_m_loc_y, pass_m_des_x, pass_m_des_y,\n",
    "             pass_0_status, ..., pass_m, status\n",
    "            ]\n",
    "\n",
    "    Args:\n",
    "        policy_name (str): name of RL algorithm\n",
    "        env: the multi_taxi env\n",
    "        agent_name (str): name of the agent\n",
    "        kwargs (dict): dict parameters for RL algorithm\n",
    "\n",
    "    Returns: agent\n",
    "\n",
    "    \"\"\"\n",
    "\n",
    "    # compute the observation space\n",
    "    agents_ids = env.get_env_agents()\n",
    "    observation_space = list(env.get_observation_space(agents_ids[0]).shape)\n",
    "    observation_space[0] += 2 * (len(agents_ids) - 1)\n",
    "    kwargs['input_dims'] = tuple(observation_space)\n",
    "\n",
    "    # compute the dimension of the joint action space\n",
    "    kwargs['n_actions'] = int(env.get_action_space(agents_ids[0]).n ** len(agents_ids))\n",
    "\n",
    "    # name the agent for saving purposes\n",
    "    kwargs['env_name'] = kwargs['env_name'] + '__' + agent_name\n",
    "    if policy_name == 'dqn':\n",
    "        agent = Agent(DqnDecisionMaker(**kwargs))\n",
    "        \n",
    "    elif policy_name == 'ddpg':\n",
    "        raise NotImplementedError\n",
    "        \n",
    "    else:\n",
    "        print('... invalid operation ...')\n",
    "        return\n",
    "    print(f'... initialize a centralized {policy_name} agent for agent {agent_name} ...')\n",
    "\n",
    "    if load_agent:\n",
    "        agent.get_decision_maker().load_models()\n",
    "        print(f'... load a centralized {policy_name} agent for agent {agent_name} ...')\n",
    "    return agent"
   ]
  },
  {
   "cell_type": "markdown",
   "id": "d912a656-1e14-41ef-82b6-e90ae3d52e28",
   "metadata": {},
   "source": [
    "# Creating the Centralized and Decentralized RL Controllers \n",
    "Finally, we are left with the interesting part of creating classes for the RL decentralized and centralized controllers. The main difference between the controllers with random-decision-makers we have seen so far to the Reinforcement Learning ones is that the RL ones can learn how to operate in the environment through experience. Therefore, the RL Controllers have to have a `train()` function implemented so we could train our RL decision makers. It is important that the `train()` function would be independent of the RL algorithm in hand so we could use it in different RL algorithms on different domains.\n",
    "\n",
    "## Decentralized Reinfrocement Learning Controller\n",
    "\n",
    "The implementation's architecture is depicted in the diagram below, where the end result is a `DecentralizedRLController` which is MAC complatible  \n",
    "\n",
    "![](assets/decentralized_rl_controler_inheritance.drawio.png)\n",
    "\n",
    "The `train()` function of the decentralized RL controller class has a few important aspects it is worth talk about, here is its skeleton\n",
    "\n",
    "\n",
    "```python\n",
    "def train(self, render=False, max_iteration=None, max_episode=1):\n",
    "    ...\n",
    "    for episode in tqdm(range(max_episode)):\n",
    "        ...\n",
    "        done = {'__all__': False}\n",
    "        observation = self.env.get_env().reset()\n",
    "        \n",
    "        while not done['__all__']:            \n",
    "            ...\n",
    "            # get actions for all agents and perform\n",
    "            joint_action = self.get_training_joint_action(observation)\n",
    "            observation_, reward, done, info = self.perform_joint_action(joint_action)\n",
    "\n",
    "            # store the joint transition\n",
    "            self.store_joint_transition(observation, joint_action, reward, observation_, done)\n",
    "\n",
    "            # distribute rewards\n",
    "            self.distribute_joint_reward(reward)\n",
    "            ...\n",
    "            # perform joint learning for all agents\n",
    "            self.joint_learning()\n",
    "            ...   \n",
    "            # step the state forward\n",
    "            observation = observation_\n",
    "    return stuff_for_analysis\n",
    "```\n",
    "\n",
    "__Notes:__\n",
    "- The `observation` received from the environment is transfered to the agent as is.\n",
    "- Each agent stores its own transition with its own observations, action and reward.\n",
    "- The learning process is happening in a loop where each agent learns on its own from it own experience.\n",
    "- In this setting it is also possible to have the agents share the replay buffer and there experiences for more efficient learning (not implemented here)."
   ]
  },
  {
   "cell_type": "markdown",
   "id": "68d397b7-f53e-4af4-8f89-6b2790ad01bc",
   "metadata": {},
   "source": [
    "## Running a Decentralized RL Controller for the Multi-Taxi Domain\n",
    "### Setting up the parameters"
   ]
  },
  {
   "cell_type": "code",
   "execution_count": 12,
   "id": "ad2fa1b2-e521-4e62-9192-d3df75c8d44e",
   "metadata": {},
   "outputs": [],
   "source": [
    "# multi_taxi parameters\n",
    "num_taxis = 2\n",
    "num_passengers = 2\n",
    "can_see_others = False\n",
    "domain_map = simple_MAP\n",
    "pickup_only = True\n",
    "\n",
    "# DQN parameters\n",
    "kwargs = {\n",
    "    'gamma': 0.99,\n",
    "    'epsilon': 1.0,\n",
    "    'lr': 1e-4,\n",
    "    'mem_size': 100000,\n",
    "    'batch_size': 8,\n",
    "    'eps_min': 0.01,\n",
    "    'eps_dec': 2e-5,\n",
    "    'replace': 4000,\n",
    "    'algo': 'dqn',\n",
    "    'env_name': 'multi_taxi',\n",
    "    'chkpt_dir': './'\n",
    "}\n",
    "\n",
    "# controller parameters\n",
    "max_iteration = 100\n",
    "max_episode = 300"
   ]
  },
  {
   "cell_type": "markdown",
   "id": "1619aa8f-bd5c-4bf9-8638-4c8d94482fe3",
   "metadata": {},
   "source": [
    "### Initialize the Multi Taxi environment"
   ]
  },
  {
   "cell_type": "code",
   "execution_count": 13,
   "id": "1c9a7c10-669f-483c-9b30-cce6c3791688",
   "metadata": {},
   "outputs": [
    {
     "name": "stdout",
     "output_type": "stream",
     "text": [
      "+---------+\n",
      "| :\u001b[31;1mP\u001b[0m: : : |\n",
      "|\u001b[43m_\u001b[0m:\u001b[33;1mP\u001b[0m: : :\u001b[32m \u001b[0m|\n",
      "| : : : : |\n",
      "|\u001b[32m \u001b[0m:\u001b[41m_\u001b[0m: : : |\n",
      "| : : : : |\n",
      "+---------+\n",
      "Taxi0-YELLOW: Fuel: inf, Location: (1,0), Collided: False\n",
      "Taxi1-RED: Fuel: inf, Location: (3,1), Collided: False\n",
      "Passenger1: Location: (1, 1), Destination: pickup only!\n",
      "Passenger2: Location: (0, 1), Destination: pickup only!\n",
      "Done: False, {'taxi_0': False, 'taxi_1': False, '__all__': False}\n",
      "Passengers Status's: [2, 2]\n"
     ]
    }
   ],
   "source": [
    "# setting up the environment\n",
    "taxi_env = MultiTaxiEnv(num_taxis=num_taxis, num_passengers=num_passengers, can_see_others=can_see_others,\n",
    "                        domain_map=domain_map, pickup_only=pickup_only)\n",
    "\n",
    "# wrap environment to be MAC compatible\n",
    "taxi_env = EnvWrappperMultiTaxi(taxi_env)\n",
    "\n",
    "# render\n",
    "taxi_env.render()"
   ]
  },
  {
   "cell_type": "markdown",
   "id": "d3d2f874-6588-463c-9e42-7f588d70d848",
   "metadata": {},
   "source": [
    "### Create the Controller and Train the Agents"
   ]
  },
  {
   "cell_type": "code",
   "execution_count": 14,
   "id": "eb3dc23d-d9d1-4673-bff7-7896a0beb599",
   "metadata": {},
   "outputs": [
    {
     "name": "stderr",
     "output_type": "stream",
     "text": [
      "100%|█████████████████████████████████████████| 300/300 [01:28<00:00,  3.38it/s]\n"
     ]
    },
    {
     "data": {
      "image/png": "[encoded data removed]",
      "text/plain": [
       "<Figure size 936x504 with 2 Axes>"
      ]
     },
     "metadata": {
      "needs_background": "light"
     },
     "output_type": "display_data"
    }
   ],
   "source": [
    "# set up a dictionary of RL decision makers, one for each taxi\n",
    "rl_agents = {}\n",
    "for agent_id in taxi_env.get_env_agents():\n",
    "    rl_agents[agent_id] = create_decentralized_agent(kwargs['algo'], taxi_env, agent_id, kwargs)\n",
    "\n",
    "# initialize a decentralized controller\n",
    "decentralized_rl_controller = DecentralizedRlController(env=taxi_env, agents=rl_agents)\n",
    "\n",
    "# train\n",
    "total_rewards, agents_epsilons = decentralized_rl_controller.train(render=False, max_iteration=max_iteration,\n",
    "                                                                   max_episode=max_episode)\n",
    "\n",
    "# plot training process results\n",
    "plot_multi_taxi_learning_curve(total_rewards, agents_epsilons)"
   ]
  },
  {
   "cell_type": "markdown",
   "id": "6238404f-96b3-467e-a5cf-119339b2073c",
   "metadata": {},
   "source": [
    "### Learning Curve of a Successfully Trained Decentralized Controller\n",
    "\n",
    "\n",
    "![](tmp/2022_06_13__12_15_53_x/learning_curve_2022_06_13__12_15_53.png)"
   ]
  },
  {
   "cell_type": "markdown",
   "id": "9d169e9d-f227-440c-a681-13e882bbbe60",
   "metadata": {},
   "source": [
    "### Evaluate the Controller with env.render()"
   ]
  },
  {
   "cell_type": "code",
   "execution_count": 15,
   "id": "bc3bce60-f4e0-45dc-87f5-4c2c1360270c",
   "metadata": {},
   "outputs": [
    {
     "name": "stdout",
     "output_type": "stream",
     "text": [
      "... initialize a decentralized dqn agent for agent taxi_0 ...\n",
      "... loading checkpoint ...\n",
      "... loading checkpoint ...\n",
      "... load a decentralized dqn agent for agent taxi_0 ...\n",
      "... initialize a decentralized dqn agent for agent taxi_1 ...\n",
      "... loading checkpoint ...\n",
      "... loading checkpoint ...\n",
      "... load a decentralized dqn agent for agent taxi_1 ...\n"
     ]
    },
    {
     "data": {
      "image/png": "[encoded data removed]",
      "text/plain": [
       "<Figure size 936x504 with 2 Axes>"
      ]
     },
     "metadata": {
      "needs_background": "light"
     },
     "output_type": "display_data"
    },
    {
     "name": "stdout",
     "output_type": "stream",
     "text": [
      "+---------+\n",
      "|\u001b[33;1mP\u001b[0m: : : : |\n",
      "|\u001b[32m \u001b[0m:\u001b[43m_\u001b[0m:\u001b[32m \u001b[0m: :\u001b[31;1mP\u001b[0m|\n",
      "| :\u001b[41m_\u001b[0m: : : |\n",
      "| : : : : |\n",
      "| : : : : |\n",
      "+---------+\n",
      "Taxi0-YELLOW: Fuel: inf, Location: (1,1), Collided: False\n",
      "Taxi1-RED: Fuel: inf, Location: (2,1), Collided: False\n",
      "Passenger1: Location: (0, 0), Destination: pickup only!\n",
      "Passenger2: Location: (1, 4), Destination: pickup only!\n",
      "Done: False, {'taxi_0': False, 'taxi_1': False, '__all__': False}\n",
      "Passengers Status's: [2, 2]\n",
      "+---------+\n",
      "|\u001b[33;1mP\u001b[0m: : : : |\n",
      "|\u001b[32m \u001b[0m:\u001b[41m_\u001b[0m:\u001b[32m\u001b[43m_\u001b[0m\u001b[0m: :\u001b[31;1mP\u001b[0m|\n",
      "| : : : : |\n",
      "| : : : : |\n",
      "| : : : : |\n",
      "+---------+\n",
      "Taxi0-YELLOW: Fuel: inf, Location: (1,2), Collided: False\n",
      "Taxi1-RED: Fuel: inf, Location: (1,1), Collided: False\n",
      "Passenger1: Location: (0, 0), Destination: pickup only!\n",
      "Passenger2: Location: (1, 4), Destination: pickup only!\n",
      "Done: False, {'taxi_0': False, 'taxi_1': False, '__all__': False}\n",
      "Passengers Status's: [2, 2]\n",
      "+---------+\n",
      "|\u001b[33;1mP\u001b[0m:\u001b[41m_\u001b[0m: : : |\n",
      "|\u001b[32m \u001b[0m: :\u001b[32m \u001b[0m:\u001b[43m_\u001b[0m:\u001b[31;1mP\u001b[0m|\n",
      "| : : : : |\n",
      "| : : : : |\n",
      "| : : : : |\n",
      "+---------+\n",
      "Taxi0-YELLOW: Fuel: inf, Location: (1,3), Collided: False\n",
      "Taxi1-RED: Fuel: inf, Location: (0,1), Collided: False\n",
      "Passenger1: Location: (0, 0), Destination: pickup only!\n",
      "Passenger2: Location: (1, 4), Destination: pickup only!\n",
      "Done: False, {'taxi_0': False, 'taxi_1': False, '__all__': False}\n",
      "Passengers Status's: [2, 2]\n",
      "+---------+\n",
      "|\u001b[41m\u001b[33;1mP\u001b[0m\u001b[0m: : : : |\n",
      "|\u001b[32m \u001b[0m: :\u001b[32m \u001b[0m: :\u001b[43m\u001b[31;1mP\u001b[0m\u001b[0m|\n",
      "| : : : : |\n",
      "| : : : : |\n",
      "| : : : : |\n",
      "+---------+\n",
      "Taxi0-YELLOW: Fuel: inf, Location: (1,4), Collided: False\n",
      "Taxi1-RED: Fuel: inf, Location: (0,0), Collided: False\n",
      "Passenger1: Location: (0, 0), Destination: pickup only!\n",
      "Passenger2: Location: (1, 4), Destination: pickup only!\n",
      "Done: False, {'taxi_0': False, 'taxi_1': False, '__all__': False}\n",
      "Passengers Status's: [2, 2]\n",
      "+---------+\n",
      "|\u001b[41m\u001b[41;1m \u001b[0m\u001b[0m: : : : |\n",
      "|\u001b[32m \u001b[0m: :\u001b[32m \u001b[0m: :\u001b[43m\u001b[43;1m \u001b[0m\u001b[0m|\n",
      "| : : : : |\n",
      "| : : : : |\n",
      "| : : : : |\n",
      "+---------+\n",
      "Taxi0-YELLOW: Fuel: inf, Location: (1,4), Collided: False\n",
      "Taxi1-RED: Fuel: inf, Location: (0,0), Collided: False\n",
      "Passenger1: Location: Taxi2, Destination: pickup only!\n",
      "Passenger2: Location: Taxi1, Destination: pickup only!\n",
      "Done: True, {'taxi_0': True, 'taxi_1': True, '__all__': True}\n",
      "Passengers Status's: [4, 3]\n"
     ]
    }
   ],
   "source": [
    "# load agents and create controller\n",
    "load_agent = True\n",
    "if load_agent:\n",
    "    kwargs['chkpt_dir'] = './tmp/2022_06_13__12_15_53_x'  # path to experiment directory\n",
    "    rl_agents = {}\n",
    "    for agent_id in taxi_env.get_env_agents():\n",
    "        rl_agents[agent_id] = create_decentralized_agent(kwargs['algo'], taxi_env, agent_id, kwargs, load_agent=load_agent)\n",
    "    decentralized_rl_controller = DecentralizedRlController(env=taxi_env, agents=rl_agents)\n",
    "    eval_total_rewards = decentralized_rl_controller.evaluate(render=False, max_iteration=100, max_episode=100)\n",
    "    plot_multi_taxi_learning_curve(eval_total_rewards)\n",
    "\n",
    "# evaluate\n",
    "eval_total_rewards = decentralized_rl_controller.evaluate(render=True, max_iteration=10, max_episode=1)"
   ]
  },
  {
   "cell_type": "markdown",
   "id": "1522c134-b83e-4a8e-82f2-cf1d06f1745a",
   "metadata": {},
   "source": [
    "## Centralized Reinfrocement Learning Controller\n",
    "\n",
    "The implementation's architecture is depicted in the diagram below, where the end result is a `CentralizedRLController` which is MAC complatible  \n",
    "\n",
    "![](assets/centralized_rl_controller_inheritance.drawio.png)\n",
    "\n",
    "The `train()` function of the centralized RL controller class also has a few important aspects it is worth talk about, here is its skeleton\n",
    "\n",
    "```python\n",
    "def train(self, render=False, max_iteration=None, max_episode=1):\n",
    "    ...\n",
    "    for episode in tqdm(range(max_episode)):\n",
    "        ...\n",
    "        decomposed_done = {self.agent_name: False}\n",
    "        observation = self.env.get_env().reset()\n",
    "\n",
    "        while not decomposed_done[self.agent_name]:\n",
    "            ...\n",
    "\n",
    "            # decompose the observation\n",
    "            decomposed_observation = self.decompose_observation(observation)\n",
    "\n",
    "            # get the central agent action\n",
    "            decomposed_action = self.get_training_joint_action(decomposed_observation)\n",
    "\n",
    "            # compute the action for each agent\n",
    "            joint_action = self.decode_action(decomposed_action)\n",
    "\n",
    "            # perform the joint action\n",
    "            observation_, reward, done, info = self.perform_joint_action(joint_action)\n",
    "\n",
    "            # decompose observation_ and reward\n",
    "            decomposed_observation_ = self.decompose_observation(observation_)\n",
    "            decomposed_reward = self.decompose_reward(reward)\n",
    "            decomposed_done[self.agent_name] = done['__all__']\n",
    "\n",
    "            # store the transition\n",
    "            self.store_decomposed_transition(decomposed_observation, decomposed_action, decomposed_reward,\n",
    "                                             decomposed_observation_, decomposed_done)\n",
    "            ...\n",
    "            # erform learning for the central agent\n",
    "            self.learn()\n",
    "\n",
    "            ...\n",
    "            # step the state forward\n",
    "            observation = observation_\n",
    "            ...\n",
    "    return stuff_for_analysis\n",
    "```\n",
    "\n",
    "__Notes:__\n",
    "- The `observation` received from the environment (observations) are decomposed into a high-dimensional single observation using the `decompose_observation()` function before transfered to the central-agent's `get_training_joint_action()` which retuns an action in a combined high-dimensional action-space.\n",
    "- Then, the central-agent's action is decoded with the `decode_action()` function into a `joint_action` that is later used for stepping the environment.\n",
    "- The new observations and rewards are also decomposed to high-dimensional spaces and then a decomposed transition is stored.\n",
    "- There are a lot of ways to decompose the rewards received from the environment to individual players into a single reward for a central agent, we used $$r_{decomposed}^{t}=\\sum_{i=1}^{\\text{#-individuals}}r_i^t$$ but one can also use the averaged reward or some other decomposition.\n",
    "\n",
    "- The learning process is happening at once, with no loop, because there is only one agent.\n",
    "\n"
   ]
  },
  {
   "cell_type": "markdown",
   "id": "dc6860ba-3b17-4c49-9458-7d78bd36594a",
   "metadata": {},
   "source": [
    "## Running a Centralized RL Controller for the Multi-Taxi Domain\n",
    "### Setting up the parameters"
   ]
  },
  {
   "cell_type": "code",
   "execution_count": 16,
   "id": "1d69661b-e40b-4b7e-84a4-67c959486fd0",
   "metadata": {},
   "outputs": [],
   "source": [
    "# multi_taxi parameters\n",
    "num_taxis = 2\n",
    "num_passengers = 2\n",
    "can_see_others = False\n",
    "domain_map = simple_MAP\n",
    "pickup_only = True\n",
    "\n",
    "# DQN parameters\n",
    "kwargs = {\n",
    "    'gamma': 0.99,\n",
    "    'epsilon': 1.0,\n",
    "    'lr': 1e-4,\n",
    "    'mem_size': 100000,\n",
    "    'batch_size': 8,\n",
    "    'eps_min': 0.01,\n",
    "    'eps_dec': 2e-5,\n",
    "    'replace': 4000,\n",
    "    'algo': 'dqn',\n",
    "    'env_name': 'multi_taxi',\n",
    "    'chkpt_dir': './'\n",
    "}\n",
    "\n",
    "# controller parameters\n",
    "max_iteration = 100\n",
    "max_episode = 300"
   ]
  },
  {
   "cell_type": "markdown",
   "id": "5d35757e-e594-45be-a759-31f9b12a9397",
   "metadata": {},
   "source": [
    "### Initialize the Multi Taxi environment"
   ]
  },
  {
   "cell_type": "code",
   "execution_count": 17,
   "id": "58ee1096-5353-499e-b38e-ad3f69b0dde0",
   "metadata": {},
   "outputs": [
    {
     "name": "stdout",
     "output_type": "stream",
     "text": [
      "+---------+\n",
      "| : : : : |\n",
      "| :\u001b[32m \u001b[0m: : : |\n",
      "|\u001b[43m_\u001b[0m: : : : |\n",
      "| : : : : |\n",
      "|\u001b[31;1mP\u001b[0m:\u001b[32m \u001b[0m:\u001b[33;1mP\u001b[0m: :\u001b[41m_\u001b[0m|\n",
      "+---------+\n",
      "Taxi0-YELLOW: Fuel: inf, Location: (2,0), Collided: False\n",
      "Taxi1-RED: Fuel: inf, Location: (4,4), Collided: False\n",
      "Passenger1: Location: (4, 2), Destination: pickup only!\n",
      "Passenger2: Location: (4, 0), Destination: pickup only!\n",
      "Done: False, {'taxi_0': False, 'taxi_1': False, '__all__': False}\n",
      "Passengers Status's: [2, 2]\n"
     ]
    }
   ],
   "source": [
    "# setting up the environment\n",
    "taxi_env = MultiTaxiEnv(num_taxis=num_taxis, num_passengers=num_passengers, can_see_others=can_see_others,\n",
    "                        domain_map=domain_map, pickup_only=pickup_only)\n",
    "\n",
    "# wrap environment to be MAC compatible\n",
    "taxi_env = EnvWrappperMultiTaxi(taxi_env)\n",
    "\n",
    "# render\n",
    "taxi_env.render()"
   ]
  },
  {
   "cell_type": "markdown",
   "id": "d1371654-9962-44e2-88fb-ea41b03ab515",
   "metadata": {},
   "source": [
    "### Create the Controller and Train the Central-Agent"
   ]
  },
  {
   "cell_type": "code",
   "execution_count": 18,
   "id": "d8a9c835-543f-456b-9b18-f78b52096fc7",
   "metadata": {},
   "outputs": [
    {
     "name": "stderr",
     "output_type": "stream",
     "text": [
      "100%|█████████████████████████████████████████| 300/300 [00:59<00:00,  5.05it/s]\n"
     ]
    },
    {
     "data": {
      "image/png": "[encoded data removed]",
      "text/plain": [
       "<Figure size 936x504 with 2 Axes>"
      ]
     },
     "metadata": {
      "needs_background": "light"
     },
     "output_type": "display_data"
    }
   ],
   "source": [
    "# set up a dictionary of a single decision makers, one for all taxi\n",
    "central_rl_agent = {}\n",
    "agent_id = 'central_agent'\n",
    "central_rl_agent[agent_id] = create_centralized_agent(kwargs['algo'], taxi_env, agent_id, kwargs)\n",
    "\n",
    "# initialize a centralized controller\n",
    "centralized_rl_controller = CentralizedRlController(env=taxi_env, central_agent=central_rl_agent)\n",
    "\n",
    "# train\n",
    "total_reward, agent_epsilon = centralized_rl_controller.train(render=False, max_iteration=max_iteration,\n",
    "                                                              max_episode=max_episode)\n",
    "\n",
    "# plot training process results\n",
    "plot_multi_taxi_learning_curve(total_reward, agent_epsilon)\n",
    "\n"
   ]
  },
  {
   "cell_type": "markdown",
   "id": "26bc3b84-4fd1-4cc7-80e5-faebcdf75f01",
   "metadata": {},
   "source": [
    "### Learning Curve of a Successfully Trained Centralized Controller\n",
    "\n",
    "\n",
    "![](tmp/2022_06_13__13_06_42_x/learning_curve_2022_06_13__13_06_42.png)"
   ]
  },
  {
   "cell_type": "markdown",
   "id": "2e57e708-676e-4d51-98e9-3ffecb1e101a",
   "metadata": {},
   "source": [
    "### Evaluate the Controller with env.render()"
   ]
  },
  {
   "cell_type": "code",
   "execution_count": 19,
   "id": "e3ecbe09-d6f8-4a0d-bdfb-5d04f4431b2b",
   "metadata": {},
   "outputs": [
    {
     "name": "stdout",
     "output_type": "stream",
     "text": [
      "... initialize a centralized dqn agent for agent central_agent ...\n",
      "... loading checkpoint ...\n",
      "... loading checkpoint ...\n",
      "... load a centralized dqn agent for agent central_agent ...\n"
     ]
    },
    {
     "data": {
      "image/png": "[encoded data removed]",
      "text/plain": [
       "<Figure size 936x504 with 2 Axes>"
      ]
     },
     "metadata": {
      "needs_background": "light"
     },
     "output_type": "display_data"
    },
    {
     "name": "stdout",
     "output_type": "stream",
     "text": [
      "+---------+\n",
      "| : : :\u001b[32m \u001b[0m: |\n",
      "|\u001b[41m\u001b[31;1mP\u001b[0m\u001b[0m: :\u001b[43m_\u001b[0m: : |\n",
      "|\u001b[33;1mP\u001b[0m: : : : |\n",
      "| :\u001b[32m \u001b[0m: : : |\n",
      "| : : : : |\n",
      "+---------+\n",
      "Taxi0-YELLOW: Fuel: inf, Location: (1,2), Collided: False\n",
      "Taxi1-RED: Fuel: inf, Location: (1,0), Collided: False\n",
      "Passenger1: Location: (2, 0), Destination: pickup only!\n",
      "Passenger2: Location: (1, 0), Destination: pickup only!\n",
      "Done: False, {'taxi_0': False, 'taxi_1': False, '__all__': False}\n",
      "Passengers Status's: [2, 2]\n",
      "+---------+\n",
      "| : : :\u001b[32m \u001b[0m: |\n",
      "|\u001b[41m\u001b[41;1m \u001b[0m\u001b[0m: : : : |\n",
      "|\u001b[33;1mP\u001b[0m: :\u001b[43m_\u001b[0m: : |\n",
      "| :\u001b[32m \u001b[0m: : : |\n",
      "| : : : : |\n",
      "+---------+\n",
      "Taxi0-YELLOW: Fuel: inf, Location: (2,2), Collided: False\n",
      "Taxi1-RED: Fuel: inf, Location: (1,0), Collided: False\n",
      "Passenger1: Location: (2, 0), Destination: pickup only!\n",
      "Passenger2: Location: Taxi2, Destination: pickup only!\n",
      "Done: False, {'taxi_0': False, 'taxi_1': False, '__all__': False}\n",
      "Passengers Status's: [2, 4]\n",
      "+---------+\n",
      "| : : :\u001b[32m \u001b[0m: |\n",
      "|\u001b[41m\u001b[41;1m \u001b[0m\u001b[0m: : : : |\n",
      "|\u001b[33;1mP\u001b[0m:\u001b[43m_\u001b[0m: : : |\n",
      "| :\u001b[32m \u001b[0m: : : |\n",
      "| : : : : |\n",
      "+---------+\n",
      "Taxi0-YELLOW: Fuel: inf, Location: (2,1), Collided: False\n",
      "Taxi1-RED: Fuel: inf, Location: (1,0), Collided: False\n",
      "Passenger1: Location: (2, 0), Destination: pickup only!\n",
      "Passenger2: Location: Taxi2, Destination: pickup only!\n",
      "Done: False, {'taxi_0': False, 'taxi_1': False, '__all__': False}\n",
      "Passengers Status's: [2, 4]\n",
      "+---------+\n",
      "| : : :\u001b[32m \u001b[0m: |\n",
      "|\u001b[41m\u001b[41;1m \u001b[0m\u001b[0m: : : : |\n",
      "|\u001b[43m\u001b[33;1mP\u001b[0m\u001b[0m: : : : |\n",
      "| :\u001b[32m \u001b[0m: : : |\n",
      "| : : : : |\n",
      "+---------+\n",
      "Taxi0-YELLOW: Fuel: inf, Location: (2,0), Collided: False\n",
      "Taxi1-RED: Fuel: inf, Location: (1,0), Collided: False\n",
      "Passenger1: Location: (2, 0), Destination: pickup only!\n",
      "Passenger2: Location: Taxi2, Destination: pickup only!\n",
      "Done: False, {'taxi_0': False, 'taxi_1': False, '__all__': False}\n",
      "Passengers Status's: [2, 4]\n",
      "+---------+\n",
      "| : : :\u001b[32m \u001b[0m: |\n",
      "| :\u001b[41m\u001b[41;1m \u001b[0m\u001b[0m: : : |\n",
      "|\u001b[43m\u001b[43;1m \u001b[0m\u001b[0m: : : : |\n",
      "| :\u001b[32m \u001b[0m: : : |\n",
      "| : : : : |\n",
      "+---------+\n",
      "Taxi0-YELLOW: Fuel: inf, Location: (2,0), Collided: False\n",
      "Taxi1-RED: Fuel: inf, Location: (1,1), Collided: False\n",
      "Passenger1: Location: Taxi1, Destination: pickup only!\n",
      "Passenger2: Location: Taxi2, Destination: pickup only!\n",
      "Done: True, {'taxi_0': True, 'taxi_1': True, '__all__': True}\n",
      "Passengers Status's: [3, 4]\n"
     ]
    }
   ],
   "source": [
    "# load agents and create controller\n",
    "load_agent = True\n",
    "if load_agent:\n",
    "    kwargs['chkpt_dir'] = './tmp/2022_06_13__13_06_42_x'  # path to experiment directory\n",
    "    \n",
    "    kwargs['env_name'] = 'multi_taxi'\n",
    "    central_rl_agent = {}\n",
    "    agent_id = 'central_agent'\n",
    "    central_rl_agent[agent_id] = create_centralized_agent(kwargs['algo'], taxi_env, agent_id, kwargs, \n",
    "                                                          load_agent=load_agent)\n",
    "    centralized_rl_controller = CentralizedRlController(env=taxi_env, central_agent=central_rl_agent)\n",
    "    eval_total_rewards = centralized_rl_controller.evaluate(render=False, max_iteration=100, max_episode=100)\n",
    "    plot_multi_taxi_learning_curve(eval_total_rewards)\n",
    "\n",
    "# evaluate\n",
    "eval_total_rewards = centralized_rl_controller.evaluate(render=True, max_iteration=20, max_episode=1)"
   ]
  },
  {
   "cell_type": "markdown",
   "id": "df6c2718-c49c-4e2d-8193-1b7e982b33d3",
   "metadata": {},
   "source": [
    "## Speaker-Listener Domain"
   ]
  },
  {
   "cell_type": "markdown",
   "id": "c645e4a3-b6d3-4bc3-bbb5-5e334a9a9473",
   "metadata": {},
   "source": [
    "In this domain we use the __centralized and independent learners with DQN for discrete actions only__. For continous actions, we should use an algorithm which support them, i.e. from the policy gradient family.\n",
    "For this domain, we should add the following imports:"
   ]
  },
  {
   "cell_type": "code",
   "execution_count": 20,
   "id": "9834702c-5e3e-4fdb-a3f1-bad26875b5d5",
   "metadata": {},
   "outputs": [],
   "source": [
    "from pettingzoo.mpe import simple_speaker_listener_v3\n",
    "from pettingzoo.utils.wrappers import BaseParallelWraper\n",
    "from mac.environments.env_wrapper import EnvWrappper\n",
    "from src.utils_controller_ssl import (DecentralizedRlController, CentralizedRlController,\n",
    "                                  create_decentralized_agent, create_centralized_agent)"
   ]
  },
  {
   "cell_type": "markdown",
   "id": "ab1f727c-d72d-4caa-b311-d713dad09c4e",
   "metadata": {},
   "source": [
    "For the multi-agent control library to work with petting zoo, __We define a wrapper called EnvWrapperSSL__, in which we should define the methods 'step' and 'observation_to _dict'"
   ]
  },
  {
   "cell_type": "code",
   "execution_count": 21,
   "id": "bf76729b-10e6-4998-b592-78c4790ef64f",
   "metadata": {},
   "outputs": [],
   "source": [
    "class EnvWrapperSSL(EnvWrappper):\n",
    "        def __init__(self, env):\n",
    "\n",
    "            # get action space of each agent\n",
    "            action_spaces = {\n",
    "                agent_id: env.action_space(agent_id) for agent_id in env.possible_agents\n",
    "            }\n",
    "\n",
    "            # get observation space for each agent\n",
    "            observation_spaces = {\n",
    "                agent_id: env.observation_space(agent_id) for agent_id in env.possible_agents\n",
    "            }\n",
    "\n",
    "            super().__init__(env, env.possible_agents, observation_spaces, action_spaces)\n",
    "\n",
    "        def step(self, joint_action):\n",
    "            return self.env.step(joint_action)\n",
    "\n",
    "        def observation_to_dict(self, obs):\n",
    "            return obs\n",
    "        \n",
    "        def render(self):\n",
    "            return self.env.render()"
   ]
  },
  {
   "cell_type": "markdown",
   "id": "f8f2bb18-3c3a-46ae-bb0b-3cbda9b86e8e",
   "metadata": {},
   "source": [
    "We now pack our training and evaluation scripts in a function which can fit the new domain, and hopefully is even more general:"
   ]
  },
  {
   "cell_type": "code",
   "execution_count": 22,
   "id": "4df2845c-aff9-4420-b770-7eedfdc4eaff",
   "metadata": {},
   "outputs": [],
   "source": [
    "def train_and_eval(env, decentralized_control_simulation, network='dqn'):\n",
    "    # set up and run the controller\n",
    "    if decentralized_control_simulation:\n",
    "        # set up a dictionary of RL decision makers, one for each taxi\n",
    "        agents = {}\n",
    "        for agent_id in env.get_env_agents():\n",
    "            agents[agent_id] = create_decentralized_agent(network, env, agent_id, kwargs)\n",
    "\n",
    "        # initialize a decentralized controller\n",
    "        decentralized_rl_controller = DecentralizedRlController(env=env, agents=agents)\n",
    "\n",
    "        # train\n",
    "        total_rewards, agents_epsilons = decentralized_rl_controller.train(render=False, max_iteration=max_iteration,\n",
    "                                                                           max_episode=max_episode)\n",
    "\n",
    "        # plot training process results\n",
    "        #plot_multi_taxi_learning_curve(total_rewards, agents_epsilons, filename=filename)\n",
    "\n",
    "        # evaluate\n",
    "        #eval_total_rewards = decentralized_rl_controller.evaluate(render=True, max_iteration=10, max_episode=3)\n",
    "\n",
    "    else:\n",
    "        # set up a dictionary of a single decision makers, one for all taxi\n",
    "        central_agent = {}\n",
    "        agent_id = 'central_agent'\n",
    "        central_agent[agent_id] = create_centralized_agent(network, env, agent_id, kwargs)\n",
    "\n",
    "        # initialize a centralized controller\n",
    "        centralized_rl_controller = CentralizedRlController(env=env, central_agent=central_agent)\n",
    "\n",
    "        # train\n",
    "        total_reward, agent_epsilon = centralized_rl_controller.train(render=False, max_iteration=max_iteration,\n",
    "                                                                      max_episode=max_episode)\n",
    "\n",
    "        # plot training process results\n",
    "        #plot_multi_taxi_learning_curve(total_reward, agent_epsilon, filename=filename)\n",
    "\n",
    "        # evaluate\n",
    "        #eval_total_rewards = centralized_rl_controller.evaluate(render=True, max_iteration=10, max_episode=3)"
   ]
  },
  {
   "cell_type": "markdown",
   "id": "c1e6b27d-f790-43d9-816b-4eb0f718c8c2",
   "metadata": {},
   "source": [
    "Now we create the wrapped simple speaker listener environment:"
   ]
  },
  {
   "cell_type": "code",
   "execution_count": 23,
   "id": "2cfc234e-b389-4609-a62a-b3f1f8765691",
   "metadata": {},
   "outputs": [],
   "source": [
    "ssl_env = simple_speaker_listener_v3.parallel_env(max_cycles=5)\n",
    "ssl_env = EnvWrapperSSL(ssl_env)\n",
    "observations = ssl_env.get_env().reset()"
   ]
  },
  {
   "cell_type": "markdown",
   "id": "8e41ff7e-bec4-47eb-b61b-c870fbbaf1a4",
   "metadata": {},
   "source": [
    "And we run our function on the new enviroinment, one with the centralized training, and one with the decentralized one (each with its own parameters):"
   ]
  },
  {
   "cell_type": "code",
   "execution_count": 24,
   "id": "9e207113-c319-49d6-af91-93ff2589550a",
   "metadata": {},
   "outputs": [],
   "source": [
    "# DQN parameters\n",
    "kwargs = {\n",
    "    'gamma': 0.99,\n",
    "    'epsilon': 1.0,\n",
    "    'lr': 1e-4,\n",
    "    'mem_size': 100000,\n",
    "    'batch_size': 8,\n",
    "    'eps_min': 0.01,\n",
    "    'eps_dec': 2e-5,\n",
    "    'replace': 4000,\n",
    "    'algo': 'dqn',\n",
    "    'env_name': 'speaker_listener',\n",
    "    'chkpt_dir': './'\n",
    "}\n",
    "\n",
    "# controller parameters\n",
    "max_iteration = 100\n",
    "max_episode = 300"
   ]
  },
  {
   "cell_type": "code",
   "execution_count": 25,
   "id": "21e58d76-6f2b-4926-8099-bdb4e02245a0",
   "metadata": {},
   "outputs": [
    {
     "name": "stderr",
     "output_type": "stream",
     "text": [
      "100%|█████████████████████████████████████████| 300/300 [00:07<00:00, 42.50it/s]\n"
     ]
    }
   ],
   "source": [
    "train_and_eval(env=ssl_env, network='dqn', decentralized_control_simulation=True)"
   ]
  },
  {
   "cell_type": "code",
   "execution_count": 26,
   "id": "1b37bfd7-3079-48a7-9e8d-f46955e4f3bb",
   "metadata": {},
   "outputs": [],
   "source": [
    "# DQN parameters\n",
    "kwargs = {\n",
    "    'gamma': 0.99,\n",
    "    'epsilon': 1.0,\n",
    "    'lr': 1e-4,\n",
    "    'mem_size': 100000,\n",
    "    'batch_size': 8,\n",
    "    'eps_min': 0.01,\n",
    "    'eps_dec': 2e-5,\n",
    "    'replace': 4000,\n",
    "    'algo': 'dqn',\n",
    "    'env_name': 'speaker_listener',\n",
    "    'chkpt_dir': './'\n",
    "}\n",
    "\n",
    "# controller parameters\n",
    "max_iteration = 100\n",
    "max_episode = 300"
   ]
  },
  {
   "cell_type": "code",
   "execution_count": 27,
   "id": "dd4e62c3-9cb7-42f1-80f3-f1d45df41669",
   "metadata": {},
   "outputs": [
    {
     "name": "stderr",
     "output_type": "stream",
     "text": [
      "100%|█████████████████████████████████████████| 300/300 [00:04<00:00, 60.28it/s]\n"
     ]
    }
   ],
   "source": [
    "train_and_eval(env=ssl_env, network='dqn', decentralized_control_simulation=False)"
   ]
  }
 ],
 "metadata": {
  "kernelspec": {
   "display_name": "Python 3 (ipykernel)",
   "language": "python",
   "name": "python3"
  },
  "language_info": {
   "codemirror_mode": {
    "name": "ipython",
    "version": 3
   },
   "file_extension": ".py",
   "mimetype": "text/x-python",
   "name": "python",
   "nbconvert_exporter": "python",
   "pygments_lexer": "ipython3",
   "version": "3.8.13"
  }
 },
 "nbformat": 4,
 "nbformat_minor": 5
}
