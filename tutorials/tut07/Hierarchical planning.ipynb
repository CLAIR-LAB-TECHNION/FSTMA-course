{
 "cells": [
  {
   "cell_type": "code",
   "execution_count": 1,
   "id": "df398cc4-4432-4037-a702-796a33b772c9",
   "metadata": {
    "slideshow": {
     "slide_type": "skip"
    }
   },
   "outputs": [
    {
     "name": "stderr",
     "output_type": "stream",
     "text": [
      "\n"
     ]
    },
    {
     "name": "stdout",
     "output_type": "stream",
     "text": [
      "\n",
      "Imported GTPyhop version 1.0.\n",
      "Messages from find_plan will be prefaced with 'FP>'.\n",
      "Messages from run_lazy_lookahead will be prefaced with 'RLL>'.\n"
     ]
    }
   ],
   "source": [
    "from multi_taxi import MultiTaxiEnv\n",
    "import GTPyhop\n",
    "from copy import deepcopy\n",
    "from functools import partial\n",
    "from IPython.display import display, clear_output\n",
    "import time"
   ]
  },
  {
   "cell_type": "markdown",
   "id": "a908003a",
   "metadata": {
    "slideshow": {
     "slide_type": "slide"
    }
   },
   "source": [
    "# Heirarchical Planning tutorial"
   ]
  },
  {
   "cell_type": "markdown",
   "id": "87b309f1",
   "metadata": {
    "slideshow": {
     "slide_type": "slide"
    }
   },
   "source": [
    "### Note on presenting with RISE"
   ]
  },
  {
   "cell_type": "markdown",
   "id": "c4b61878",
   "metadata": {
    "lines_to_next_cell": 2,
    "slideshow": {
     "slide_type": "fragment"
    }
   },
   "source": [
    "References\n",
    "* Notebook created by Yonatan Medan 2022\n",
    "* Heirarchical planning algorithm based on http://www.cs.umd.edu/~nau/papers/nau2021gtpyhop.pdf by Dana Nau et al\n",
    "* Using [GTPyhop](https://github.com/dananau/GTPyhop) as an engine for heirarchical planning search"
   ]
  },
  {
   "cell_type": "markdown",
   "id": "48a48f44",
   "metadata": {
    "slideshow": {
     "slide_type": "slide"
    }
   },
   "source": [
    "### The environmet definition"
   ]
  },
  {
   "cell_type": "code",
   "execution_count": 2,
   "id": "3db07ea5-3a79-4994-a815-6a526c1cdcc8",
   "metadata": {
    "slideshow": {
     "slide_type": "-"
    }
   },
   "outputs": [],
   "source": [
    "env_args = dict(num_taxis=1,                    # 1 taxi agents in the environment\n",
    "                num_passengers=3,             # 3 passengers in the environment\n",
    "                max_fuel = [30],      # taxi1 has a capacity of 30 fuel units\n",
    "                taxis_capacity=[3],          # taxi1 has a capacity of 3 passangers\n",
    "                option_to_stand_by=False,      \n",
    "                observation_type='symbolic',  # accepting symbolic (vector) observations\n",
    "                can_see_others=False)"
   ]
  },
  {
   "cell_type": "markdown",
   "id": "8872d2d0-f09f-4187-96f6-3c333865cb77",
   "metadata": {
    "slideshow": {
     "slide_type": "slide"
    }
   },
   "source": [
    "## Calculating (roughly) the env state space"
   ]
  },
  {
   "cell_type": "code",
   "execution_count": 3,
   "id": "2dfc2666-7924-4e71-bd82-76c2def435bb",
   "metadata": {
    "slideshow": {
     "slide_type": "fragment"
    }
   },
   "outputs": [],
   "source": [
    "NUMBER_OF_ROWS = 7\n",
    "NUMBER_OF_COLS = 12\n",
    "TAXI_POSITIONS = NUMBER_OF_ROWS*NUMBER_OF_COLS\n",
    "FUEL_LEVEL = 30\n",
    "ONE_PASSANGER_POSITION = NUMBER_OF_ROWS*NUMBER_OF_COLS\n",
    "NUMBER_OF_PASSANGERS = 3\n",
    "PASSANGER_STATE = 3\n",
    "ONE_PASSANGER_DESTINATION = NUMBER_OF_ROWS*NUMBER_OF_COLS"
   ]
  },
  {
   "cell_type": "code",
   "execution_count": 4,
   "id": "04586640-3ba8-4214-b63f-6d04e392f802",
   "metadata": {
    "slideshow": {
     "slide_type": "fragment"
    }
   },
   "outputs": [],
   "source": [
    "TAXI_STATE_SPACE = TAXI_POSITIONS*FUEL_LEVEL*\\\n",
    "                   ONE_PASSANGER_POSITION*NUMBER_OF_PASSANGERS*\\\n",
    "                   PASSANGER_STATE*NUMBER_OF_PASSANGERS*\\\n",
    "                   ONE_PASSANGER_DESTINATION*NUMBER_OF_PASSANGERS"
   ]
  },
  {
   "cell_type": "code",
   "execution_count": 5,
   "id": "a5a1c2ee-e4fc-4cfa-b75c-8586a2971f8c",
   "metadata": {
    "slideshow": {
     "slide_type": "fragment"
    }
   },
   "outputs": [
    {
     "data": {
      "text/plain": [
       "1440270720"
      ]
     },
     "execution_count": 5,
     "metadata": {},
     "output_type": "execute_result"
    }
   ],
   "source": [
    "TAXI_STATE_SPACE"
   ]
  },
  {
   "cell_type": "markdown",
   "id": "6c5d75c2-606d-47b4-bfb6-c0dd42b8956d",
   "metadata": {
    "slideshow": {
     "slide_type": "slide"
    }
   },
   "source": [
    "# 1,440,270,720 posible states (ROUGHLY)"
   ]
  },
  {
   "cell_type": "markdown",
   "id": "0593a050",
   "metadata": {
    "slideshow": {
     "slide_type": "skip"
    }
   },
   "source": [
    " As seen above the environment state space is very big and making it hard to solve the environment using regular approches"
   ]
  },
  {
   "cell_type": "code",
   "execution_count": 6,
   "id": "ef9a0cac",
   "metadata": {
    "lines_to_next_cell": 2,
    "slideshow": {
     "slide_type": "skip"
    }
   },
   "outputs": [],
   "source": [
    "env_instance = MultiTaxiEnv(**env_args)         # cannot see other taxis (but also not collision sensitive)"
   ]
  },
  {
   "cell_type": "markdown",
   "id": "32f4bdea",
   "metadata": {
    "slideshow": {
     "slide_type": "slide"
    }
   },
   "source": [
    "## Action space"
   ]
  },
  {
   "cell_type": "code",
   "execution_count": 7,
   "id": "88736248-0b12-4b2a-bfe6-9df1ffc6e69c",
   "metadata": {
    "slideshow": {
     "slide_type": "-"
    },
    "tags": []
   },
   "outputs": [],
   "source": [
    "#### actions\n",
    "SOUTH = \"south\"\n",
    "NORTH = \"north\"\n",
    "EAST = \"east\"\n",
    "WEST = \"west\"\n",
    "PICKUP = \"pickup\"\n",
    "DROP_OFF_0 = \"dropoff0\"\n",
    "DROP_OFF_1 = \"dropoff1\"\n",
    "DROP_OFF_2 = \"dropoff2\"\n",
    "DROP_OFF = [DROP_OFF_0, DROP_OFF_1, DROP_OFF_2]\n",
    "# TURN_ENGINE_ON = \"turn_engine_on\"\n",
    "# TURN_ENGINE_OFF = \"turn_engine_off\"\n",
    "# STANDBY = \"standby\"\n",
    "REFUEL = \"refuel\""
   ]
  },
  {
   "cell_type": "markdown",
   "id": "917058ab",
   "metadata": {
    "slideshow": {
     "slide_type": "slide"
    }
   },
   "source": [
    "### How can we use heirarchy to lower the search complexity?"
   ]
  },
  {
   "cell_type": "markdown",
   "id": "ff53fb2a",
   "metadata": {
    "slideshow": {
     "slide_type": "skip"
    }
   },
   "source": [
    "At a heigh level a taxi driver can do one of the actions below:\n",
    " * Pickup a passange\n",
    " * Drop Passanger\n",
    " * Fuel The taxi\n"
   ]
  },
  {
   "cell_type": "markdown",
   "id": "fe56e629",
   "metadata": {
    "slideshow": {
     "slide_type": "slide"
    }
   },
   "source": [
    "<img src=\"img/RL_tutorial_multiTaxi_be_taxi.png\" width=\"900\">"
   ]
  },
  {
   "cell_type": "markdown",
   "id": "36f045e3",
   "metadata": {
    "slideshow": {
     "slide_type": "skip"
    }
   },
   "source": [
    "Going one level deeper Picking up a passanger can be broken in to 3 sub methods:\n",
    " * pickup passanger 1\n",
    " * pickup passanger 2\n",
    " * pickup passanger 3"
   ]
  },
  {
   "cell_type": "markdown",
   "id": "445a7698",
   "metadata": {
    "slideshow": {
     "slide_type": "slide"
    }
   },
   "source": [
    "<img src = \"img/RL_tutorial_multiTaxi_pickup_pass.png\" width=\"900\">\n"
   ]
  },
  {
   "cell_type": "markdown",
   "id": "d4619f95",
   "metadata": {
    "slideshow": {
     "slide_type": "skip"
    }
   },
   "source": [
    "Picking up a passanger 1 can be broken into 2 task preforemed one after the other:\n",
    " * Drive to passnager 1 location\n",
    " * pickup passanger\n",
    " \n",
    "notice how picking up the passanger is a low level action which can be preforemed on the environment."
   ]
  },
  {
   "cell_type": "markdown",
   "id": "1f6706b6",
   "metadata": {
    "slideshow": {
     "slide_type": "slide"
    }
   },
   "source": [
    "<img src=\"img/RL_tutorial_multiTaxi_pickup_pass_1.png\" width=\"900\">"
   ]
  },
  {
   "cell_type": "markdown",
   "id": "b3cf9b61",
   "metadata": {
    "slideshow": {
     "slide_type": "skip"
    }
   },
   "source": [
    "Drive to method can be broken down in a recoursive way:\n",
    "* try to drive east then apply method Drive to from the new location\n",
    "* try to drive north then apply method Drive to from the new location\n",
    "* try to drive west then apply method Drive to from the new location\n",
    "* try to drive south then apply method Drive to from the new location\n",
    "\n",
    "Notice this traverses the Graph in an DFS way.\n"
   ]
  },
  {
   "cell_type": "markdown",
   "id": "79bc946a",
   "metadata": {
    "slideshow": {
     "slide_type": "slide"
    }
   },
   "source": [
    "<img src=\"img/RL_tutorial_multiTaxi_drive_to.png\" width=\"900\">"
   ]
  },
  {
   "cell_type": "markdown",
   "id": "7119a6ba",
   "metadata": {
    "slideshow": {
     "slide_type": "slide"
    }
   },
   "source": [
    "<img src=\"img/RL_tutorial_multiTaxi_drive_to_starting.png\" width=\"850\">"
   ]
  },
  {
   "cell_type": "markdown",
   "id": "0e5e825b",
   "metadata": {
    "slideshow": {
     "slide_type": "skip"
    }
   },
   "source": [
    "### Pseudo Code translated from the paper. \n",
    "Go through the code and notice the following:\n",
    " * If we only use actions and one heirarchy e.g Be a taxi drive methods are the raw actions. this code boils to regular DFS.\n",
    " * The magic happends in refine_task_and_continue\n",
    "     * we can look at each method of the task as an high level action\n",
    "     * each method is applied to state to get all of its subtasks.\n",
    "     * subtasks are prepended instead of the heigher level task.\n",
    "     * we apply the recursive seek apply function of the new refined list of tasks.\n",
    "     "
   ]
  },
  {
   "cell_type": "code",
   "execution_count": 8,
   "id": "d2160bf2-bce7-4c95-8daf-43dcdd6cfd33",
   "metadata": {
    "slideshow": {
     "slide_type": "slide"
    }
   },
   "outputs": [],
   "source": [
    "def plan(state, tasks):\n",
    "    return seek_plan(state, tasks, [])"
   ]
  },
  {
   "cell_type": "code",
   "execution_count": 9,
   "id": "93b501a7-9164-45e7-a842-05ecf2bced7e",
   "metadata": {
    "slideshow": {
     "slide_type": "slide"
    }
   },
   "outputs": [],
   "source": [
    "# This planner tries to finish all tasks and return a plan to do so.\n",
    "def seek_plan(state, tasks, plan):\n",
    "    if len(tasks) == 0:\n",
    "        return plan # Finished all task hurray!!! return the plan\n",
    "    first_task = tasks[0] \n",
    "    the_rest_of_the_tasks = tasks[1:]\n",
    "    \n",
    "    if is_action(first_task):\n",
    "        return apply_action_and_continue(state, first_task, the_rest_of_the_tasks, plan)\n",
    "    \n",
    "    if is_high_level_task(first_task):\n",
    "        return refine_task_and_continue(state, first_task, the_rest_of_the_tasks, plan)"
   ]
  },
  {
   "cell_type": "code",
   "execution_count": 10,
   "id": "744620f1-6de3-488e-a5c4-e27b97e87beb",
   "metadata": {
    "slideshow": {
     "slide_type": "slide"
    }
   },
   "outputs": [],
   "source": [
    "def apply_action_and_continue(state,action,remaining_tasks, plan):\n",
    "    if can_do_action(state, action):\n",
    "        next_state = preform_action(state, action)\n",
    "        return seek_plan(next_state, remaining_tasks, plan+[action])\n",
    "    else:\n",
    "        return FAIL"
   ]
  },
  {
   "cell_type": "code",
   "execution_count": 11,
   "id": "58cbd4ed",
   "metadata": {
    "slideshow": {
     "slide_type": "slide"
    }
   },
   "outputs": [],
   "source": [
    "def refine_task_and_continue(state, first_task, remaining_tasks, plan):\n",
    "    # each task can have several methods. we try them one by one in a DFS manner\n",
    "    for task_method in first_task.get_methods():# get all methods (heigher level actions) that are aplicable for this task.\n",
    "        sub_tasks = task_methods(state) # get a list of sub task from the heigher level task\n",
    "        plan = seek_plan(state, sub_tasks + remaining_tasks, plan) # recursivly call seek_plan with the refined tasks\n",
    "        if plan is not FAIL:# this fails if planner was not able to apply sub_tasks\n",
    "            return plan\n",
    "    return FAIL # all methods failed "
   ]
  },
  {
   "cell_type": "markdown",
   "id": "316660d5",
   "metadata": {
    "slideshow": {
     "slide_type": "skip"
    }
   },
   "source": [
    "### Define helper class to parse the passanger state"
   ]
  },
  {
   "cell_type": "code",
   "execution_count": 12,
   "id": "c2e8eb4d-dbf3-436a-9865-702642f7cbfa",
   "metadata": {
    "lines_to_next_cell": 2,
    "slideshow": {
     "slide_type": "skip"
    },
    "tags": []
   },
   "outputs": [],
   "source": [
    "class PassengerState:\n",
    "    def __init__(self,location,destination,state):\n",
    "        self.row= location[0]\n",
    "        self.col = location[1]\n",
    "        self.dest_row = destination[0]\n",
    "        self.dest_col = destination[1]\n",
    "        self.is_arrived = True if state == 1 else False\n",
    "        self.is_on_taxi = True if state == 3 else False\n",
    "        self.is_waiting_for_taxi = True if state == 2 else False\n",
    "        \n",
    "    def __str__(self):\n",
    "        return str(self.__dict__)\n",
    "    \n",
    "    def __repr__(self):\n",
    "        return str(self.__dict__)\n",
    "    \n",
    "        \n",
    "    \n"
   ]
  },
  {
   "cell_type": "markdown",
   "id": "b58c9ccb",
   "metadata": {
    "slideshow": {
     "slide_type": "skip"
    }
   },
   "source": [
    "### Define a helper class which simplified working with the environment in a planning pradigm\n",
    "To plan using an environment we need to be able to get the succesor function (transition function) and reset the environment to traverse and backtrace on the search graph.\n",
    "this class helps achiving this by exposing the following importent methods:\n",
    "* get_state() get the state of the environment\n",
    "* set_state(state) updates the environment to a given state.\n",
    "* can_do_action_from_state(state, action) check an action can be applied from a certien states\n",
    "* etc\n"
   ]
  },
  {
   "cell_type": "code",
   "execution_count": 13,
   "id": "fcc998ff-5fe8-41f5-93d9-81fe911becee",
   "metadata": {
    "jupyter": {
     "source_hidden": true
    },
    "slideshow": {
     "slide_type": "skip"
    },
    "tags": []
   },
   "outputs": [],
   "source": [
    "class TaxiProblem:\n",
    "    def __init__(self,env):\n",
    "        self. env = env\n",
    "        self.visited_locations = set()\n",
    "        \n",
    "    def get_state(self):\n",
    "        return deepcopy(self.env.state)\n",
    "\n",
    "    def set_state(self,state):\n",
    "        self.env.reset()\n",
    "        self.env.state = deepcopy(state)\n",
    "        \n",
    "    @classmethod\n",
    "    def is_state_equal(cls, state1, state2):\n",
    "        return state1 == state2\n",
    "    \n",
    "    def get_action(self,action_str):\n",
    "        return {\"taxi_0\":self.env.action_index_dictionary[action_str]}\n",
    "    \n",
    "    def step(self, action_str):\n",
    "        return self.env.step(self.get_action(action_str))\n",
    "        \n",
    "    \n",
    "    def can_do_action_from_state(self, state, action_str):\n",
    "        action = self.get_action(action_str)\n",
    "        # save current state\n",
    "        old_state = self.get_state()\n",
    "        self.set_state(state)\n",
    "        self.env.step(action)\n",
    "        new_state = self.get_state()\n",
    "    \n",
    "        #go back to previews_state\n",
    "        self.set_state(old_state)\n",
    "        if TaxiProblem.is_state_equal(state, new_state):\n",
    "            return False\n",
    "        else:\n",
    "            return True\n",
    "        \n",
    "    def apply_action_from_state(self,state, action_str):\n",
    "        # save current state\n",
    "        old_state = self.get_state()\n",
    "        \n",
    "        self.set_state(state)\n",
    "        self.step(action_str)\n",
    "        new_state = self.get_state()\n",
    "        \n",
    "        #go back to previews_state s\n",
    "        self.set_state(old_state)\n",
    "        return new_state\n",
    "        \n",
    "    @classmethod\n",
    "    def get_taxi_position(cls, state):\n",
    "        return state[0][0]\n",
    "    \n",
    "    @classmethod\n",
    "    def get_taxi_feul(cls,state):\n",
    "        return state[1][0]\n",
    "    \n",
    "    @classmethod\n",
    "    def get_passengers_data(cls,state):\n",
    "        taxi_locations,taxis_fuel, passenger_location,passenger_dest, passenger_state = state\n",
    "        return [PassengerState(passenger_location[i],passenger_dest[i], passenger_state[i]) for i in range(3)]\n",
    "    \n",
    "    def reset_visited_location(self):\n",
    "        self.visited_locations = set()\n",
    "        \n",
    "    def add_location_to_visited_locations(self,coordinate):\n",
    "        self.visited_locations.add(tuple(coordinate))\n",
    "\n",
    "    def remove_location_from_visited(self,coordinate):\n",
    "        self.visited_locations.discard(tuple(coordinate))\n",
    "        \n",
    "    def taxi_has_visited(self, coordinate):\n",
    "        return tuple(coordinate) in self.visited_locations\n",
    "    \n",
    "    def get_available_driving_directions(self, state):\n",
    "        directions = [SOUTH,WEST,EAST,NORTH]\n",
    "        return [direction for direction in directions if self.can_do_action_from_state(state, direction)]\n",
    "        \n",
    "    def get_infinite_fuel_driving_succesors(self, state):\n",
    "        ## change full to max\n",
    "        state_copy = deepcopy(state)\n",
    "        state_copy[1][0] = 30\n",
    "        return [(self.apply_action_from_state(state_copy,action), action) for action in self.get_available_driving_directions(state_copy)]"
   ]
  },
  {
   "cell_type": "code",
   "execution_count": 14,
   "id": "50c5ad13-4330-4d94-ad45-0c765b074584",
   "metadata": {
    "slideshow": {
     "slide_type": "slide"
    }
   },
   "outputs": [],
   "source": [
    "taxiP = TaxiProblem(env_instance) "
   ]
  },
  {
   "cell_type": "markdown",
   "id": "98df536b",
   "metadata": {
    "slideshow": {
     "slide_type": "skip"
    }
   },
   "source": [
    "### A look at the environment\n",
    " * The yellow rectengle represents the taxi location.\n",
    " * P represents the location of a passanger.\n",
    " * D reprsents a the destination of the passanger with the same color.\n",
    " * F represents a Fuel station.\n",
    " * G represents a Gas station. not used in this setting.\n",
    " "
   ]
  },
  {
   "cell_type": "code",
   "execution_count": 15,
   "id": "844aec55-ab92-4a26-805f-3baac56d9db9",
   "metadata": {
    "slideshow": {
     "slide_type": "slide"
    }
   },
   "outputs": [
    {
     "name": "stdout",
     "output_type": "stream",
     "text": [
      "+-----------------------+\n",
      "| : |F: | : | :\u001b[32m\u001b[31;1mD\u001b[0m\u001b[0m| : |F: |\n",
      "| : | : : : | : | : | : |\n",
      "| : : : : : : : : : : :\u001b[32m\u001b[37;1mD\u001b[0m\u001b[0m|\n",
      "|\u001b[31;1mP\u001b[0m: : : : : | : : : : : |\n",
      "| : : : : : | : : : : : |\n",
      "| : : : : : : :\u001b[37;1mP\u001b[0m: : : : |\n",
      "| |\u001b[32m\u001b[33;1mD\u001b[0m\u001b[0m:G| | |\u001b[43m_\u001b[0m:G| | | :\u001b[33;1mP\u001b[0m| |\n",
      "+-----------------------+\n",
      "Taxi0-YELLOW: Fuel: 30, Location: (6,5), Collided: False\n",
      "Passenger1: Location: (6, 10), Destination: (6, 1)\n",
      "Passenger2: Location: (3, 0), Destination: (0, 7)\n",
      "Passenger3: Location: (5, 7), Destination: (2, 11)\n",
      "Done: False, {'taxi_0': False, '__all__': False}\n",
      "Passengers Status's: [2, 2, 2]\n"
     ]
    }
   ],
   "source": [
    "# env_instance.step(taxiP.get_action(REFUEL))\n",
    "env_instance.render()"
   ]
  },
  {
   "cell_type": "markdown",
   "id": "60f52d02-10a2-4170-a475-96f43a311f9b",
   "metadata": {
    "slideshow": {
     "slide_type": "slide"
    }
   },
   "source": [
    "### Actions"
   ]
  },
  {
   "cell_type": "markdown",
   "id": "5c5dcba0",
   "metadata": {
    "slideshow": {
     "slide_type": "skip"
    }
   },
   "source": [
    "In this section we define the raw actions which can be applied to the environment<br>\n",
    "Each action can be broken in to 2 steps \n",
    "1. Precondition - checks if the action is applicable in the given state\n",
    "2. Appling the action\n",
    "\n",
    "We define 4 actions\n",
    "1. drive\n",
    "2. drop_passanger\n",
    "3. pickup\n",
    "4. refuel"
   ]
  },
  {
   "cell_type": "code",
   "execution_count": 16,
   "id": "48c85991-4a0c-43dd-afa5-5cb4921463cd",
   "metadata": {
    "slideshow": {
     "slide_type": "fragment"
    }
   },
   "outputs": [],
   "source": [
    "## defining actions\n",
    "def drive(state, direction, problem):\n",
    "    # Pre-condition\n",
    "    if TaxiProblem.get_taxi_feul(state)>0 and problem.can_do_action_from_state(state,direction):\n",
    "        # apply action\n",
    "        new_state = problem.apply_action_from_state(state, direction)\n",
    "        return new_state"
   ]
  },
  {
   "cell_type": "code",
   "execution_count": 17,
   "id": "cca7a47b",
   "metadata": {
    "slideshow": {
     "slide_type": "fragment"
    }
   },
   "outputs": [],
   "source": [
    "## defining actions\n",
    "def drop_passanger(state, pass_number, problem):\n",
    "    passanger_data = TaxiProblem.get_passengers_data(state)[pass_number]\n",
    "    # Pre-condition\n",
    "    if passanger_data.is_on_taxi and [passanger_data.dest_row, passanger_data.dest_col] == TaxiProblem.get_taxi_position(state):\n",
    "        new_state = problem.apply_action_from_state(state, DROP_OFF[pass_number])\n",
    "        return new_state"
   ]
  },
  {
   "cell_type": "code",
   "execution_count": 18,
   "id": "6c20a459-8fe3-411b-89aa-add46043819f",
   "metadata": {
    "slideshow": {
     "slide_type": "subslide"
    }
   },
   "outputs": [],
   "source": [
    "def pickup(state, problem):\n",
    "    if problem.can_do_action_from_state(state,PICKUP):\n",
    "        new_state = problem.apply_action_from_state(state, PICKUP)\n",
    "        return new_state\n",
    "    \n",
    "def refuel(state, problem):\n",
    "    if problem.can_do_action_from_state(state, REFUEL):\n",
    "        new_state = problem.apply_action_from_state(state, REFUEL)\n",
    "        return new_state"
   ]
  },
  {
   "cell_type": "code",
   "execution_count": 19,
   "id": "64cb30bb-fb0b-4af5-b717-ef5f216697f3",
   "metadata": {
    "lines_to_next_cell": 0,
    "slideshow": {
     "slide_type": "fragment"
    }
   },
   "outputs": [],
   "source": [
    "def define_actions():\n",
    "    GTPyhop.declare_actions(drive, drop_passanger, pickup, refuel)"
   ]
  },
  {
   "cell_type": "markdown",
   "id": "541d7f69-4780-4188-9c20-abd3d9991636",
   "metadata": {
    "slideshow": {
     "slide_type": "slide"
    }
   },
   "source": [
    "### Methods"
   ]
  },
  {
   "cell_type": "markdown",
   "id": "163c906b",
   "metadata": {
    "slideshow": {
     "slide_type": "skip"
    }
   },
   "source": [
    "In this section we are defining methods.<br>\n",
    " * A method is a high level action which returns a subset of task to be applied.<br>\n",
    " * A task can have several methods of achiving the task.<br>\n",
    "\n",
    "\n",
    "Here we only define the drive_to task. drive_to has 4 sub methods as explained near the drive_to illustration above"
   ]
  },
  {
   "cell_type": "code",
   "execution_count": 20,
   "id": "bae19a33-3e1e-4fd2-96d6-6ea0141d43d6",
   "metadata": {
    "slideshow": {
     "slide_type": "fragment"
    }
   },
   "outputs": [],
   "source": [
    "def define_methods_v1():\n",
    "    drive_to_methods = [partial(drive_to_starting_direction, direction=direction) for direction in [SOUTH,WEST,NORTH,EAST]]\n",
    "    GTPyhop.declare_task_methods(\"drive_to\", *drive_to_methods)"
   ]
  },
  {
   "cell_type": "code",
   "execution_count": 21,
   "id": "39fc6b88-679a-4ae3-9bc6-f01b3f1cab10",
   "metadata": {
    "slideshow": {
     "slide_type": "fragment"
    }
   },
   "outputs": [],
   "source": [
    "def drive_to_starting_direction(state, coordinate, problem, direction):\n",
    "    #Pre conditions\n",
    "    if TaxiProblem.get_taxi_position(state) == coordinate:\n",
    "        return [] # we got to the location no need to do anything\n",
    "    else:\n",
    "        return [(\"drive\", direction, problem), (\"drive_to\", coordinate, problem)]"
   ]
  },
  {
   "cell_type": "code",
   "execution_count": 22,
   "id": "a38871a5-6cc0-46b1-bafd-e7353ba732ae",
   "metadata": {
    "slideshow": {
     "slide_type": "skip"
    }
   },
   "outputs": [],
   "source": [
    "GTPyhop.verbose = 0"
   ]
  },
  {
   "cell_type": "code",
   "execution_count": 23,
   "id": "a33640fb",
   "metadata": {
    "slideshow": {
     "slide_type": "skip"
    },
    "tags": []
   },
   "outputs": [],
   "source": [
    "def run_plan(state,plan,action_dict,problem):\n",
    "    new_state = deepcopy(state)\n",
    "    problem.set_state(state)\n",
    "    problem.env.render()\n",
    "    for action in plan:\n",
    "        time.sleep(0.25)\n",
    "        new_state = action_dict[action[0]](new_state,*action[1:])\n",
    "        problem.set_state(new_state)\n",
    "        clear_output(wait = True)\n",
    "        problem.env.render()\n",
    "        \n",
    "\n",
    "    return new_state"
   ]
  },
  {
   "cell_type": "code",
   "execution_count": 24,
   "id": "0effd955-5dca-445c-8b6d-0f50e90846c4",
   "metadata": {
    "slideshow": {
     "slide_type": "slide"
    },
    "tags": []
   },
   "outputs": [],
   "source": [
    "def find_and_run_plan(initial_state, methods, problem):\n",
    "    problem.set_state(initial_state)\n",
    "    # Find a plan\n",
    "    plan = GTPyhop.find_plan(initial_state, methods)\n",
    "    # run the plan in the environment and render the outcome\n",
    "    final_state = run_plan(initial_state,plan, GTPyhop.current_domain._action_dict, problem)\n",
    "    clear_output(wait = True)\n",
    "    taxiP.env.render()\n",
    "    return final_state, plan"
   ]
  },
  {
   "cell_type": "code",
   "execution_count": 25,
   "id": "329e4a24",
   "metadata": {
    "slideshow": {
     "slide_type": "slide"
    }
   },
   "outputs": [],
   "source": [
    "multie_taxi = GTPyhop.Domain(\"MultieTaxi\")\n",
    "\n",
    "define_actions()\n",
    "define_methods_v1()"
   ]
  },
  {
   "cell_type": "markdown",
   "id": "cbe94f49",
   "metadata": {
    "slideshow": {
     "slide_type": "slide"
    }
   },
   "source": [
    "### First try - finding a plan to go to location [5,5]"
   ]
  },
  {
   "cell_type": "code",
   "execution_count": 26,
   "id": "6a08f728-75e9-43df-b11a-83b0ca4646b6",
   "metadata": {
    "slideshow": {
     "slide_type": "subslide"
    },
    "tags": []
   },
   "outputs": [
    {
     "name": "stdout",
     "output_type": "stream",
     "text": [
      "+-----------------------+\n",
      "| : |F: | : | :\u001b[32m\u001b[33;1mD\u001b[0m\u001b[0m| : |F:\u001b[33;1mP\u001b[0m|\n",
      "| : | : : : | : | : | : |\n",
      "| : : : : : : : : : :\u001b[32m\u001b[37;1mD\u001b[0m\u001b[0m: |\n",
      "| : : : : : | : : : : : |\n",
      "| :\u001b[37;1mP\u001b[0m: : : : | : : : : : |\n",
      "| : :\u001b[31;1mP\u001b[0m: : :\u001b[43m_\u001b[0m: : : : : : |\n",
      "| | :G| |\u001b[32m\u001b[31;1mD\u001b[0m\u001b[0m| :G| | | : | |\n",
      "+-----------------------+\n",
      "Taxi0-YELLOW: Fuel: 1, Location: (5,5), Collided: False\n",
      "Passenger1: Location: (0, 11), Destination: (0, 7)\n",
      "Passenger2: Location: (5, 2), Destination: (6, 4)\n",
      "Passenger3: Location: (4, 1), Destination: (2, 10)\n",
      "Done: False, {'taxi_0': False, '__all__': False}\n",
      "Passengers Status's: [2, 2, 2]\n"
     ]
    },
    {
     "data": {
      "text/plain": [
       "([[[5, 5]],\n",
       "  [1],\n",
       "  [[0, 11], [5, 2], [4, 1]],\n",
       "  [[0, 7], [6, 4], [2, 10]],\n",
       "  [2, 2, 2]],\n",
       " [('drive', 'south', <__main__.TaxiProblem at 0x128566370>),\n",
       "  ('drive', 'north', <__main__.TaxiProblem at 0x128566370>),\n",
       "  ('drive', 'south', <__main__.TaxiProblem at 0x128566370>),\n",
       "  ('drive', 'north', <__main__.TaxiProblem at 0x128566370>),\n",
       "  ('drive', 'south', <__main__.TaxiProblem at 0x128566370>),\n",
       "  ('drive', 'north', <__main__.TaxiProblem at 0x128566370>),\n",
       "  ('drive', 'south', <__main__.TaxiProblem at 0x128566370>),\n",
       "  ('drive', 'north', <__main__.TaxiProblem at 0x128566370>),\n",
       "  ('drive', 'south', <__main__.TaxiProblem at 0x128566370>),\n",
       "  ('drive', 'north', <__main__.TaxiProblem at 0x128566370>),\n",
       "  ('drive', 'south', <__main__.TaxiProblem at 0x128566370>),\n",
       "  ('drive', 'north', <__main__.TaxiProblem at 0x128566370>),\n",
       "  ('drive', 'south', <__main__.TaxiProblem at 0x128566370>),\n",
       "  ('drive', 'north', <__main__.TaxiProblem at 0x128566370>),\n",
       "  ('drive', 'south', <__main__.TaxiProblem at 0x128566370>),\n",
       "  ('drive', 'north', <__main__.TaxiProblem at 0x128566370>),\n",
       "  ('drive', 'south', <__main__.TaxiProblem at 0x128566370>),\n",
       "  ('drive', 'north', <__main__.TaxiProblem at 0x128566370>),\n",
       "  ('drive', 'south', <__main__.TaxiProblem at 0x128566370>),\n",
       "  ('drive', 'north', <__main__.TaxiProblem at 0x128566370>),\n",
       "  ('drive', 'south', <__main__.TaxiProblem at 0x128566370>),\n",
       "  ('drive', 'north', <__main__.TaxiProblem at 0x128566370>),\n",
       "  ('drive', 'south', <__main__.TaxiProblem at 0x128566370>),\n",
       "  ('drive', 'north', <__main__.TaxiProblem at 0x128566370>),\n",
       "  ('drive', 'south', <__main__.TaxiProblem at 0x128566370>),\n",
       "  ('drive', 'north', <__main__.TaxiProblem at 0x128566370>),\n",
       "  ('drive', 'west', <__main__.TaxiProblem at 0x128566370>),\n",
       "  ('drive', 'west', <__main__.TaxiProblem at 0x128566370>),\n",
       "  ('drive', 'west', <__main__.TaxiProblem at 0x128566370>)])"
      ]
     },
     "execution_count": 26,
     "metadata": {},
     "output_type": "execute_result"
    }
   ],
   "source": [
    "taxiP.env.reset()\n",
    "find_and_run_plan(taxiP.get_state(), [(\"drive_to\", [5,5], taxiP)], taxiP)"
   ]
  },
  {
   "cell_type": "markdown",
   "id": "55445d33",
   "metadata": {
    "slideshow": {
     "slide_type": "skip"
    }
   },
   "source": [
    "What happend?\n",
    " * Question: Notice how most of the times the taxi reaches the end of its fuel tank, can you think of why?\n",
    " * Answer: Notice how at each taxi location the fuel can have a different value, making two states where the taxi is in the same location but the fuel level is different complitly different for the algorithm. combining with the DFS approch we expand the node of the search graphs by deepening it thus doing the same actions again and again until the fuel runs out."
   ]
  },
  {
   "cell_type": "markdown",
   "id": "3b8a25f9",
   "metadata": {
    "slideshow": {
     "slide_type": "slide"
    }
   },
   "source": [
    "### How to solve out of fuel problem?\n",
    " * using BFS to search the taxi location space only (with constant fuel level)\n",
    " * Notice each node can be defined by taxi location only making the state space very small (7x12)\n",
    " * using BFS we are guaranteed to to find the shortest path\n",
    " * notice how we used another algorithm here to solve the lower level task of driving to a given location - this can be applied to many areas, where lower level tasks can be sloved in a simple way."
   ]
  },
  {
   "cell_type": "code",
   "execution_count": 27,
   "id": "46000f19",
   "metadata": {
    "slideshow": {
     "slide_type": "slide"
    }
   },
   "outputs": [],
   "source": [
    "def bfs(state, coordinate, problem):\n",
    "    coordinate = tuple(coordinate)\n",
    "    visited_states = set()\n",
    "    current_location = tuple(TaxiProblem.get_taxi_position(state))\n",
    "    visited_states.add(current_location)\n",
    "\n",
    "    queue = [(state, [])]\n",
    "    while len(queue)>0:\n",
    "        current_state, plan = queue.pop(0)\n",
    "        current_location = tuple(TaxiProblem.get_taxi_position(current_state))\n",
    "        #NOTICE: resets fuel to full to evoid going to the same location twice\n",
    "        for next_state, action  in problem.get_infinite_fuel_driving_succesors(current_state):\n",
    "            next_location = TaxiProblem.get_taxi_position(next_state)\n",
    "            if tuple(coordinate)==tuple(next_location):\n",
    "                return plan + [action]\n",
    "            else:\n",
    "                if tuple(next_location) not in visited_states:\n",
    "                    visited_states.add(tuple(next_location))\n",
    "                    queue.append((next_state,plan+[action]))"
   ]
  },
  {
   "cell_type": "code",
   "execution_count": 28,
   "id": "4c2508db",
   "metadata": {
    "slideshow": {
     "slide_type": "slide"
    }
   },
   "outputs": [],
   "source": [
    "def drive_to_shortest_path(state, coordinate, problem):\n",
    "    shortest_path = [(\"drive\", direction, problem) for direction in bfs(state, coordinate, problem)]\n",
    "    return shortest_path"
   ]
  },
  {
   "cell_type": "markdown",
   "id": "6f7b38b2",
   "metadata": {
    "slideshow": {
     "slide_type": "slide"
    }
   },
   "source": [
    "### The whole picture, defining what it is to be a taxi driver:"
   ]
  },
  {
   "cell_type": "code",
   "execution_count": 29,
   "id": "81b9a43e-55f4-490a-a042-7d5e4ba313a5",
   "metadata": {
    "slideshow": {
     "slide_type": "fragment"
    }
   },
   "outputs": [],
   "source": [
    "def drive_to_waiting_passanger(state, problem, passanger_idx):\n",
    "    passenger = TaxiProblem.get_passengers_data(state)[passanger_idx]\n",
    "    if passenger.is_waiting_for_taxi:\n",
    "        return [(\"drive_to\",[passenger.row,passenger.col], problem)]\n",
    "    "
   ]
  },
  {
   "cell_type": "code",
   "execution_count": 30,
   "id": "47f37bac-8c7a-41ed-996d-561a6cdc969b",
   "metadata": {
    "slideshow": {
     "slide_type": "subslide"
    }
   },
   "outputs": [],
   "source": [
    "def define_drive_to_waiting_passanger():\n",
    "    drive_to_waiting_passanger_methods = [partial(drive_to_waiting_passanger, passanger_idx = i) for i in range(3)]\n",
    "    GTPyhop.declare_task_methods(\"drive_to_waiting_passanger\", *drive_to_waiting_passanger_methods)"
   ]
  },
  {
   "cell_type": "code",
   "execution_count": 31,
   "id": "5050b836-a9b5-494b-bdf2-30601ac5484f",
   "metadata": {
    "slideshow": {
     "slide_type": "subslide"
    }
   },
   "outputs": [],
   "source": [
    "def pickup_passanger(state, problem):\n",
    "    passenger_data = TaxiProblem.get_passengers_data(state)\n",
    "    ### optimize by picking the closest passanger\n",
    "    return [(\"drive_to_waiting_passanger\",problem),(\"pickup\", problem)]"
   ]
  },
  {
   "cell_type": "code",
   "execution_count": 32,
   "id": "115a9945-3cb5-4a08-99c4-bf64af58902f",
   "metadata": {
    "slideshow": {
     "slide_type": "subslide"
    }
   },
   "outputs": [],
   "source": [
    "def fuel_at_station(state,problem, fuel_station_coordinate):\n",
    "    return [(\"drive_to\", fuel_station_coordinate,problem),(\"refuel\",problem)]"
   ]
  },
  {
   "cell_type": "code",
   "execution_count": 33,
   "id": "76a8a899-7aca-4945-b81c-89dcf795e7ee",
   "metadata": {
    "slideshow": {
     "slide_type": "subslide"
    }
   },
   "outputs": [],
   "source": [
    "\n",
    "def define_drive_to_fuel_method():\n",
    "    fuel_statation_locations = [[0,2],[0,10]]\n",
    "    fuel_station_methods = [partial(fuel_at_station, fuel_station_coordinate=coordinate) for coordinate in fuel_statation_locations]\n",
    "    GTPyhop.declare_task_methods(\"fuel_at_station\", *fuel_station_methods)"
   ]
  },
  {
   "cell_type": "code",
   "execution_count": 34,
   "id": "4178feea-7005-49c8-b0d5-cdd78e637e66",
   "metadata": {
    "slideshow": {
     "slide_type": "subslide"
    }
   },
   "outputs": [],
   "source": [
    "def drive_to_fuel_method(state, problem):\n",
    "    return [(\"fuel_at_station\",problem)]"
   ]
  },
  {
   "cell_type": "code",
   "execution_count": 35,
   "id": "2d693dec-e0f3-4029-aa0e-23f583be3b3c",
   "metadata": {
    "slideshow": {
     "slide_type": "slide"
    }
   },
   "outputs": [],
   "source": [
    "def drive_and_drop_passanger_i(state, problem, passanger_idx):\n",
    "    passenger = TaxiProblem.get_passengers_data(state)[passanger_idx]\n",
    "    return [(\"drive_to\", [passenger.dest_row,passenger.dest_col], problem), (\"drop_passanger\",passanger_idx,problem)]"
   ]
  },
  {
   "cell_type": "code",
   "execution_count": 36,
   "id": "0819e66a-562a-40c0-a29f-7d0476ccd76a",
   "metadata": {
    "slideshow": {
     "slide_type": "slide"
    }
   },
   "outputs": [],
   "source": [
    "def define_drop_passanger_method():\n",
    "    drive_and_drop_passanger_methods = [partial(drive_and_drop_passanger_i, passanger_idx = i) for i in range(3)]\n",
    "    GTPyhop.declare_task_methods(\"drive_passanger_and_drop\", *drive_and_drop_passanger_methods)"
   ]
  },
  {
   "cell_type": "code",
   "execution_count": 37,
   "id": "6ccb5441-6c6a-45c6-9209-97f9cb9ecc8e",
   "metadata": {
    "slideshow": {
     "slide_type": "skip"
    }
   },
   "outputs": [],
   "source": [
    "def drive_passanger_and_drop(state, problem):\n",
    "    return [(\"drive_passanger_and_drop\", problem)]"
   ]
  },
  {
   "cell_type": "code",
   "execution_count": 38,
   "id": "867bf7a8-61a0-4fcf-a39c-bdac0c10af5b",
   "metadata": {
    "slideshow": {
     "slide_type": "skip"
    }
   },
   "outputs": [],
   "source": [
    "def all_passangers_down(state):\n",
    "    passenger_data = TaxiProblem.get_passengers_data(state)\n",
    "    done = True\n",
    "    for passanger in passenger_data:\n",
    "        if not passanger.is_arrived:\n",
    "            done = False\n",
    "        \n",
    "    return done"
   ]
  },
  {
   "cell_type": "code",
   "execution_count": 39,
   "id": "e0c9e97b-0db1-417b-887e-f08d60fb1583",
   "metadata": {
    "slideshow": {
     "slide_type": "slide"
    }
   },
   "outputs": [],
   "source": [
    "def define_do_taxi_methods():\n",
    "    GTPyhop.declare_task_methods(\n",
    "        \"do_taxi_methods\",\n",
    "        pickup_passanger,\n",
    "        drive_passanger_and_drop,\n",
    "        drive_to_fuel_method)"
   ]
  },
  {
   "cell_type": "markdown",
   "id": "bda62480",
   "metadata": {
    "slideshow": {
     "slide_type": "skip"
    }
   },
   "source": [
    "This is the heighst level of heirarchy. \n",
    "* First we check if all passagers are down we are done\n",
    "* Else we do a high level taxi method then recursivly return to \"Be a taxi driver\" "
   ]
  },
  {
   "cell_type": "code",
   "execution_count": 40,
   "id": "8d33570c-7f93-4dc9-a631-59f94b89b13f",
   "metadata": {
    "slideshow": {
     "slide_type": "slide"
    }
   },
   "outputs": [],
   "source": [
    "def be_taxi_driver(state, problem):\n",
    "    if all_passangers_down(state):\n",
    "        return []\n",
    "    else:\n",
    "        return [(\"do_taxi_methods\",problem),(\"be_taxi_driver\", problem)]"
   ]
  },
  {
   "cell_type": "code",
   "execution_count": 41,
   "id": "6a02fca1-15a4-45e3-af63-3678c9108be9",
   "metadata": {
    "slideshow": {
     "slide_type": "slide"
    }
   },
   "outputs": [],
   "source": [
    "def define_methods_v2():\n",
    "    GTPyhop.declare_task_methods(\"drive_to\", drive_to_shortest_path)\n",
    "    \n",
    "    define_drive_to_waiting_passanger()\n",
    "    GTPyhop.declare_task_methods(\"pickup_passanger\", pickup_passanger)\n",
    "    define_drive_to_fuel_method()\n",
    "    define_drop_passanger_method()\n",
    "    define_do_taxi_methods()\n",
    "    GTPyhop.declare_task_methods(\"be_taxi_driver\", be_taxi_driver)"
   ]
  },
  {
   "cell_type": "markdown",
   "id": "ac8fc77a",
   "metadata": {
    "slideshow": {
     "slide_type": "slide"
    }
   },
   "source": [
    "# Lets test our heirarchical planner!"
   ]
  },
  {
   "cell_type": "code",
   "execution_count": 42,
   "id": "8d902f7d-9a5a-40c8-9d13-b78e55287a30",
   "metadata": {
    "slideshow": {
     "slide_type": "slide"
    }
   },
   "outputs": [],
   "source": [
    "# Define the domain, actions and methods\n",
    "GTPyhop.Domain(\"MultiTaxiv2\")\n",
    "define_actions()\n",
    "define_methods_v2()"
   ]
  },
  {
   "cell_type": "code",
   "execution_count": 43,
   "id": "30d90b01-b917-48af-bca9-afe2984da0d8",
   "metadata": {
    "slideshow": {
     "slide_type": "slide"
    }
   },
   "outputs": [
    {
     "name": "stdout",
     "output_type": "stream",
     "text": [
      "+-----------------------+\n",
      "|\u001b[43m_\u001b[0m: |F: | :\u001b[37;1mP\u001b[0m| : | : |F: |\n",
      "| : | : : :\u001b[31;1mP\u001b[0m| : | : | : |\n",
      "| : : : : : : :\u001b[33;1mP\u001b[0m: : : :\u001b[32m\u001b[31;1mD\u001b[0m\u001b[0m|\n",
      "| : :\u001b[32m\u001b[37;1mD\u001b[0m\u001b[0m: : : | : : : : : |\n",
      "| : : : : : | :\u001b[32m\u001b[33;1mD\u001b[0m\u001b[0m: : : : |\n",
      "| : : : : : : : : : : : |\n",
      "| | :G| | | :G| | | : | |\n",
      "+-----------------------+\n",
      "Taxi0-YELLOW: Fuel: 17, Location: (0,0), Collided: False\n",
      "Passenger1: Location: (2, 7), Destination: (4, 7)\n",
      "Passenger2: Location: (1, 5), Destination: (2, 11)\n",
      "Passenger3: Location: (0, 5), Destination: (3, 2)\n",
      "Done: False, {'taxi_0': False, '__all__': False}\n",
      "Passengers Status's: [2, 2, 2]\n"
     ]
    },
    {
     "data": {
      "text/plain": [
       "([[[0, 0]],\n",
       "  [17],\n",
       "  [[2, 7], [1, 5], [0, 5]],\n",
       "  [[4, 7], [2, 11], [3, 2]],\n",
       "  [2, 2, 2]],\n",
       " [('drive', 'west', <__main__.TaxiProblem at 0x128566370>),\n",
       "  ('drive', 'west', <__main__.TaxiProblem at 0x128566370>),\n",
       "  ('drive', 'west', <__main__.TaxiProblem at 0x128566370>),\n",
       "  ('drive', 'north', <__main__.TaxiProblem at 0x128566370>),\n",
       "  ('drive', 'north', <__main__.TaxiProblem at 0x128566370>),\n",
       "  ('drive', 'west', <__main__.TaxiProblem at 0x128566370>),\n",
       "  ('drive', 'west', <__main__.TaxiProblem at 0x128566370>),\n",
       "  ('drive', 'west', <__main__.TaxiProblem at 0x128566370>),\n",
       "  ('drive', 'west', <__main__.TaxiProblem at 0x128566370>),\n",
       "  ('drive', 'west', <__main__.TaxiProblem at 0x128566370>),\n",
       "  ('drive', 'west', <__main__.TaxiProblem at 0x128566370>),\n",
       "  ('drive', 'north', <__main__.TaxiProblem at 0x128566370>),\n",
       "  ('drive', 'north', <__main__.TaxiProblem at 0x128566370>)])"
      ]
     },
     "execution_count": 43,
     "metadata": {},
     "output_type": "execute_result"
    }
   ],
   "source": [
    "taxiP.env.reset()\n",
    "find_and_run_plan(taxiP.get_state(),[(\"drive_to\", [0,0], taxiP)], taxiP)"
   ]
  },
  {
   "cell_type": "code",
   "execution_count": 44,
   "id": "9adcfb34-cfe3-46ff-9808-8d37048f767a",
   "metadata": {
    "lines_to_next_cell": 0,
    "slideshow": {
     "slide_type": "slide"
    }
   },
   "outputs": [
    {
     "name": "stdout",
     "output_type": "stream",
     "text": [
      "+-----------------------+\n",
      "| : |F:\u001b[43m\u001b[33;1mP\u001b[0m\u001b[0m| : | : | : |F: |\n",
      "| : | : : : | : | : | : |\n",
      "| : :\u001b[31;1mP\u001b[0m: : : : : : : :\u001b[32m\u001b[31;1mD\u001b[0m\u001b[0m: |\n",
      "| : : : : : |\u001b[32m\u001b[37;1mD\u001b[0m\u001b[0m: : : : : |\n",
      "| :\u001b[37;1mP\u001b[0m: : : : | : : : : : |\n",
      "| : : : : : : : : : : : |\n",
      "| | :G| | | :G| |\u001b[32m\u001b[33;1mD\u001b[0m\u001b[0m| : | |\n",
      "+-----------------------+\n",
      "Taxi0-YELLOW: Fuel: 26, Location: (0,3), Collided: False\n",
      "Passenger1: Location: (0, 3), Destination: (6, 8)\n",
      "Passenger2: Location: (2, 2), Destination: (2, 10)\n",
      "Passenger3: Location: (4, 1), Destination: (3, 6)\n",
      "Done: False, {'taxi_0': False, '__all__': False}\n",
      "Passengers Status's: [2, 2, 2]\n"
     ]
    },
    {
     "data": {
      "text/plain": [
       "([[[0, 3]],\n",
       "  [26],\n",
       "  [[0, 3], [2, 2], [4, 1]],\n",
       "  [[6, 8], [2, 10], [3, 6]],\n",
       "  [2, 2, 2]],\n",
       " [('drive', 'north', <__main__.TaxiProblem at 0x128566370>),\n",
       "  ('drive', 'north', <__main__.TaxiProblem at 0x128566370>),\n",
       "  ('drive', 'north', <__main__.TaxiProblem at 0x128566370>),\n",
       "  ('drive', 'north', <__main__.TaxiProblem at 0x128566370>)])"
      ]
     },
     "execution_count": 44,
     "metadata": {},
     "output_type": "execute_result"
    }
   ],
   "source": [
    "taxiP.env.reset()\n",
    "find_and_run_plan(taxiP.get_state(),[(\"drive_to_waiting_passanger\", taxiP)], taxiP)"
   ]
  },
  {
   "cell_type": "code",
   "execution_count": null,
   "id": "37776b43-d949-4fd8-8974-de98c333b37a",
   "metadata": {
    "lines_to_next_cell": 2
   },
   "outputs": [],
   "source": []
  },
  {
   "cell_type": "code",
   "execution_count": 45,
   "id": "42f6a172-da53-439e-be7d-788ade055aa2",
   "metadata": {
    "slideshow": {
     "slide_type": "slide"
    }
   },
   "outputs": [
    {
     "name": "stdout",
     "output_type": "stream",
     "text": [
      "+-----------------------+\n",
      "| :\u001b[33;1mP\u001b[0m|\u001b[43mF\u001b[0m: | : | : | : |F: |\n",
      "| : | : : : | : | : | : |\n",
      "|\u001b[32m\u001b[33;1mD\u001b[0m\u001b[0m: : : : : : : : : : : |\n",
      "| : : : : : | : : :\u001b[37;1mP\u001b[0m: : |\n",
      "|\u001b[32m\u001b[31;1mD\u001b[0m\u001b[0m: : : : : | : :\u001b[32m\u001b[37;1mD\u001b[0m\u001b[0m: : : |\n",
      "| : : : : : : : : : : : |\n",
      "| | :\u001b[31;1mP\u001b[0m| | | :G| | | : | |\n",
      "+-----------------------+\n",
      "Taxi0-YELLOW: Fuel: 30, Location: (0,2), Collided: False\n",
      "Passenger1: Location: (0, 1), Destination: (2, 0)\n",
      "Passenger2: Location: (6, 2), Destination: (4, 0)\n",
      "Passenger3: Location: (3, 9), Destination: (4, 8)\n",
      "Done: False, {'taxi_0': False, '__all__': False}\n",
      "Passengers Status's: [2, 2, 2]\n"
     ]
    },
    {
     "data": {
      "text/plain": [
       "([[[0, 2]],\n",
       "  [30],\n",
       "  [[0, 1], [6, 2], [3, 9]],\n",
       "  [[2, 0], [4, 0], [4, 8]],\n",
       "  [2, 2, 2]],\n",
       " [('drive', 'south', <__main__.TaxiProblem at 0x128566370>),\n",
       "  ('drive', 'west', <__main__.TaxiProblem at 0x128566370>),\n",
       "  ('drive', 'west', <__main__.TaxiProblem at 0x128566370>),\n",
       "  ('drive', 'west', <__main__.TaxiProblem at 0x128566370>),\n",
       "  ('drive', 'west', <__main__.TaxiProblem at 0x128566370>),\n",
       "  ('drive', 'north', <__main__.TaxiProblem at 0x128566370>),\n",
       "  ('drive', 'north', <__main__.TaxiProblem at 0x128566370>),\n",
       "  ('refuel', <__main__.TaxiProblem at 0x128566370>)])"
      ]
     },
     "execution_count": 45,
     "metadata": {},
     "output_type": "execute_result"
    }
   ],
   "source": [
    "taxiP.env.reset()\n",
    "initial_state = taxiP.get_state()\n",
    "find_and_run_plan(taxiP.get_state(),[(\"fuel_at_station\", taxiP)], taxiP)"
   ]
  },
  {
   "cell_type": "code",
   "execution_count": 46,
   "id": "6d933bcc-6914-4d26-aee9-9b68b12cfeaf",
   "metadata": {
    "slideshow": {
     "slide_type": "slide"
    }
   },
   "outputs": [
    {
     "name": "stdout",
     "output_type": "stream",
     "text": [
      "+-----------------------+\n",
      "| :\u001b[33;1mP\u001b[0m|F: | : | : | : |F: |\n",
      "| : | : : : | : | : | : |\n",
      "|\u001b[32m\u001b[43m\u001b[33;1mD\u001b[0m\u001b[0m\u001b[0m: : : : : : : : : : : |\n",
      "| : : : : : | : : :\u001b[37;1mP\u001b[0m: : |\n",
      "|\u001b[32m\u001b[31;1mD\u001b[0m\u001b[0m: : : : : | : :\u001b[32m\u001b[37;1mD\u001b[0m\u001b[0m: : : |\n",
      "| : : : : : : : : : : : |\n",
      "| | :\u001b[31;1mP\u001b[0m| | | :G| | | : | |\n",
      "+-----------------------+\n",
      "Taxi0-YELLOW: Fuel: 22, Location: (2,0), Collided: False\n",
      "Passenger1: Location: Arrived!, Destination: (2, 0)\n",
      "Passenger2: Location: (6, 2), Destination: (4, 0)\n",
      "Passenger3: Location: (3, 9), Destination: (4, 8)\n",
      "Done: False, {'taxi_0': False, '__all__': False}\n",
      "Passengers Status's: [1, 2, 2]\n"
     ]
    },
    {
     "data": {
      "text/plain": [
       "([[[2, 0]],\n",
       "  [22],\n",
       "  [[0, 1], [6, 2], [3, 9]],\n",
       "  [[2, 0], [4, 0], [4, 8]],\n",
       "  [1, 2, 2]],\n",
       " [('drive', 'south', <__main__.TaxiProblem at 0x128566370>),\n",
       "  ('drive', 'south', <__main__.TaxiProblem at 0x128566370>),\n",
       "  ('drive', 'west', <__main__.TaxiProblem at 0x128566370>),\n",
       "  ('drive', 'north', <__main__.TaxiProblem at 0x128566370>),\n",
       "  ('drive', 'north', <__main__.TaxiProblem at 0x128566370>),\n",
       "  ('pickup', <__main__.TaxiProblem at 0x128566370>),\n",
       "  ('drive', 'south', <__main__.TaxiProblem at 0x128566370>),\n",
       "  ('drive', 'south', <__main__.TaxiProblem at 0x128566370>),\n",
       "  ('drive', 'west', <__main__.TaxiProblem at 0x128566370>),\n",
       "  ('drop_passanger', 0, <__main__.TaxiProblem at 0x128566370>)])"
      ]
     },
     "execution_count": 46,
     "metadata": {},
     "output_type": "execute_result"
    }
   ],
   "source": [
    "find_and_run_plan(taxiP.get_state(),[(\"pickup_passanger\", taxiP),(\"drive_passanger_and_drop\", taxiP)], taxiP)"
   ]
  },
  {
   "cell_type": "code",
   "execution_count": 47,
   "id": "492df86f-f91c-4f2f-bcfc-d103951f260b",
   "metadata": {
    "slideshow": {
     "slide_type": "slide"
    }
   },
   "outputs": [
    {
     "name": "stdout",
     "output_type": "stream",
     "text": [
      "+-----------------------+\n",
      "| : |F: | :\u001b[37;1mP\u001b[0m| : | : |F: |\n",
      "|\u001b[32m\u001b[33;1mD\u001b[0m\u001b[0m: | : : : | : | : | :\u001b[32m\u001b[43m\u001b[37;1mD\u001b[0m\u001b[0m\u001b[0m|\n",
      "| : : : : : : :\u001b[32m\u001b[31;1mD\u001b[0m\u001b[0m:\u001b[33;1mP\u001b[0m: : : |\n",
      "| : : : : : | : : : : : |\n",
      "| : : : : : | : : : : : |\n",
      "| :\u001b[31;1mP\u001b[0m: : : : : : : : : : |\n",
      "| | :G| | | :G| | | : | |\n",
      "+-----------------------+\n",
      "Taxi0-YELLOW: Fuel: 12, Location: (1,11), Collided: False\n",
      "Passenger1: Location: Arrived!, Destination: (1, 0)\n",
      "Passenger2: Location: Arrived!, Destination: (2, 7)\n",
      "Passenger3: Location: Arrived!, Destination: (1, 11)\n",
      "Done: False, {'taxi_0': False, '__all__': False}\n",
      "Passengers Status's: [1, 1, 1]\n"
     ]
    },
    {
     "data": {
      "text/plain": [
       "([[[1, 11]],\n",
       "  [12],\n",
       "  [[2, 8], [5, 1], [0, 5]],\n",
       "  [[1, 0], [2, 7], [1, 11]],\n",
       "  [1, 1, 1]],\n",
       " [('drive', 'east', <__main__.TaxiProblem at 0x128566370>),\n",
       "  ('drive', 'east', <__main__.TaxiProblem at 0x128566370>),\n",
       "  ('drive', 'east', <__main__.TaxiProblem at 0x128566370>),\n",
       "  ('drive', 'east', <__main__.TaxiProblem at 0x128566370>),\n",
       "  ('drive', 'east', <__main__.TaxiProblem at 0x128566370>),\n",
       "  ('drive', 'east', <__main__.TaxiProblem at 0x128566370>),\n",
       "  ('pickup', <__main__.TaxiProblem at 0x128566370>),\n",
       "  ('drive', 'south', <__main__.TaxiProblem at 0x128566370>),\n",
       "  ('drive', 'south', <__main__.TaxiProblem at 0x128566370>),\n",
       "  ('drive', 'south', <__main__.TaxiProblem at 0x128566370>),\n",
       "  ('drive', 'west', <__main__.TaxiProblem at 0x128566370>),\n",
       "  ('drive', 'west', <__main__.TaxiProblem at 0x128566370>),\n",
       "  ('drive', 'west', <__main__.TaxiProblem at 0x128566370>),\n",
       "  ('drive', 'west', <__main__.TaxiProblem at 0x128566370>),\n",
       "  ('drive', 'west', <__main__.TaxiProblem at 0x128566370>),\n",
       "  ('drive', 'west', <__main__.TaxiProblem at 0x128566370>),\n",
       "  ('drive', 'west', <__main__.TaxiProblem at 0x128566370>),\n",
       "  ('pickup', <__main__.TaxiProblem at 0x128566370>),\n",
       "  ('drive', 'east', <__main__.TaxiProblem at 0x128566370>),\n",
       "  ('drive', 'east', <__main__.TaxiProblem at 0x128566370>),\n",
       "  ('drive', 'east', <__main__.TaxiProblem at 0x128566370>),\n",
       "  ('drive', 'east', <__main__.TaxiProblem at 0x128566370>),\n",
       "  ('drive', 'north', <__main__.TaxiProblem at 0x128566370>),\n",
       "  ('drive', 'north', <__main__.TaxiProblem at 0x128566370>),\n",
       "  ('drive', 'north', <__main__.TaxiProblem at 0x128566370>),\n",
       "  ('drive', 'north', <__main__.TaxiProblem at 0x128566370>),\n",
       "  ('drive', 'north', <__main__.TaxiProblem at 0x128566370>),\n",
       "  ('pickup', <__main__.TaxiProblem at 0x128566370>),\n",
       "  ('drive', 'south', <__main__.TaxiProblem at 0x128566370>),\n",
       "  ('drive', 'west', <__main__.TaxiProblem at 0x128566370>),\n",
       "  ('drive', 'west', <__main__.TaxiProblem at 0x128566370>),\n",
       "  ('drive', 'west', <__main__.TaxiProblem at 0x128566370>),\n",
       "  ('drive', 'north', <__main__.TaxiProblem at 0x128566370>),\n",
       "  ('refuel', <__main__.TaxiProblem at 0x128566370>),\n",
       "  ('drive', 'south', <__main__.TaxiProblem at 0x128566370>),\n",
       "  ('drive', 'south', <__main__.TaxiProblem at 0x128566370>),\n",
       "  ('drive', 'west', <__main__.TaxiProblem at 0x128566370>),\n",
       "  ('drive', 'west', <__main__.TaxiProblem at 0x128566370>),\n",
       "  ('drive', 'north', <__main__.TaxiProblem at 0x128566370>),\n",
       "  ('drop_passanger', 0, <__main__.TaxiProblem at 0x128566370>),\n",
       "  ('drive', 'south', <__main__.TaxiProblem at 0x128566370>),\n",
       "  ('drive', 'east', <__main__.TaxiProblem at 0x128566370>),\n",
       "  ('drive', 'east', <__main__.TaxiProblem at 0x128566370>),\n",
       "  ('drive', 'east', <__main__.TaxiProblem at 0x128566370>),\n",
       "  ('drive', 'east', <__main__.TaxiProblem at 0x128566370>),\n",
       "  ('drive', 'east', <__main__.TaxiProblem at 0x128566370>),\n",
       "  ('drive', 'east', <__main__.TaxiProblem at 0x128566370>),\n",
       "  ('drive', 'east', <__main__.TaxiProblem at 0x128566370>),\n",
       "  ('drop_passanger', 1, <__main__.TaxiProblem at 0x128566370>),\n",
       "  ('drive', 'east', <__main__.TaxiProblem at 0x128566370>),\n",
       "  ('drive', 'east', <__main__.TaxiProblem at 0x128566370>),\n",
       "  ('drive', 'east', <__main__.TaxiProblem at 0x128566370>),\n",
       "  ('drive', 'east', <__main__.TaxiProblem at 0x128566370>),\n",
       "  ('drive', 'north', <__main__.TaxiProblem at 0x128566370>),\n",
       "  ('drop_passanger', 2, <__main__.TaxiProblem at 0x128566370>)])"
      ]
     },
     "execution_count": 47,
     "metadata": {},
     "output_type": "execute_result"
    }
   ],
   "source": [
    "taxiP.env.reset()\n",
    "find_and_run_plan(taxiP.get_state(),[(\"be_taxi_driver\", taxiP)], taxiP)"
   ]
  },
  {
   "cell_type": "markdown",
   "id": "58d4b628",
   "metadata": {
    "slideshow": {
     "slide_type": "slide"
    }
   },
   "source": [
    "### Questions?"
   ]
  }
 ],
 "metadata": {
  "celltoolbar": "Slideshow",
  "jupytext": {
   "formats": "ipynb,py:light"
  },
  "kernelspec": {
   "display_name": "Python 3 (ipykernel)",
   "language": "python",
   "name": "python3"
  },
  "language_info": {
   "codemirror_mode": {
    "name": "ipython",
    "version": 3
   },
   "file_extension": ".py",
   "mimetype": "text/x-python",
   "name": "python",
   "nbconvert_exporter": "python",
   "pygments_lexer": "ipython3",
   "version": "3.9.12"
  }
 },
 "nbformat": 4,
 "nbformat_minor": 5
}
